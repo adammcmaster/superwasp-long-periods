{
 "cells": [
  {
   "cell_type": "code",
   "execution_count": 1,
   "metadata": {},
   "outputs": [],
   "source": [
    "import swasputils"
   ]
  },
  {
   "cell_type": "code",
   "execution_count": 2,
   "metadata": {},
   "outputs": [
    {
     "name": "stderr",
     "output_type": "stream",
     "text": [
      "C:\\Users\\anm83\\Anaconda3\\lib\\site-packages\\IPython\\core\\interactiveshell.py:3263: DtypeWarning: Columns (7,8) have mixed types.Specify dtype option on import or set low_memory=False.\n",
      "  if (await self.run_code(code, result,  async_=asy)):\n"
     ]
    }
   ],
   "source": [
    "objects = swasputils.load_objects()\n",
    "zoo_lookup = swasputils.load_lookup()\n",
    "zoo_subjects = swasputils.load_zoo_subjects()"
   ]
  },
  {
   "cell_type": "code",
   "execution_count": 3,
   "metadata": {},
   "outputs": [
    {
     "data": {
      "text/html": [
       "<div>\n",
       "<style scoped>\n",
       "    .dataframe tbody tr th:only-of-type {\n",
       "        vertical-align: middle;\n",
       "    }\n",
       "\n",
       "    .dataframe tbody tr th {\n",
       "        vertical-align: top;\n",
       "    }\n",
       "\n",
       "    .dataframe thead th {\n",
       "        text-align: right;\n",
       "    }\n",
       "</style>\n",
       "<table border=\"1\" class=\"dataframe\">\n",
       "  <thead>\n",
       "    <tr style=\"text-align: right;\">\n",
       "      <th></th>\n",
       "      <th>Camera Number</th>\n",
       "      <th>Period Number</th>\n",
       "      <th>Period</th>\n",
       "      <th>Sigma</th>\n",
       "      <th>Chi Squared</th>\n",
       "      <th>Period Flag</th>\n",
       "      <th>SWASP ID</th>\n",
       "    </tr>\n",
       "  </thead>\n",
       "  <tbody>\n",
       "    <tr>\n",
       "      <th>4377263</th>\n",
       "      <td>300</td>\n",
       "      <td>1</td>\n",
       "      <td>13461621.0</td>\n",
       "      <td>8.68</td>\n",
       "      <td>842.23</td>\n",
       "      <td>0</td>\n",
       "      <td>1SWASPJ131008.68-475114.1</td>\n",
       "    </tr>\n",
       "    <tr>\n",
       "      <th>580398</th>\n",
       "      <td>300</td>\n",
       "      <td>1</td>\n",
       "      <td>19336984.0</td>\n",
       "      <td>8.65</td>\n",
       "      <td>1220.21</td>\n",
       "      <td>0</td>\n",
       "      <td>1SWASPJ011755.81+413200.5</td>\n",
       "    </tr>\n",
       "    <tr>\n",
       "      <th>715144</th>\n",
       "      <td>300</td>\n",
       "      <td>3</td>\n",
       "      <td>8956252.0</td>\n",
       "      <td>8.36</td>\n",
       "      <td>4002.96</td>\n",
       "      <td>0</td>\n",
       "      <td>1SWASPJ013608.57-351110.2</td>\n",
       "    </tr>\n",
       "    <tr>\n",
       "      <th>550816</th>\n",
       "      <td>300</td>\n",
       "      <td>1</td>\n",
       "      <td>19445824.0</td>\n",
       "      <td>8.34</td>\n",
       "      <td>1358.22</td>\n",
       "      <td>0</td>\n",
       "      <td>1SWASPJ011441.88+375319.0</td>\n",
       "    </tr>\n",
       "    <tr>\n",
       "      <th>4430158</th>\n",
       "      <td>300</td>\n",
       "      <td>1</td>\n",
       "      <td>11878545.0</td>\n",
       "      <td>8.33</td>\n",
       "      <td>1404.73</td>\n",
       "      <td>0</td>\n",
       "      <td>1SWASPJ132232.57-480843.2</td>\n",
       "    </tr>\n",
       "    <tr>\n",
       "      <th>...</th>\n",
       "      <td>...</td>\n",
       "      <td>...</td>\n",
       "      <td>...</td>\n",
       "      <td>...</td>\n",
       "      <td>...</td>\n",
       "      <td>...</td>\n",
       "      <td>...</td>\n",
       "    </tr>\n",
       "    <tr>\n",
       "      <th>544819</th>\n",
       "      <td>300</td>\n",
       "      <td>1</td>\n",
       "      <td>19293998.0</td>\n",
       "      <td>7.78</td>\n",
       "      <td>487.46</td>\n",
       "      <td>0</td>\n",
       "      <td>1SWASPJ011405.13+372653.3</td>\n",
       "    </tr>\n",
       "    <tr>\n",
       "      <th>6996148</th>\n",
       "      <td>300</td>\n",
       "      <td>1</td>\n",
       "      <td>14053492.0</td>\n",
       "      <td>7.78</td>\n",
       "      <td>1404.71</td>\n",
       "      <td>0</td>\n",
       "      <td>1SWASPJ220345.09-593240.0</td>\n",
       "    </tr>\n",
       "    <tr>\n",
       "      <th>7429694</th>\n",
       "      <td>300</td>\n",
       "      <td>1</td>\n",
       "      <td>10366868.0</td>\n",
       "      <td>7.77</td>\n",
       "      <td>377.10</td>\n",
       "      <td>0</td>\n",
       "      <td>1SWASPJ234813.12+073856.7</td>\n",
       "    </tr>\n",
       "    <tr>\n",
       "      <th>528464</th>\n",
       "      <td>300</td>\n",
       "      <td>1</td>\n",
       "      <td>19446520.0</td>\n",
       "      <td>7.77</td>\n",
       "      <td>817.90</td>\n",
       "      <td>0</td>\n",
       "      <td>1SWASPJ011226.53+375506.2</td>\n",
       "    </tr>\n",
       "    <tr>\n",
       "      <th>18882</th>\n",
       "      <td>300</td>\n",
       "      <td>2</td>\n",
       "      <td>12582326.0</td>\n",
       "      <td>7.77</td>\n",
       "      <td>2510.09</td>\n",
       "      <td>0</td>\n",
       "      <td>1SWASPJ000614.19-324858.8</td>\n",
       "    </tr>\n",
       "  </tbody>\n",
       "</table>\n",
       "<p>100 rows × 7 columns</p>\n",
       "</div>"
      ],
      "text/plain": [
       "         Camera Number  Period Number      Period  Sigma  Chi Squared  \\\n",
       "4377263            300              1  13461621.0   8.68       842.23   \n",
       "580398             300              1  19336984.0   8.65      1220.21   \n",
       "715144             300              3   8956252.0   8.36      4002.96   \n",
       "550816             300              1  19445824.0   8.34      1358.22   \n",
       "4430158            300              1  11878545.0   8.33      1404.73   \n",
       "...                ...            ...         ...    ...          ...   \n",
       "544819             300              1  19293998.0   7.78       487.46   \n",
       "6996148            300              1  14053492.0   7.78      1404.71   \n",
       "7429694            300              1  10366868.0   7.77       377.10   \n",
       "528464             300              1  19446520.0   7.77       817.90   \n",
       "18882              300              2  12582326.0   7.77      2510.09   \n",
       "\n",
       "         Period Flag                   SWASP ID  \n",
       "4377263            0  1SWASPJ131008.68-475114.1  \n",
       "580398             0  1SWASPJ011755.81+413200.5  \n",
       "715144             0  1SWASPJ013608.57-351110.2  \n",
       "550816             0  1SWASPJ011441.88+375319.0  \n",
       "4430158            0  1SWASPJ132232.57-480843.2  \n",
       "...              ...                        ...  \n",
       "544819             0  1SWASPJ011405.13+372653.3  \n",
       "6996148            0  1SWASPJ220345.09-593240.0  \n",
       "7429694            0  1SWASPJ234813.12+073856.7  \n",
       "528464             0  1SWASPJ011226.53+375506.2  \n",
       "18882              0  1SWASPJ000614.19-324858.8  \n",
       "\n",
       "[100 rows x 7 columns]"
      ]
     },
     "execution_count": 3,
     "metadata": {},
     "output_type": "execute_result"
    }
   ],
   "source": [
    "top_sigma = objects.sort_values('Sigma', ascending=False)[:100]\n",
    "top_sigma"
   ]
  },
  {
   "cell_type": "code",
   "execution_count": 4,
   "metadata": {},
   "outputs": [
    {
     "data": {
      "text/plain": [
       "<matplotlib.axes._subplots.AxesSubplot at 0x220897e3220>"
      ]
     },
     "execution_count": 4,
     "metadata": {},
     "output_type": "execute_result"
    },
    {
     "data": {
      "image/png": "[encoded data removed]",
      "text/plain": [
       "<Figure size 432x288 with 1 Axes>"
      ]
     },
     "metadata": {
      "needs_background": "light"
     },
     "output_type": "display_data"
    }
   ],
   "source": [
    "top_sigma.plot.scatter('Period', 'Sigma')"
   ]
  },
  {
   "cell_type": "code",
   "execution_count": 5,
   "metadata": {},
   "outputs": [],
   "source": [
    "top_sigma_zoo_ids = swasputils.get_zoo_ids(top_sigma, zoo_lookup)"
   ]
  },
  {
   "cell_type": "code",
   "execution_count": 6,
   "metadata": {},
   "outputs": [
    {
     "name": "stderr",
     "output_type": "stream",
     "text": [
      "C:\\Users\\anm83\\Documents\\Code\\superwasp-long-periods\\swasputils.py:59: YAMLLoadWarning: calling yaml.load() without Loader=... is deprecated, as the default Loader is unsafe. Please read https://msg.pyyaml.org/load for full details.\n",
      "  lambda s: yaml.load(s)['0']\n"
     ]
    },
    {
     "data": {
      "text/html": [
       "<img src=\"https://panoptes-uploads.zooniverse.org/production/subject_location/4419d71d-3537-4451-9798-6d323656d4f4.gif\" width=\"500\" height=\"500\"/>"
      ],
      "text/plain": [
       "<IPython.core.display.Image object>"
      ]
     },
     "metadata": {},
     "output_type": "display_data"
    },
    {
     "data": {
      "text/html": [
       "<img src=\"https://panoptes-uploads.zooniverse.org/production/subject_location/88d132cc-2467-45ee-945d-781f84304205.gif\" width=\"500\" height=\"500\"/>"
      ],
      "text/plain": [
       "<IPython.core.display.Image object>"
      ]
     },
     "metadata": {},
     "output_type": "display_data"
    },
    {
     "data": {
      "text/html": [
       "<img src=\"https://panoptes-uploads.zooniverse.org/production/subject_location/a1601522-361e-44c8-a6e8-8f7ab43fdc7b.gif\" width=\"500\" height=\"500\"/>"
      ],
      "text/plain": [
       "<IPython.core.display.Image object>"
      ]
     },
     "metadata": {},
     "output_type": "display_data"
    },
    {
     "data": {
      "text/html": [
       "<img src=\"https://panoptes-uploads.zooniverse.org/production/subject_location/598e62d9-f54b-497e-b397-a636ae04e900.gif\" width=\"500\" height=\"500\"/>"
      ],
      "text/plain": [
       "<IPython.core.display.Image object>"
      ]
     },
     "metadata": {},
     "output_type": "display_data"
    },
    {
     "data": {
      "text/html": [
       "<img src=\"https://panoptes-uploads.zooniverse.org/production/subject_location/dacefe84-e4d5-4e09-bdad-094a843bf4c7.gif\" width=\"500\" height=\"500\"/>"
      ],
      "text/plain": [
       "<IPython.core.display.Image object>"
      ]
     },
     "metadata": {},
     "output_type": "display_data"
    },
    {
     "data": {
      "text/html": [
       "<img src=\"https://panoptes-uploads.zooniverse.org/production/subject_location/8500817e-8ee7-4f37-87aa-aa3e79c4607f.gif\" width=\"500\" height=\"500\"/>"
      ],
      "text/plain": [
       "<IPython.core.display.Image object>"
      ]
     },
     "metadata": {},
     "output_type": "display_data"
    },
    {
     "data": {
      "text/html": [
       "<img src=\"https://panoptes-uploads.zooniverse.org/production/subject_location/6fda5d31-2cc0-4dc9-bd6d-77a09896c93b.gif\" width=\"500\" height=\"500\"/>"
      ],
      "text/plain": [
       "<IPython.core.display.Image object>"
      ]
     },
     "metadata": {},
     "output_type": "display_data"
    },
    {
     "data": {
      "text/html": [
       "<img src=\"https://panoptes-uploads.zooniverse.org/production/subject_location/bf90415a-645f-43b8-acdf-9757247ca203.gif\" width=\"500\" height=\"500\"/>"
      ],
      "text/plain": [
       "<IPython.core.display.Image object>"
      ]
     },
     "metadata": {},
     "output_type": "display_data"
    },
    {
     "data": {
      "text/html": [
       "<img src=\"https://panoptes-uploads.zooniverse.org/production/subject_location/9df5316c-d9f8-49b5-bdcb-ef2a9184f6f2.gif\" width=\"500\" height=\"500\"/>"
      ],
      "text/plain": [
       "<IPython.core.display.Image object>"
      ]
     },
     "metadata": {},
     "output_type": "display_data"
    },
    {
     "data": {
      "text/html": [
       "<img src=\"https://panoptes-uploads.zooniverse.org/production/subject_location/1a1dff9d-c59e-4625-9725-8ad2d3599aaf.gif\" width=\"500\" height=\"500\"/>"
      ],
      "text/plain": [
       "<IPython.core.display.Image object>"
      ]
     },
     "metadata": {},
     "output_type": "display_data"
    },
    {
     "data": {
      "text/html": [
       "<img src=\"https://panoptes-uploads.zooniverse.org/production/subject_location/3981cb49-9315-49f8-8218-d80ca4dc5641.gif\" width=\"500\" height=\"500\"/>"
      ],
      "text/plain": [
       "<IPython.core.display.Image object>"
      ]
     },
     "metadata": {},
     "output_type": "display_data"
    },
    {
     "data": {
      "text/html": [
       "<img src=\"https://panoptes-uploads.zooniverse.org/production/subject_location/44bd5e15-d428-417f-a28d-f6c4d3dacdb6.gif\" width=\"500\" height=\"500\"/>"
      ],
      "text/plain": [
       "<IPython.core.display.Image object>"
      ]
     },
     "metadata": {},
     "output_type": "display_data"
    },
    {
     "data": {
      "text/html": [
       "<img src=\"https://panoptes-uploads.zooniverse.org/production/subject_location/33c5f0b4-ace7-4a69-b73f-848afff15666.gif\" width=\"500\" height=\"500\"/>"
      ],
      "text/plain": [
       "<IPython.core.display.Image object>"
      ]
     },
     "metadata": {},
     "output_type": "display_data"
    },
    {
     "data": {
      "text/html": [
       "<img src=\"https://panoptes-uploads.zooniverse.org/production/subject_location/71b9c523-ba62-47c3-8250-fe17908fd0e7.gif\" width=\"500\" height=\"500\"/>"
      ],
      "text/plain": [
       "<IPython.core.display.Image object>"
      ]
     },
     "metadata": {},
     "output_type": "display_data"
    },
    {
     "data": {
      "text/html": [
       "<img src=\"https://panoptes-uploads.zooniverse.org/production/subject_location/a7ba5342-b3b6-42b8-a6de-50b2cb317e15.gif\" width=\"500\" height=\"500\"/>"
      ],
      "text/plain": [
       "<IPython.core.display.Image object>"
      ]
     },
     "metadata": {},
     "output_type": "display_data"
    },
    {
     "data": {
      "text/html": [
       "<img src=\"https://panoptes-uploads.zooniverse.org/production/subject_location/c77c5667-3416-4e03-ab64-6db5ffed9173.gif\" width=\"500\" height=\"500\"/>"
      ],
      "text/plain": [
       "<IPython.core.display.Image object>"
      ]
     },
     "metadata": {},
     "output_type": "display_data"
    },
    {
     "data": {
      "text/html": [
       "<img src=\"https://panoptes-uploads.zooniverse.org/production/subject_location/24649e62-4ee7-4d7e-8d7b-38e5e1ab8db6.gif\" width=\"500\" height=\"500\"/>"
      ],
      "text/plain": [
       "<IPython.core.display.Image object>"
      ]
     },
     "metadata": {},
     "output_type": "display_data"
    },
    {
     "data": {
      "text/html": [
       "<img src=\"https://panoptes-uploads.zooniverse.org/production/subject_location/0cea8458-641d-43a7-9a6e-bc324b0b2f6f.gif\" width=\"500\" height=\"500\"/>"
      ],
      "text/plain": [
       "<IPython.core.display.Image object>"
      ]
     },
     "metadata": {},
     "output_type": "display_data"
    },
    {
     "data": {
      "text/html": [
       "<img src=\"https://panoptes-uploads.zooniverse.org/production/subject_location/f0d6e328-5b07-4be3-b087-abe70a6fc09a.gif\" width=\"500\" height=\"500\"/>"
      ],
      "text/plain": [
       "<IPython.core.display.Image object>"
      ]
     },
     "metadata": {},
     "output_type": "display_data"
    },
    {
     "data": {
      "text/html": [
       "<img src=\"https://panoptes-uploads.zooniverse.org/production/subject_location/08dcd80e-7d7c-46b4-b760-dc38d20c546b.gif\" width=\"500\" height=\"500\"/>"
      ],
      "text/plain": [
       "<IPython.core.display.Image object>"
      ]
     },
     "metadata": {},
     "output_type": "display_data"
    },
    {
     "data": {
      "text/html": [
       "<img src=\"https://panoptes-uploads.zooniverse.org/production/subject_location/f37abe7d-9407-48d4-a3f6-11e5209fe23e.gif\" width=\"500\" height=\"500\"/>"
      ],
      "text/plain": [
       "<IPython.core.display.Image object>"
      ]
     },
     "metadata": {},
     "output_type": "display_data"
    },
    {
     "data": {
      "text/html": [
       "<img src=\"https://panoptes-uploads.zooniverse.org/production/subject_location/4397ee0a-367b-4e14-aed5-26cb72b8dd79.gif\" width=\"500\" height=\"500\"/>"
      ],
      "text/plain": [
       "<IPython.core.display.Image object>"
      ]
     },
     "metadata": {},
     "output_type": "display_data"
    },
    {
     "data": {
      "text/html": [
       "<img src=\"https://panoptes-uploads.zooniverse.org/production/subject_location/bb9a17e1-936e-4026-9f7a-2552b3d2f9d2.gif\" width=\"500\" height=\"500\"/>"
      ],
      "text/plain": [
       "<IPython.core.display.Image object>"
      ]
     },
     "metadata": {},
     "output_type": "display_data"
    },
    {
     "data": {
      "text/html": [
       "<img src=\"https://panoptes-uploads.zooniverse.org/production/subject_location/ac5e3e5d-f7f6-4c2e-9eb4-0590cfa3f7d1.gif\" width=\"500\" height=\"500\"/>"
      ],
      "text/plain": [
       "<IPython.core.display.Image object>"
      ]
     },
     "metadata": {},
     "output_type": "display_data"
    },
    {
     "data": {
      "text/html": [
       "<img src=\"https://panoptes-uploads.zooniverse.org/production/subject_location/f05be26e-334d-4466-8846-300eac74b88e.gif\" width=\"500\" height=\"500\"/>"
      ],
      "text/plain": [
       "<IPython.core.display.Image object>"
      ]
     },
     "metadata": {},
     "output_type": "display_data"
    },
    {
     "data": {
      "text/html": [
       "<img src=\"https://panoptes-uploads.zooniverse.org/production/subject_location/f76b9c20-2c11-4293-ae62-6edeaa225bba.gif\" width=\"500\" height=\"500\"/>"
      ],
      "text/plain": [
       "<IPython.core.display.Image object>"
      ]
     },
     "metadata": {},
     "output_type": "display_data"
    },
    {
     "data": {
      "text/html": [
       "<img src=\"https://panoptes-uploads.zooniverse.org/production/subject_location/95ecb74d-18fc-4c4d-86be-15024ffd672b.gif\" width=\"500\" height=\"500\"/>"
      ],
      "text/plain": [
       "<IPython.core.display.Image object>"
      ]
     },
     "metadata": {},
     "output_type": "display_data"
    },
    {
     "data": {
      "text/html": [
       "<img src=\"https://panoptes-uploads.zooniverse.org/production/subject_location/dc764cf7-32d8-4983-94a2-857b965f76ac.gif\" width=\"500\" height=\"500\"/>"
      ],
      "text/plain": [
       "<IPython.core.display.Image object>"
      ]
     },
     "metadata": {},
     "output_type": "display_data"
    },
    {
     "data": {
      "text/html": [
       "<img src=\"https://panoptes-uploads.zooniverse.org/production/subject_location/c213aaae-7bd8-4429-b9f5-38ba2dbaea30.gif\" width=\"500\" height=\"500\"/>"
      ],
      "text/plain": [
       "<IPython.core.display.Image object>"
      ]
     },
     "metadata": {},
     "output_type": "display_data"
    },
    {
     "data": {
      "text/html": [
       "<img src=\"https://panoptes-uploads.zooniverse.org/production/subject_location/533e23b1-c27f-49fd-b241-96b9fc75d4bb.gif\" width=\"500\" height=\"500\"/>"
      ],
      "text/plain": [
       "<IPython.core.display.Image object>"
      ]
     },
     "metadata": {},
     "output_type": "display_data"
    },
    {
     "data": {
      "text/html": [
       "<img src=\"https://panoptes-uploads.zooniverse.org/production/subject_location/da453265-dda3-45a2-9737-39086e715da9.gif\" width=\"500\" height=\"500\"/>"
      ],
      "text/plain": [
       "<IPython.core.display.Image object>"
      ]
     },
     "metadata": {},
     "output_type": "display_data"
    },
    {
     "data": {
      "text/html": [
       "<img src=\"https://panoptes-uploads.zooniverse.org/production/subject_location/f35f0426-b8c3-4c92-9196-a3fbac5de8f7.gif\" width=\"500\" height=\"500\"/>"
      ],
      "text/plain": [
       "<IPython.core.display.Image object>"
      ]
     },
     "metadata": {},
     "output_type": "display_data"
    },
    {
     "data": {
      "text/html": [
       "<img src=\"https://panoptes-uploads.zooniverse.org/production/subject_location/4e92f927-f1cc-4059-9e3d-2bdd6bf6e43d.gif\" width=\"500\" height=\"500\"/>"
      ],
      "text/plain": [
       "<IPython.core.display.Image object>"
      ]
     },
     "metadata": {},
     "output_type": "display_data"
    },
    {
     "data": {
      "text/html": [
       "<img src=\"https://panoptes-uploads.zooniverse.org/production/subject_location/115b1244-14bf-474d-bc3f-bc3434f56fa6.gif\" width=\"500\" height=\"500\"/>"
      ],
      "text/plain": [
       "<IPython.core.display.Image object>"
      ]
     },
     "metadata": {},
     "output_type": "display_data"
    },
    {
     "data": {
      "text/html": [
       "<img src=\"https://panoptes-uploads.zooniverse.org/production/subject_location/5176d835-0b28-460a-9fa9-43b8fda97ef8.gif\" width=\"500\" height=\"500\"/>"
      ],
      "text/plain": [
       "<IPython.core.display.Image object>"
      ]
     },
     "metadata": {},
     "output_type": "display_data"
    },
    {
     "data": {
      "text/html": [
       "<img src=\"https://panoptes-uploads.zooniverse.org/production/subject_location/712745ae-aa06-444d-9d40-1148f5187ec1.gif\" width=\"500\" height=\"500\"/>"
      ],
      "text/plain": [
       "<IPython.core.display.Image object>"
      ]
     },
     "metadata": {},
     "output_type": "display_data"
    },
    {
     "data": {
      "text/html": [
       "<img src=\"https://panoptes-uploads.zooniverse.org/production/subject_location/06cc968b-41eb-4ebe-b4c4-7b7116b7e0f5.gif\" width=\"500\" height=\"500\"/>"
      ],
      "text/plain": [
       "<IPython.core.display.Image object>"
      ]
     },
     "metadata": {},
     "output_type": "display_data"
    },
    {
     "data": {
      "text/html": [
       "<img src=\"https://panoptes-uploads.zooniverse.org/production/subject_location/b9a8ec48-6d56-4437-b1ff-5923f892dd0b.gif\" width=\"500\" height=\"500\"/>"
      ],
      "text/plain": [
       "<IPython.core.display.Image object>"
      ]
     },
     "metadata": {},
     "output_type": "display_data"
    },
    {
     "data": {
      "text/html": [
       "<img src=\"https://panoptes-uploads.zooniverse.org/production/subject_location/af69542f-e9cd-4061-8bde-9f127e03b0f5.gif\" width=\"500\" height=\"500\"/>"
      ],
      "text/plain": [
       "<IPython.core.display.Image object>"
      ]
     },
     "metadata": {},
     "output_type": "display_data"
    },
    {
     "data": {
      "text/html": [
       "<img src=\"https://panoptes-uploads.zooniverse.org/production/subject_location/78a63d1b-698c-4aac-85d1-a48de05a7667.gif\" width=\"500\" height=\"500\"/>"
      ],
      "text/plain": [
       "<IPython.core.display.Image object>"
      ]
     },
     "metadata": {},
     "output_type": "display_data"
    },
    {
     "data": {
      "text/html": [
       "<img src=\"https://panoptes-uploads.zooniverse.org/production/subject_location/34871f0f-0a6c-4c63-a96e-0df3a198cfd1.gif\" width=\"500\" height=\"500\"/>"
      ],
      "text/plain": [
       "<IPython.core.display.Image object>"
      ]
     },
     "metadata": {},
     "output_type": "display_data"
    },
    {
     "data": {
      "text/html": [
       "<img src=\"https://panoptes-uploads.zooniverse.org/production/subject_location/11fb7794-465e-449b-b685-4bb379baa9fe.gif\" width=\"500\" height=\"500\"/>"
      ],
      "text/plain": [
       "<IPython.core.display.Image object>"
      ]
     },
     "metadata": {},
     "output_type": "display_data"
    },
    {
     "data": {
      "text/html": [
       "<img src=\"https://panoptes-uploads.zooniverse.org/production/subject_location/bfa5d52c-af84-438e-a63d-cb206920c578.gif\" width=\"500\" height=\"500\"/>"
      ],
      "text/plain": [
       "<IPython.core.display.Image object>"
      ]
     },
     "metadata": {},
     "output_type": "display_data"
    },
    {
     "data": {
      "text/html": [
       "<img src=\"https://panoptes-uploads.zooniverse.org/production/subject_location/b693c4a5-1268-4777-9ebe-2a88fd0023d9.gif\" width=\"500\" height=\"500\"/>"
      ],
      "text/plain": [
       "<IPython.core.display.Image object>"
      ]
     },
     "metadata": {},
     "output_type": "display_data"
    },
    {
     "data": {
      "text/html": [
       "<img src=\"https://panoptes-uploads.zooniverse.org/production/subject_location/657d1cab-eef9-497f-9fbf-261444a6d4c9.gif\" width=\"500\" height=\"500\"/>"
      ],
      "text/plain": [
       "<IPython.core.display.Image object>"
      ]
     },
     "metadata": {},
     "output_type": "display_data"
    },
    {
     "data": {
      "text/html": [
       "<img src=\"https://panoptes-uploads.zooniverse.org/production/subject_location/7efe9365-52a9-489c-ad60-1ab253352048.gif\" width=\"500\" height=\"500\"/>"
      ],
      "text/plain": [
       "<IPython.core.display.Image object>"
      ]
     },
     "metadata": {},
     "output_type": "display_data"
    },
    {
     "data": {
      "text/html": [
       "<img src=\"https://panoptes-uploads.zooniverse.org/production/subject_location/a3e35330-a980-427e-9314-a3cc6c078e69.gif\" width=\"500\" height=\"500\"/>"
      ],
      "text/plain": [
       "<IPython.core.display.Image object>"
      ]
     },
     "metadata": {},
     "output_type": "display_data"
    },
    {
     "data": {
      "text/html": [
       "<img src=\"https://panoptes-uploads.zooniverse.org/production/subject_location/35466740-7cb0-4b6f-8602-d682dca83874.gif\" width=\"500\" height=\"500\"/>"
      ],
      "text/plain": [
       "<IPython.core.display.Image object>"
      ]
     },
     "metadata": {},
     "output_type": "display_data"
    },
    {
     "data": {
      "text/html": [
       "<img src=\"https://panoptes-uploads.zooniverse.org/production/subject_location/23f5f7d7-d9f0-495b-acff-389cc0e83abf.gif\" width=\"500\" height=\"500\"/>"
      ],
      "text/plain": [
       "<IPython.core.display.Image object>"
      ]
     },
     "metadata": {},
     "output_type": "display_data"
    },
    {
     "data": {
      "text/html": [
       "<img src=\"https://panoptes-uploads.zooniverse.org/production/subject_location/d4f41c35-0c9c-4cb5-9bcd-77165b5ead6e.gif\" width=\"500\" height=\"500\"/>"
      ],
      "text/plain": [
       "<IPython.core.display.Image object>"
      ]
     },
     "metadata": {},
     "output_type": "display_data"
    },
    {
     "data": {
      "text/html": [
       "<img src=\"https://panoptes-uploads.zooniverse.org/production/subject_location/a10854f8-9038-428f-a83c-540ba26d562a.gif\" width=\"500\" height=\"500\"/>"
      ],
      "text/plain": [
       "<IPython.core.display.Image object>"
      ]
     },
     "metadata": {},
     "output_type": "display_data"
    },
    {
     "data": {
      "text/html": [
       "<img src=\"https://panoptes-uploads.zooniverse.org/production/subject_location/6de2f8b5-fa55-414e-b77c-5cc91887836d.gif\" width=\"500\" height=\"500\"/>"
      ],
      "text/plain": [
       "<IPython.core.display.Image object>"
      ]
     },
     "metadata": {},
     "output_type": "display_data"
    },
    {
     "data": {
      "text/html": [
       "<img src=\"https://panoptes-uploads.zooniverse.org/production/subject_location/419fd17b-2742-4907-b4fa-dd1abd11e8a7.gif\" width=\"500\" height=\"500\"/>"
      ],
      "text/plain": [
       "<IPython.core.display.Image object>"
      ]
     },
     "metadata": {},
     "output_type": "display_data"
    },
    {
     "data": {
      "text/html": [
       "<img src=\"https://panoptes-uploads.zooniverse.org/production/subject_location/bd71d244-7711-46dd-b371-ebf04f7f484d.gif\" width=\"500\" height=\"500\"/>"
      ],
      "text/plain": [
       "<IPython.core.display.Image object>"
      ]
     },
     "metadata": {},
     "output_type": "display_data"
    },
    {
     "data": {
      "text/html": [
       "<img src=\"https://panoptes-uploads.zooniverse.org/production/subject_location/05a56c7b-23e3-4c83-91c0-a4dfa708b757.gif\" width=\"500\" height=\"500\"/>"
      ],
      "text/plain": [
       "<IPython.core.display.Image object>"
      ]
     },
     "metadata": {},
     "output_type": "display_data"
    },
    {
     "data": {
      "text/html": [
       "<img src=\"https://panoptes-uploads.zooniverse.org/production/subject_location/6051ca22-e9cc-43f0-9fd5-3647d9b37897.gif\" width=\"500\" height=\"500\"/>"
      ],
      "text/plain": [
       "<IPython.core.display.Image object>"
      ]
     },
     "metadata": {},
     "output_type": "display_data"
    },
    {
     "data": {
      "text/html": [
       "<img src=\"https://panoptes-uploads.zooniverse.org/production/subject_location/043745b6-8dd3-4b83-a881-d631ca70df3d.gif\" width=\"500\" height=\"500\"/>"
      ],
      "text/plain": [
       "<IPython.core.display.Image object>"
      ]
     },
     "metadata": {},
     "output_type": "display_data"
    },
    {
     "data": {
      "text/html": [
       "<img src=\"https://panoptes-uploads.zooniverse.org/production/subject_location/ea8fa448-b0d8-45b4-91ba-4932099c0e96.gif\" width=\"500\" height=\"500\"/>"
      ],
      "text/plain": [
       "<IPython.core.display.Image object>"
      ]
     },
     "metadata": {},
     "output_type": "display_data"
    },
    {
     "data": {
      "text/html": [
       "<img src=\"https://panoptes-uploads.zooniverse.org/production/subject_location/00241e93-f422-4f0f-b7c0-448d9bd96d4e.gif\" width=\"500\" height=\"500\"/>"
      ],
      "text/plain": [
       "<IPython.core.display.Image object>"
      ]
     },
     "metadata": {},
     "output_type": "display_data"
    },
    {
     "data": {
      "text/html": [
       "<img src=\"https://panoptes-uploads.zooniverse.org/production/subject_location/7c4ca3df-d899-4347-bb91-c74a1fe56563.gif\" width=\"500\" height=\"500\"/>"
      ],
      "text/plain": [
       "<IPython.core.display.Image object>"
      ]
     },
     "metadata": {},
     "output_type": "display_data"
    },
    {
     "data": {
      "text/html": [
       "<img src=\"https://panoptes-uploads.zooniverse.org/production/subject_location/3a04f094-6827-467c-8800-615d70731a16.gif\" width=\"500\" height=\"500\"/>"
      ],
      "text/plain": [
       "<IPython.core.display.Image object>"
      ]
     },
     "metadata": {},
     "output_type": "display_data"
    },
    {
     "data": {
      "text/html": [
       "<img src=\"https://panoptes-uploads.zooniverse.org/production/subject_location/426ed0de-5a0c-4cd1-a607-832f3f54bb17.gif\" width=\"500\" height=\"500\"/>"
      ],
      "text/plain": [
       "<IPython.core.display.Image object>"
      ]
     },
     "metadata": {},
     "output_type": "display_data"
    },
    {
     "data": {
      "text/html": [
       "<img src=\"https://panoptes-uploads.zooniverse.org/production/subject_location/9ba4c97f-43e5-4f93-8ced-cac700c4c35b.gif\" width=\"500\" height=\"500\"/>"
      ],
      "text/plain": [
       "<IPython.core.display.Image object>"
      ]
     },
     "metadata": {},
     "output_type": "display_data"
    },
    {
     "data": {
      "text/html": [
       "<img src=\"https://panoptes-uploads.zooniverse.org/production/subject_location/408069f3-b86d-4699-bbdd-70ddccc92228.gif\" width=\"500\" height=\"500\"/>"
      ],
      "text/plain": [
       "<IPython.core.display.Image object>"
      ]
     },
     "metadata": {},
     "output_type": "display_data"
    },
    {
     "data": {
      "text/html": [
       "<img src=\"https://panoptes-uploads.zooniverse.org/production/subject_location/d0bace87-c16b-41ef-8649-f4198018ca6b.gif\" width=\"500\" height=\"500\"/>"
      ],
      "text/plain": [
       "<IPython.core.display.Image object>"
      ]
     },
     "metadata": {},
     "output_type": "display_data"
    },
    {
     "data": {
      "text/html": [
       "<img src=\"https://panoptes-uploads.zooniverse.org/production/subject_location/9c0bacca-9922-49ef-b6af-eeba4a6e923a.gif\" width=\"500\" height=\"500\"/>"
      ],
      "text/plain": [
       "<IPython.core.display.Image object>"
      ]
     },
     "metadata": {},
     "output_type": "display_data"
    },
    {
     "data": {
      "text/html": [
       "<img src=\"https://panoptes-uploads.zooniverse.org/production/subject_location/2eec181b-7edb-43e8-9e06-97c26c3ecb4c.gif\" width=\"500\" height=\"500\"/>"
      ],
      "text/plain": [
       "<IPython.core.display.Image object>"
      ]
     },
     "metadata": {},
     "output_type": "display_data"
    },
    {
     "data": {
      "text/html": [
       "<img src=\"https://panoptes-uploads.zooniverse.org/production/subject_location/581a902b-9fb3-43e2-a157-c00117ae8377.gif\" width=\"500\" height=\"500\"/>"
      ],
      "text/plain": [
       "<IPython.core.display.Image object>"
      ]
     },
     "metadata": {},
     "output_type": "display_data"
    },
    {
     "data": {
      "text/html": [
       "<img src=\"https://panoptes-uploads.zooniverse.org/production/subject_location/65c9ddfe-5199-43d2-b69d-3c362c0765e3.gif\" width=\"500\" height=\"500\"/>"
      ],
      "text/plain": [
       "<IPython.core.display.Image object>"
      ]
     },
     "metadata": {},
     "output_type": "display_data"
    },
    {
     "data": {
      "text/html": [
       "<img src=\"https://panoptes-uploads.zooniverse.org/production/subject_location/aa3769c7-5af0-4acb-97b4-f227e9c7dc7d.gif\" width=\"500\" height=\"500\"/>"
      ],
      "text/plain": [
       "<IPython.core.display.Image object>"
      ]
     },
     "metadata": {},
     "output_type": "display_data"
    },
    {
     "data": {
      "text/html": [
       "<img src=\"https://panoptes-uploads.zooniverse.org/production/subject_location/0f765aae-0d77-4281-b70a-74e9d11dd3d4.gif\" width=\"500\" height=\"500\"/>"
      ],
      "text/plain": [
       "<IPython.core.display.Image object>"
      ]
     },
     "metadata": {},
     "output_type": "display_data"
    },
    {
     "data": {
      "text/html": [
       "<img src=\"https://panoptes-uploads.zooniverse.org/production/subject_location/ce02f939-47b6-44d6-8b96-fa53604be46a.gif\" width=\"500\" height=\"500\"/>"
      ],
      "text/plain": [
       "<IPython.core.display.Image object>"
      ]
     },
     "metadata": {},
     "output_type": "display_data"
    },
    {
     "data": {
      "text/html": [
       "<img src=\"https://panoptes-uploads.zooniverse.org/production/subject_location/1fa9bc21-6b9c-44f2-bfc0-a5fcf0f13597.gif\" width=\"500\" height=\"500\"/>"
      ],
      "text/plain": [
       "<IPython.core.display.Image object>"
      ]
     },
     "metadata": {},
     "output_type": "display_data"
    },
    {
     "data": {
      "text/html": [
       "<img src=\"https://panoptes-uploads.zooniverse.org/production/subject_location/e6f42310-47d3-424b-9179-50b6b7119e9a.gif\" width=\"500\" height=\"500\"/>"
      ],
      "text/plain": [
       "<IPython.core.display.Image object>"
      ]
     },
     "metadata": {},
     "output_type": "display_data"
    },
    {
     "data": {
      "text/html": [
       "<img src=\"https://panoptes-uploads.zooniverse.org/production/subject_location/0637024a-d47e-49b1-ad82-7740c890af2c.gif\" width=\"500\" height=\"500\"/>"
      ],
      "text/plain": [
       "<IPython.core.display.Image object>"
      ]
     },
     "metadata": {},
     "output_type": "display_data"
    },
    {
     "data": {
      "text/html": [
       "<img src=\"https://panoptes-uploads.zooniverse.org/production/subject_location/aa368db8-8fbb-4c84-902c-20e999201738.gif\" width=\"500\" height=\"500\"/>"
      ],
      "text/plain": [
       "<IPython.core.display.Image object>"
      ]
     },
     "metadata": {},
     "output_type": "display_data"
    },
    {
     "data": {
      "text/html": [
       "<img src=\"https://panoptes-uploads.zooniverse.org/production/subject_location/bff25546-f9f2-4e3e-9f4b-69e036408416.gif\" width=\"500\" height=\"500\"/>"
      ],
      "text/plain": [
       "<IPython.core.display.Image object>"
      ]
     },
     "metadata": {},
     "output_type": "display_data"
    },
    {
     "data": {
      "text/html": [
       "<img src=\"https://panoptes-uploads.zooniverse.org/production/subject_location/a7d2ecb1-cae3-4031-bff1-7c0f8923900b.gif\" width=\"500\" height=\"500\"/>"
      ],
      "text/plain": [
       "<IPython.core.display.Image object>"
      ]
     },
     "metadata": {},
     "output_type": "display_data"
    },
    {
     "data": {
      "text/html": [
       "<img src=\"https://panoptes-uploads.zooniverse.org/production/subject_location/72bfc6d7-34c0-4a98-8cab-c5b0727abaca.gif\" width=\"500\" height=\"500\"/>"
      ],
      "text/plain": [
       "<IPython.core.display.Image object>"
      ]
     },
     "metadata": {},
     "output_type": "display_data"
    },
    {
     "data": {
      "text/html": [
       "<img src=\"https://panoptes-uploads.zooniverse.org/production/subject_location/6d51bccb-e70f-469a-a7f2-c2da5eb2189c.gif\" width=\"500\" height=\"500\"/>"
      ],
      "text/plain": [
       "<IPython.core.display.Image object>"
      ]
     },
     "metadata": {},
     "output_type": "display_data"
    },
    {
     "data": {
      "text/html": [
       "<img src=\"https://panoptes-uploads.zooniverse.org/production/subject_location/e0c37257-e0c4-44e6-9305-9e964503dcfe.gif\" width=\"500\" height=\"500\"/>"
      ],
      "text/plain": [
       "<IPython.core.display.Image object>"
      ]
     },
     "metadata": {},
     "output_type": "display_data"
    },
    {
     "data": {
      "text/html": [
       "<img src=\"https://panoptes-uploads.zooniverse.org/production/subject_location/a31b8706-e0f7-4cbe-ae96-899ecd464b48.gif\" width=\"500\" height=\"500\"/>"
      ],
      "text/plain": [
       "<IPython.core.display.Image object>"
      ]
     },
     "metadata": {},
     "output_type": "display_data"
    },
    {
     "data": {
      "text/html": [
       "<img src=\"https://panoptes-uploads.zooniverse.org/production/subject_location/2e7b2c4c-3ed0-4a07-8ec7-d153dcbfa78b.gif\" width=\"500\" height=\"500\"/>"
      ],
      "text/plain": [
       "<IPython.core.display.Image object>"
      ]
     },
     "metadata": {},
     "output_type": "display_data"
    },
    {
     "data": {
      "text/html": [
       "<img src=\"https://panoptes-uploads.zooniverse.org/production/subject_location/b9bf231e-ca61-4a0a-8441-d2b729088c5a.gif\" width=\"500\" height=\"500\"/>"
      ],
      "text/plain": [
       "<IPython.core.display.Image object>"
      ]
     },
     "metadata": {},
     "output_type": "display_data"
    },
    {
     "data": {
      "text/html": [
       "<img src=\"https://panoptes-uploads.zooniverse.org/production/subject_location/7b72670f-4f57-4405-b8b1-8437995d5a93.gif\" width=\"500\" height=\"500\"/>"
      ],
      "text/plain": [
       "<IPython.core.display.Image object>"
      ]
     },
     "metadata": {},
     "output_type": "display_data"
    },
    {
     "data": {
      "text/html": [
       "<img src=\"https://panoptes-uploads.zooniverse.org/production/subject_location/5c5db1dd-9192-477c-acc6-a28d844d2db8.gif\" width=\"500\" height=\"500\"/>"
      ],
      "text/plain": [
       "<IPython.core.display.Image object>"
      ]
     },
     "metadata": {},
     "output_type": "display_data"
    },
    {
     "data": {
      "text/html": [
       "<img src=\"https://panoptes-uploads.zooniverse.org/production/subject_location/cfd651d9-0699-428a-86bd-d1dcca4c62eb.gif\" width=\"500\" height=\"500\"/>"
      ],
      "text/plain": [
       "<IPython.core.display.Image object>"
      ]
     },
     "metadata": {},
     "output_type": "display_data"
    },
    {
     "data": {
      "text/html": [
       "<img src=\"https://panoptes-uploads.zooniverse.org/production/subject_location/d9520232-9b03-4af4-b20b-e7d7ce61eea7.gif\" width=\"500\" height=\"500\"/>"
      ],
      "text/plain": [
       "<IPython.core.display.Image object>"
      ]
     },
     "metadata": {},
     "output_type": "display_data"
    },
    {
     "data": {
      "text/html": [
       "<img src=\"https://panoptes-uploads.zooniverse.org/production/subject_location/f95f50f1-5741-49fe-9b6a-a286e14f006f.gif\" width=\"500\" height=\"500\"/>"
      ],
      "text/plain": [
       "<IPython.core.display.Image object>"
      ]
     },
     "metadata": {},
     "output_type": "display_data"
    },
    {
     "data": {
      "text/html": [
       "<img src=\"https://panoptes-uploads.zooniverse.org/production/subject_location/9f0bf01c-cb56-4435-84f0-dcc349d025e4.gif\" width=\"500\" height=\"500\"/>"
      ],
      "text/plain": [
       "<IPython.core.display.Image object>"
      ]
     },
     "metadata": {},
     "output_type": "display_data"
    },
    {
     "data": {
      "text/html": [
       "<img src=\"https://panoptes-uploads.zooniverse.org/production/subject_location/00b2b566-7137-4b88-a89b-5e170fab428a.gif\" width=\"500\" height=\"500\"/>"
      ],
      "text/plain": [
       "<IPython.core.display.Image object>"
      ]
     },
     "metadata": {},
     "output_type": "display_data"
    },
    {
     "data": {
      "text/html": [
       "<img src=\"https://panoptes-uploads.zooniverse.org/production/subject_location/c3a7e1b5-1f7f-4f21-8e59-27c2745f7c72.gif\" width=\"500\" height=\"500\"/>"
      ],
      "text/plain": [
       "<IPython.core.display.Image object>"
      ]
     },
     "metadata": {},
     "output_type": "display_data"
    },
    {
     "data": {
      "text/html": [
       "<img src=\"https://panoptes-uploads.zooniverse.org/production/subject_location/d522999b-0085-4a3b-a35d-a1112767eef5.gif\" width=\"500\" height=\"500\"/>"
      ],
      "text/plain": [
       "<IPython.core.display.Image object>"
      ]
     },
     "metadata": {},
     "output_type": "display_data"
    },
    {
     "data": {
      "text/html": [
       "<img src=\"https://panoptes-uploads.zooniverse.org/production/subject_location/14e7f053-8f2b-42a7-aa34-7ce465ea0532.gif\" width=\"500\" height=\"500\"/>"
      ],
      "text/plain": [
       "<IPython.core.display.Image object>"
      ]
     },
     "metadata": {},
     "output_type": "display_data"
    },
    {
     "data": {
      "text/html": [
       "<img src=\"https://panoptes-uploads.zooniverse.org/production/subject_location/37fb923b-a875-4935-a530-7a9b61bf2760.gif\" width=\"500\" height=\"500\"/>"
      ],
      "text/plain": [
       "<IPython.core.display.Image object>"
      ]
     },
     "metadata": {},
     "output_type": "display_data"
    },
    {
     "data": {
      "text/html": [
       "<img src=\"https://panoptes-uploads.zooniverse.org/production/subject_location/8f896188-3481-4613-8950-e149fb03eff2.gif\" width=\"500\" height=\"500\"/>"
      ],
      "text/plain": [
       "<IPython.core.display.Image object>"
      ]
     },
     "metadata": {},
     "output_type": "display_data"
    },
    {
     "data": {
      "text/html": [
       "<img src=\"https://panoptes-uploads.zooniverse.org/production/subject_location/e35cb1bd-5ad8-4efc-88b5-7a0df73325e7.gif\" width=\"500\" height=\"500\"/>"
      ],
      "text/plain": [
       "<IPython.core.display.Image object>"
      ]
     },
     "metadata": {},
     "output_type": "display_data"
    },
    {
     "data": {
      "text/html": [
       "<img src=\"https://panoptes-uploads.zooniverse.org/production/subject_location/28a57a53-a26e-41ae-9442-2809f3f59638.gif\" width=\"500\" height=\"500\"/>"
      ],
      "text/plain": [
       "<IPython.core.display.Image object>"
      ]
     },
     "metadata": {},
     "output_type": "display_data"
    },
    {
     "data": {
      "text/html": [
       "<img src=\"https://panoptes-uploads.zooniverse.org/production/subject_location/4de06a3c-868a-4d52-b6db-c817c5c8013c.gif\" width=\"500\" height=\"500\"/>"
      ],
      "text/plain": [
       "<IPython.core.display.Image object>"
      ]
     },
     "metadata": {},
     "output_type": "display_data"
    },
    {
     "data": {
      "text/html": [
       "<img src=\"https://panoptes-uploads.zooniverse.org/production/subject_location/1bd33524-95f2-438d-9491-d30c93caf414.gif\" width=\"500\" height=\"500\"/>"
      ],
      "text/plain": [
       "<IPython.core.display.Image object>"
      ]
     },
     "metadata": {},
     "output_type": "display_data"
    }
   ],
   "source": [
    "swasputils.display_zoo_lightcurves(top_sigma_zoo_ids, zoo_subjects)"
   ]
  },
  {
   "cell_type": "code",
   "execution_count": null,
   "metadata": {},
   "outputs": [],
   "source": []
  }
 ],
 "metadata": {
  "kernelspec": {
   "display_name": "Python 3",
   "language": "python",
   "name": "python3"
  },
  "language_info": {
   "codemirror_mode": {
    "name": "ipython",
    "version": 3
   },
   "file_extension": ".py",
   "mimetype": "text/x-python",
   "name": "python",
   "nbconvert_exporter": "python",
   "pygments_lexer": "ipython3",
   "version": "3.8.3"
  }
 },
 "nbformat": 4,
 "nbformat_minor": 4
}
