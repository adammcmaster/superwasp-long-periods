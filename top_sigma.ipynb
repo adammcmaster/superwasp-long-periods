{
 "cells": [
  {
   "cell_type": "code",
   "execution_count": 1,
   "metadata": {},
   "outputs": [],
   "source": [
    "import swasputils"
   ]
  },
  {
   "cell_type": "code",
   "execution_count": 2,
   "metadata": {},
   "outputs": [
    {
     "name": "stderr",
     "output_type": "stream",
     "text": [
      "C:\\Users\\anm83\\Anaconda3\\lib\\site-packages\\IPython\\core\\interactiveshell.py:3263: DtypeWarning: Columns (7,8) have mixed types.Specify dtype option on import or set low_memory=False.\n",
      "  if (await self.run_code(code, result,  async_=asy)):\n"
     ]
    }
   ],
   "source": [
    "objects = swasputils.load_objects()\n",
    "zoo_lookup = swasputils.load_lookup()\n",
    "zoo_subjects = swasputils.load_zoo_subjects()\n",
    "classifications = swasputils.load_classifications()"
   ]
  },
  {
   "cell_type": "code",
   "execution_count": 3,
   "metadata": {},
   "outputs": [],
   "source": [
    "top_sigma = objects.sort_values('Sigma', ascending=False)[:100]"
   ]
  },
  {
   "cell_type": "code",
   "execution_count": 4,
   "metadata": {},
   "outputs": [
    {
     "data": {
      "text/plain": [
       "<matplotlib.axes._subplots.AxesSubplot at 0x1121fa1a8b0>"
      ]
     },
     "execution_count": 4,
     "metadata": {},
     "output_type": "execute_result"
    },
    {
     "data": {
      "image/png": "[encoded data removed]",
      "text/plain": [
       "<Figure size 432x288 with 1 Axes>"
      ]
     },
     "metadata": {
      "needs_background": "light"
     },
     "output_type": "display_data"
    }
   ],
   "source": [
    "top_sigma.plot.scatter('Period', 'Sigma')"
   ]
  },
  {
   "cell_type": "code",
   "execution_count": 5,
   "metadata": {},
   "outputs": [],
   "source": [
    "top_sigma = swasputils.merge_zoo_ids(top_sigma, zoo_lookup)"
   ]
  },
  {
   "cell_type": "code",
   "execution_count": 6,
   "metadata": {},
   "outputs": [],
   "source": [
    "top_sigma = swasputils.merge_zoo_subjects(top_sigma, zoo_subjects)"
   ]
  },
  {
   "cell_type": "code",
   "execution_count": 8,
   "metadata": {},
   "outputs": [],
   "source": [
    "top_sigma = swasputils.merge_classifications(top_sigma, classifications)"
   ]
  },
  {
   "cell_type": "code",
   "execution_count": 9,
   "metadata": {},
   "outputs": [
    {
     "name": "stderr",
     "output_type": "stream",
     "text": [
      "C:\\Users\\anm83\\Documents\\Code\\superwasp-long-periods\\swasputils.py:99: YAMLLoadWarning: calling yaml.load() without Loader=... is deprecated, as the default Loader is unsafe. Please read https://msg.pyyaml.org/load for full details.\n",
      "  lambda s: yaml.load(s)['0']\n"
     ]
    },
    {
     "data": {
      "text/html": [
       "<div>\n",
       "<style scoped>\n",
       "    .dataframe tbody tr th:only-of-type {\n",
       "        vertical-align: middle;\n",
       "    }\n",
       "\n",
       "    .dataframe tbody tr th {\n",
       "        vertical-align: top;\n",
       "    }\n",
       "\n",
       "    .dataframe thead th {\n",
       "        text-align: right;\n",
       "    }\n",
       "</style>\n",
       "<table border=\"1\" class=\"dataframe\">\n",
       "  <thead>\n",
       "    <tr style=\"text-align: right;\">\n",
       "      <th></th>\n",
       "      <th>Period Number</th>\n",
       "      <th>Period</th>\n",
       "      <th>Sigma</th>\n",
       "      <th>Chi Squared</th>\n",
       "      <th>SWASP ID</th>\n",
       "      <th>Zooniverse ID</th>\n",
       "      <th>Classification</th>\n",
       "      <th>Period Uncertainty</th>\n",
       "      <th>Classification Count</th>\n",
       "      <th>Lightcurve</th>\n",
       "    </tr>\n",
       "  </thead>\n",
       "  <tbody>\n",
       "    <tr>\n",
       "      <th>0</th>\n",
       "      <td>1</td>\n",
       "      <td>13461621.0</td>\n",
       "      <td>8.68</td>\n",
       "      <td>842.23</td>\n",
       "      <td>1SWASPJ131008.68-475114.1</td>\n",
       "      <td>22086405</td>\n",
       "      <td>4.0</td>\n",
       "      <td>0.0</td>\n",
       "      <td>2.0</td>\n",
       "      <td>https://panoptes-uploads.zooniverse.org/produc...</td>\n",
       "    </tr>\n",
       "    <tr>\n",
       "      <th>1</th>\n",
       "      <td>1</td>\n",
       "      <td>19336984.0</td>\n",
       "      <td>8.65</td>\n",
       "      <td>1220.21</td>\n",
       "      <td>1SWASPJ011755.81+413200.5</td>\n",
       "      <td>24629787</td>\n",
       "      <td>NaN</td>\n",
       "      <td>NaN</td>\n",
       "      <td>NaN</td>\n",
       "      <td>https://panoptes-uploads.zooniverse.org/produc...</td>\n",
       "    </tr>\n",
       "    <tr>\n",
       "      <th>2</th>\n",
       "      <td>3</td>\n",
       "      <td>8956252.0</td>\n",
       "      <td>8.36</td>\n",
       "      <td>4002.96</td>\n",
       "      <td>1SWASPJ013608.57-351110.2</td>\n",
       "      <td>24314398</td>\n",
       "      <td>NaN</td>\n",
       "      <td>NaN</td>\n",
       "      <td>NaN</td>\n",
       "      <td>https://panoptes-uploads.zooniverse.org/produc...</td>\n",
       "    </tr>\n",
       "    <tr>\n",
       "      <th>3</th>\n",
       "      <td>1</td>\n",
       "      <td>19445824.0</td>\n",
       "      <td>8.34</td>\n",
       "      <td>1358.22</td>\n",
       "      <td>1SWASPJ011441.88+375319.0</td>\n",
       "      <td>22556109</td>\n",
       "      <td>NaN</td>\n",
       "      <td>NaN</td>\n",
       "      <td>NaN</td>\n",
       "      <td>https://panoptes-uploads.zooniverse.org/produc...</td>\n",
       "    </tr>\n",
       "    <tr>\n",
       "      <th>4</th>\n",
       "      <td>1</td>\n",
       "      <td>11878545.0</td>\n",
       "      <td>8.33</td>\n",
       "      <td>1404.73</td>\n",
       "      <td>1SWASPJ132232.57-480843.2</td>\n",
       "      <td>23901489</td>\n",
       "      <td>5.0</td>\n",
       "      <td>0.0</td>\n",
       "      <td>2.0</td>\n",
       "      <td>https://panoptes-uploads.zooniverse.org/produc...</td>\n",
       "    </tr>\n",
       "    <tr>\n",
       "      <th>...</th>\n",
       "      <td>...</td>\n",
       "      <td>...</td>\n",
       "      <td>...</td>\n",
       "      <td>...</td>\n",
       "      <td>...</td>\n",
       "      <td>...</td>\n",
       "      <td>...</td>\n",
       "      <td>...</td>\n",
       "      <td>...</td>\n",
       "      <td>...</td>\n",
       "    </tr>\n",
       "    <tr>\n",
       "      <th>95</th>\n",
       "      <td>1</td>\n",
       "      <td>19293998.0</td>\n",
       "      <td>7.78</td>\n",
       "      <td>487.46</td>\n",
       "      <td>1SWASPJ011405.13+372653.3</td>\n",
       "      <td>22554375</td>\n",
       "      <td>6.0</td>\n",
       "      <td>1.0</td>\n",
       "      <td>2.0</td>\n",
       "      <td>https://panoptes-uploads.zooniverse.org/produc...</td>\n",
       "    </tr>\n",
       "    <tr>\n",
       "      <th>96</th>\n",
       "      <td>1</td>\n",
       "      <td>14053492.0</td>\n",
       "      <td>7.78</td>\n",
       "      <td>1404.71</td>\n",
       "      <td>1SWASPJ220345.09-593240.0</td>\n",
       "      <td>23438040</td>\n",
       "      <td>NaN</td>\n",
       "      <td>NaN</td>\n",
       "      <td>NaN</td>\n",
       "      <td>https://panoptes-uploads.zooniverse.org/produc...</td>\n",
       "    </tr>\n",
       "    <tr>\n",
       "      <th>97</th>\n",
       "      <td>1</td>\n",
       "      <td>10366868.0</td>\n",
       "      <td>7.77</td>\n",
       "      <td>377.10</td>\n",
       "      <td>1SWASPJ234813.12+073856.7</td>\n",
       "      <td>27464003</td>\n",
       "      <td>NaN</td>\n",
       "      <td>NaN</td>\n",
       "      <td>NaN</td>\n",
       "      <td>https://panoptes-uploads.zooniverse.org/produc...</td>\n",
       "    </tr>\n",
       "    <tr>\n",
       "      <th>98</th>\n",
       "      <td>1</td>\n",
       "      <td>19446520.0</td>\n",
       "      <td>7.77</td>\n",
       "      <td>817.90</td>\n",
       "      <td>1SWASPJ011226.53+375506.2</td>\n",
       "      <td>22549175</td>\n",
       "      <td>NaN</td>\n",
       "      <td>NaN</td>\n",
       "      <td>NaN</td>\n",
       "      <td>https://panoptes-uploads.zooniverse.org/produc...</td>\n",
       "    </tr>\n",
       "    <tr>\n",
       "      <th>99</th>\n",
       "      <td>2</td>\n",
       "      <td>12582326.0</td>\n",
       "      <td>7.77</td>\n",
       "      <td>2510.09</td>\n",
       "      <td>1SWASPJ000614.19-324858.8</td>\n",
       "      <td>22109342</td>\n",
       "      <td>4.0</td>\n",
       "      <td>0.0</td>\n",
       "      <td>3.0</td>\n",
       "      <td>https://panoptes-uploads.zooniverse.org/produc...</td>\n",
       "    </tr>\n",
       "  </tbody>\n",
       "</table>\n",
       "<p>100 rows × 10 columns</p>\n",
       "</div>"
      ],
      "text/plain": [
       "    Period Number      Period  Sigma  Chi Squared                   SWASP ID  \\\n",
       "0               1  13461621.0   8.68       842.23  1SWASPJ131008.68-475114.1   \n",
       "1               1  19336984.0   8.65      1220.21  1SWASPJ011755.81+413200.5   \n",
       "2               3   8956252.0   8.36      4002.96  1SWASPJ013608.57-351110.2   \n",
       "3               1  19445824.0   8.34      1358.22  1SWASPJ011441.88+375319.0   \n",
       "4               1  11878545.0   8.33      1404.73  1SWASPJ132232.57-480843.2   \n",
       "..            ...         ...    ...          ...                        ...   \n",
       "95              1  19293998.0   7.78       487.46  1SWASPJ011405.13+372653.3   \n",
       "96              1  14053492.0   7.78      1404.71  1SWASPJ220345.09-593240.0   \n",
       "97              1  10366868.0   7.77       377.10  1SWASPJ234813.12+073856.7   \n",
       "98              1  19446520.0   7.77       817.90  1SWASPJ011226.53+375506.2   \n",
       "99              2  12582326.0   7.77      2510.09  1SWASPJ000614.19-324858.8   \n",
       "\n",
       "    Zooniverse ID  Classification  Period Uncertainty  Classification Count  \\\n",
       "0        22086405             4.0                 0.0                   2.0   \n",
       "1        24629787             NaN                 NaN                   NaN   \n",
       "2        24314398             NaN                 NaN                   NaN   \n",
       "3        22556109             NaN                 NaN                   NaN   \n",
       "4        23901489             5.0                 0.0                   2.0   \n",
       "..            ...             ...                 ...                   ...   \n",
       "95       22554375             6.0                 1.0                   2.0   \n",
       "96       23438040             NaN                 NaN                   NaN   \n",
       "97       27464003             NaN                 NaN                   NaN   \n",
       "98       22549175             NaN                 NaN                   NaN   \n",
       "99       22109342             4.0                 0.0                   3.0   \n",
       "\n",
       "                                           Lightcurve  \n",
       "0   https://panoptes-uploads.zooniverse.org/produc...  \n",
       "1   https://panoptes-uploads.zooniverse.org/produc...  \n",
       "2   https://panoptes-uploads.zooniverse.org/produc...  \n",
       "3   https://panoptes-uploads.zooniverse.org/produc...  \n",
       "4   https://panoptes-uploads.zooniverse.org/produc...  \n",
       "..                                                ...  \n",
       "95  https://panoptes-uploads.zooniverse.org/produc...  \n",
       "96  https://panoptes-uploads.zooniverse.org/produc...  \n",
       "97  https://panoptes-uploads.zooniverse.org/produc...  \n",
       "98  https://panoptes-uploads.zooniverse.org/produc...  \n",
       "99  https://panoptes-uploads.zooniverse.org/produc...  \n",
       "\n",
       "[100 rows x 10 columns]"
      ]
     },
     "execution_count": 9,
     "metadata": {},
     "output_type": "execute_result"
    }
   ],
   "source": [
    "top_sigma = swasputils.decode_zoo_locations(top_sigma)\n",
    "top_sigma"
   ]
  },
  {
   "cell_type": "code",
   "execution_count": 10,
   "metadata": {},
   "outputs": [],
   "source": [
    "import os\n",
    "top_sigma.to_csv(os.path.join(swasputils.DATA_LOCATION, 'top_sigma.csv'))"
   ]
  },
  {
   "cell_type": "code",
   "execution_count": null,
   "metadata": {},
   "outputs": [],
   "source": []
  }
 ],
 "metadata": {
  "kernelspec": {
   "display_name": "Python 3",
   "language": "python",
   "name": "python3"
  },
  "language_info": {
   "codemirror_mode": {
    "name": "ipython",
    "version": 3
   },
   "file_extension": ".py",
   "mimetype": "text/x-python",
   "name": "python",
   "nbconvert_exporter": "python",
   "pygments_lexer": "ipython3",
   "version": "3.8.3"
  }
 },
 "nbformat": 4,
 "nbformat_minor": 4
}
