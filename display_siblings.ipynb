{
 "cells": [
  {
   "cell_type": "code",
   "execution_count": 1,
   "metadata": {},
   "outputs": [],
   "source": [
    "from swasputils import UnifiedSubjects"
   ]
  },
  {
   "cell_type": "code",
   "execution_count": 2,
   "metadata": {},
   "outputs": [
    {
     "name": "stderr",
     "output_type": "stream",
     "text": [
      "C:\\Users\\anm83\\Anaconda3\\lib\\site-packages\\IPython\\core\\interactiveshell.py:3343: DtypeWarning: Columns (7,8) have mixed types.Specify dtype option on import or set low_memory=False.\n",
      "  exec(code_obj, self.user_global_ns, self.user_ns)\n"
     ]
    }
   ],
   "source": [
    "s = UnifiedSubjects()"
   ]
  },
  {
   "cell_type": "code",
   "execution_count": 3,
   "metadata": {},
   "outputs": [],
   "source": [
    "sib = s.get_siblings(24116636)"
   ]
  },
  {
   "cell_type": "code",
   "execution_count": 4,
   "metadata": {},
   "outputs": [
    {
     "data": {
      "text/html": [
       "<div>\n",
       "<style scoped>\n",
       "    .dataframe tbody tr th:only-of-type {\n",
       "        vertical-align: middle;\n",
       "    }\n",
       "\n",
       "    .dataframe tbody tr th {\n",
       "        vertical-align: top;\n",
       "    }\n",
       "\n",
       "    .dataframe thead th {\n",
       "        text-align: right;\n",
       "    }\n",
       "</style>\n",
       "<table border=\"1\" class=\"dataframe\">\n",
       "  <thead>\n",
       "    <tr style=\"text-align: right;\">\n",
       "      <th></th>\n",
       "      <th>Period Number</th>\n",
       "      <th>Period</th>\n",
       "      <th>Sigma</th>\n",
       "      <th>Chi Squared</th>\n",
       "      <th>SWASP ID</th>\n",
       "      <th>subject_id</th>\n",
       "      <th>project_id</th>\n",
       "      <th>workflow_id</th>\n",
       "      <th>subject_set_id</th>\n",
       "      <th>metadata</th>\n",
       "      <th>locations</th>\n",
       "      <th>classifications_count</th>\n",
       "      <th>retired_at</th>\n",
       "      <th>retirement_reason</th>\n",
       "      <th>created_at</th>\n",
       "      <th>updated_at</th>\n",
       "    </tr>\n",
       "  </thead>\n",
       "  <tbody>\n",
       "    <tr>\n",
       "      <th>886227</th>\n",
       "      <td>4</td>\n",
       "      <td>69013.64062</td>\n",
       "      <td>4.25</td>\n",
       "      <td>20.51</td>\n",
       "      <td>1SWASPJ130056.52-251359.2</td>\n",
       "      <td>24116636</td>\n",
       "      <td>6767</td>\n",
       "      <td>7534.0</td>\n",
       "      <td>30267</td>\n",
       "      <td>{\"!CERiT\":\"https://wasp.cerit-sc.cz/search?obj...</td>\n",
       "      <td>{\"0\":\"https://panoptes-uploads.zooniverse.org/...</td>\n",
       "      <td>1</td>\n",
       "      <td>NaN</td>\n",
       "      <td>NaN</td>\n",
       "      <td>2018-07-13 09:54:04 UTC</td>\n",
       "      <td>2020-11-30 22:22:00 UTC</td>\n",
       "    </tr>\n",
       "    <tr>\n",
       "      <th>886228</th>\n",
       "      <td>5</td>\n",
       "      <td>67312.00000</td>\n",
       "      <td>4.49</td>\n",
       "      <td>21.25</td>\n",
       "      <td>1SWASPJ130056.52-251359.2</td>\n",
       "      <td>24116638</td>\n",
       "      <td>6767</td>\n",
       "      <td>7534.0</td>\n",
       "      <td>30267</td>\n",
       "      <td>{\"!CERiT\":\"https://wasp.cerit-sc.cz/search?obj...</td>\n",
       "      <td>{\"0\":\"https://panoptes-uploads.zooniverse.org/...</td>\n",
       "      <td>2</td>\n",
       "      <td>NaN</td>\n",
       "      <td>NaN</td>\n",
       "      <td>2018-07-13 09:54:05 UTC</td>\n",
       "      <td>2020-11-30 22:22:00 UTC</td>\n",
       "    </tr>\n",
       "    <tr>\n",
       "      <th>886229</th>\n",
       "      <td>6</td>\n",
       "      <td>60366.05078</td>\n",
       "      <td>4.18</td>\n",
       "      <td>30.30</td>\n",
       "      <td>1SWASPJ130056.52-251359.2</td>\n",
       "      <td>24116640</td>\n",
       "      <td>6767</td>\n",
       "      <td>7534.0</td>\n",
       "      <td>30267</td>\n",
       "      <td>{\"!CERiT\":\"https://wasp.cerit-sc.cz/search?obj...</td>\n",
       "      <td>{\"0\":\"https://panoptes-uploads.zooniverse.org/...</td>\n",
       "      <td>1</td>\n",
       "      <td>NaN</td>\n",
       "      <td>NaN</td>\n",
       "      <td>2018-07-13 09:54:06 UTC</td>\n",
       "      <td>2020-11-30 22:22:01 UTC</td>\n",
       "    </tr>\n",
       "    <tr>\n",
       "      <th>886230</th>\n",
       "      <td>7</td>\n",
       "      <td>39578.13281</td>\n",
       "      <td>3.84</td>\n",
       "      <td>21.96</td>\n",
       "      <td>1SWASPJ130056.52-251359.2</td>\n",
       "      <td>24116642</td>\n",
       "      <td>6767</td>\n",
       "      <td>7534.0</td>\n",
       "      <td>30267</td>\n",
       "      <td>{\"!CERiT\":\"https://wasp.cerit-sc.cz/search?obj...</td>\n",
       "      <td>{\"0\":\"https://panoptes-uploads.zooniverse.org/...</td>\n",
       "      <td>1</td>\n",
       "      <td>NaN</td>\n",
       "      <td>NaN</td>\n",
       "      <td>2018-07-13 09:54:07 UTC</td>\n",
       "      <td>2020-11-30 22:22:01 UTC</td>\n",
       "    </tr>\n",
       "  </tbody>\n",
       "</table>\n",
       "</div>"
      ],
      "text/plain": [
       "        Period Number       Period  Sigma  Chi Squared  \\\n",
       "886227              4  69013.64062   4.25        20.51   \n",
       "886228              5  67312.00000   4.49        21.25   \n",
       "886229              6  60366.05078   4.18        30.30   \n",
       "886230              7  39578.13281   3.84        21.96   \n",
       "\n",
       "                         SWASP ID  subject_id  project_id  workflow_id  \\\n",
       "886227  1SWASPJ130056.52-251359.2    24116636        6767       7534.0   \n",
       "886228  1SWASPJ130056.52-251359.2    24116638        6767       7534.0   \n",
       "886229  1SWASPJ130056.52-251359.2    24116640        6767       7534.0   \n",
       "886230  1SWASPJ130056.52-251359.2    24116642        6767       7534.0   \n",
       "\n",
       "        subject_set_id                                           metadata  \\\n",
       "886227           30267  {\"!CERiT\":\"https://wasp.cerit-sc.cz/search?obj...   \n",
       "886228           30267  {\"!CERiT\":\"https://wasp.cerit-sc.cz/search?obj...   \n",
       "886229           30267  {\"!CERiT\":\"https://wasp.cerit-sc.cz/search?obj...   \n",
       "886230           30267  {\"!CERiT\":\"https://wasp.cerit-sc.cz/search?obj...   \n",
       "\n",
       "                                                locations  \\\n",
       "886227  {\"0\":\"https://panoptes-uploads.zooniverse.org/...   \n",
       "886228  {\"0\":\"https://panoptes-uploads.zooniverse.org/...   \n",
       "886229  {\"0\":\"https://panoptes-uploads.zooniverse.org/...   \n",
       "886230  {\"0\":\"https://panoptes-uploads.zooniverse.org/...   \n",
       "\n",
       "        classifications_count retired_at retirement_reason  \\\n",
       "886227                      1        NaN               NaN   \n",
       "886228                      2        NaN               NaN   \n",
       "886229                      1        NaN               NaN   \n",
       "886230                      1        NaN               NaN   \n",
       "\n",
       "                     created_at               updated_at  \n",
       "886227  2018-07-13 09:54:04 UTC  2020-11-30 22:22:00 UTC  \n",
       "886228  2018-07-13 09:54:05 UTC  2020-11-30 22:22:00 UTC  \n",
       "886229  2018-07-13 09:54:06 UTC  2020-11-30 22:22:01 UTC  \n",
       "886230  2018-07-13 09:54:07 UTC  2020-11-30 22:22:01 UTC  "
      ]
     },
     "execution_count": 4,
     "metadata": {},
     "output_type": "execute_result"
    }
   ],
   "source": [
    "sib.df"
   ]
  },
  {
   "cell_type": "code",
   "execution_count": 5,
   "metadata": {},
   "outputs": [
    {
     "data": {
      "text/html": [
       "<img src=\"https://panoptes-uploads.zooniverse.org/production/subject_location/4126dd73-c671-44d9-b5c3-bb76008f4158.gif\" width=\"500\" height=\"500\"/>"
      ],
      "text/plain": [
       "<IPython.core.display.Image object>"
      ]
     },
     "metadata": {},
     "output_type": "display_data"
    },
    {
     "data": {
      "text/html": [
       "<img src=\"https://panoptes-uploads.zooniverse.org/production/subject_location/55982321-2404-435c-a062-fbaa9404e90e.gif\" width=\"500\" height=\"500\"/>"
      ],
      "text/plain": [
       "<IPython.core.display.Image object>"
      ]
     },
     "metadata": {},
     "output_type": "display_data"
    },
    {
     "data": {
      "text/html": [
       "<img src=\"https://panoptes-uploads.zooniverse.org/production/subject_location/3b3b016e-df6d-41c6-93ce-552bc4125a34.gif\" width=\"500\" height=\"500\"/>"
      ],
      "text/plain": [
       "<IPython.core.display.Image object>"
      ]
     },
     "metadata": {},
     "output_type": "display_data"
    },
    {
     "data": {
      "text/html": [
       "<img src=\"https://panoptes-uploads.zooniverse.org/production/subject_location/7c1eac0b-37c7-4f41-8fea-758c17a06014.gif\" width=\"500\" height=\"500\"/>"
      ],
      "text/plain": [
       "<IPython.core.display.Image object>"
      ]
     },
     "metadata": {},
     "output_type": "display_data"
    }
   ],
   "source": [
    "sib.display_lightcurves()"
   ]
  }
 ],
 "metadata": {
  "kernelspec": {
   "display_name": "Python 3",
   "language": "python",
   "name": "python3"
  },
  "language_info": {
   "codemirror_mode": {
    "name": "ipython",
    "version": 3
   },
   "file_extension": ".py",
   "mimetype": "text/x-python",
   "name": "python",
   "nbconvert_exporter": "python",
   "pygments_lexer": "ipython3",
   "version": "3.8.3"
  }
 },
 "nbformat": 4,
 "nbformat_minor": 4
}
