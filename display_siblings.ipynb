{
 "cells": [
  {
   "cell_type": "code",
   "execution_count": 1,
   "metadata": {},
   "outputs": [],
   "source": [
    "import swasputils"
   ]
  },
  {
   "cell_type": "code",
   "execution_count": 2,
   "metadata": {},
   "outputs": [
    {
     "name": "stderr",
     "output_type": "stream",
     "text": [
      "C:\\Users\\anm83\\Anaconda3\\lib\\site-packages\\IPython\\core\\interactiveshell.py:3418: DtypeWarning: Columns (7,8) have mixed types.Specify dtype option on import or set low_memory=False.\n",
      "  exec(code_obj, self.user_global_ns, self.user_ns)\n",
      "C:\\Users\\anm83\\Anaconda3\\lib\\site-packages\\numpy\\lib\\arraysetops.py:580: FutureWarning: elementwise comparison failed; returning scalar instead, but in the future will perform elementwise comparison\n",
      "  mask |= (ar1 == a)\n"
     ]
    }
   ],
   "source": [
    "s = swasputils.UnifiedSubjects().get_workflow(7534.0)"
   ]
  },
  {
   "cell_type": "code",
   "execution_count": 3,
   "metadata": {},
   "outputs": [],
   "source": [
    "sib = s.get_siblings(24116636)"
   ]
  },
  {
   "cell_type": "code",
   "execution_count": 4,
   "metadata": {},
   "outputs": [
    {
     "data": {
      "text/html": [
       "<div>\n",
       "<style scoped>\n",
       "    .dataframe tbody tr th:only-of-type {\n",
       "        vertical-align: middle;\n",
       "    }\n",
       "\n",
       "    .dataframe tbody tr th {\n",
       "        vertical-align: top;\n",
       "    }\n",
       "\n",
       "    .dataframe thead th {\n",
       "        text-align: right;\n",
       "    }\n",
       "</style>\n",
       "<table border=\"1\" class=\"dataframe\">\n",
       "  <thead>\n",
       "    <tr style=\"text-align: right;\">\n",
       "      <th></th>\n",
       "      <th>project_id</th>\n",
       "      <th>workflow_id</th>\n",
       "      <th>subject_set_id</th>\n",
       "      <th>metadata</th>\n",
       "      <th>locations</th>\n",
       "      <th>classifications_count</th>\n",
       "      <th>retired_at</th>\n",
       "      <th>retirement_reason</th>\n",
       "      <th>created_at</th>\n",
       "      <th>updated_at</th>\n",
       "      <th>SWASP ID</th>\n",
       "      <th>Period Number</th>\n",
       "      <th>index</th>\n",
       "      <th>Classification</th>\n",
       "      <th>Period Uncertainty</th>\n",
       "      <th>Classification Count</th>\n",
       "      <th>Period</th>\n",
       "      <th>Sigma</th>\n",
       "      <th>Chi Squared</th>\n",
       "    </tr>\n",
       "    <tr>\n",
       "      <th>subject_id</th>\n",
       "      <th></th>\n",
       "      <th></th>\n",
       "      <th></th>\n",
       "      <th></th>\n",
       "      <th></th>\n",
       "      <th></th>\n",
       "      <th></th>\n",
       "      <th></th>\n",
       "      <th></th>\n",
       "      <th></th>\n",
       "      <th></th>\n",
       "      <th></th>\n",
       "      <th></th>\n",
       "      <th></th>\n",
       "      <th></th>\n",
       "      <th></th>\n",
       "      <th></th>\n",
       "      <th></th>\n",
       "      <th></th>\n",
       "    </tr>\n",
       "  </thead>\n",
       "  <tbody>\n",
       "    <tr>\n",
       "      <th>24116636</th>\n",
       "      <td>6767</td>\n",
       "      <td>7534.0</td>\n",
       "      <td>30267</td>\n",
       "      <td>{\"!CERiT\":\"https://wasp.cerit-sc.cz/search?obj...</td>\n",
       "      <td>{\"0\":\"https://panoptes-uploads.zooniverse.org/...</td>\n",
       "      <td>2</td>\n",
       "      <td>NaN</td>\n",
       "      <td>NaN</td>\n",
       "      <td>2018-07-13 09:54:04 UTC</td>\n",
       "      <td>2020-11-30 22:22:00 UTC</td>\n",
       "      <td>1SWASPJ130056.52-251359.2</td>\n",
       "      <td>4</td>\n",
       "      <td>NaN</td>\n",
       "      <td>NaN</td>\n",
       "      <td>NaN</td>\n",
       "      <td>NaN</td>\n",
       "      <td>NaN</td>\n",
       "      <td>NaN</td>\n",
       "      <td>NaN</td>\n",
       "    </tr>\n",
       "    <tr>\n",
       "      <th>24116638</th>\n",
       "      <td>6767</td>\n",
       "      <td>7534.0</td>\n",
       "      <td>30267</td>\n",
       "      <td>{\"!CERiT\":\"https://wasp.cerit-sc.cz/search?obj...</td>\n",
       "      <td>{\"0\":\"https://panoptes-uploads.zooniverse.org/...</td>\n",
       "      <td>3</td>\n",
       "      <td>NaN</td>\n",
       "      <td>NaN</td>\n",
       "      <td>2018-07-13 09:54:05 UTC</td>\n",
       "      <td>2020-11-30 22:22:00 UTC</td>\n",
       "      <td>1SWASPJ130056.52-251359.2</td>\n",
       "      <td>5</td>\n",
       "      <td>378573.0</td>\n",
       "      <td>6.0</td>\n",
       "      <td>1.0</td>\n",
       "      <td>2.0</td>\n",
       "      <td>NaN</td>\n",
       "      <td>NaN</td>\n",
       "      <td>NaN</td>\n",
       "    </tr>\n",
       "    <tr>\n",
       "      <th>24116640</th>\n",
       "      <td>6767</td>\n",
       "      <td>7534.0</td>\n",
       "      <td>30267</td>\n",
       "      <td>{\"!CERiT\":\"https://wasp.cerit-sc.cz/search?obj...</td>\n",
       "      <td>{\"0\":\"https://panoptes-uploads.zooniverse.org/...</td>\n",
       "      <td>4</td>\n",
       "      <td>NaN</td>\n",
       "      <td>NaN</td>\n",
       "      <td>2018-07-13 09:54:06 UTC</td>\n",
       "      <td>2020-11-30 22:22:01 UTC</td>\n",
       "      <td>1SWASPJ130056.52-251359.2</td>\n",
       "      <td>6</td>\n",
       "      <td>NaN</td>\n",
       "      <td>NaN</td>\n",
       "      <td>NaN</td>\n",
       "      <td>NaN</td>\n",
       "      <td>NaN</td>\n",
       "      <td>NaN</td>\n",
       "      <td>NaN</td>\n",
       "    </tr>\n",
       "    <tr>\n",
       "      <th>24116642</th>\n",
       "      <td>6767</td>\n",
       "      <td>7534.0</td>\n",
       "      <td>30267</td>\n",
       "      <td>{\"!CERiT\":\"https://wasp.cerit-sc.cz/search?obj...</td>\n",
       "      <td>{\"0\":\"https://panoptes-uploads.zooniverse.org/...</td>\n",
       "      <td>4</td>\n",
       "      <td>NaN</td>\n",
       "      <td>NaN</td>\n",
       "      <td>2018-07-13 09:54:07 UTC</td>\n",
       "      <td>2020-11-30 22:22:01 UTC</td>\n",
       "      <td>1SWASPJ130056.52-251359.2</td>\n",
       "      <td>7</td>\n",
       "      <td>NaN</td>\n",
       "      <td>NaN</td>\n",
       "      <td>NaN</td>\n",
       "      <td>NaN</td>\n",
       "      <td>NaN</td>\n",
       "      <td>NaN</td>\n",
       "      <td>NaN</td>\n",
       "    </tr>\n",
       "  </tbody>\n",
       "</table>\n",
       "</div>"
      ],
      "text/plain": [
       "            project_id  workflow_id  subject_set_id  \\\n",
       "subject_id                                            \n",
       "24116636          6767       7534.0           30267   \n",
       "24116638          6767       7534.0           30267   \n",
       "24116640          6767       7534.0           30267   \n",
       "24116642          6767       7534.0           30267   \n",
       "\n",
       "                                                     metadata  \\\n",
       "subject_id                                                      \n",
       "24116636    {\"!CERiT\":\"https://wasp.cerit-sc.cz/search?obj...   \n",
       "24116638    {\"!CERiT\":\"https://wasp.cerit-sc.cz/search?obj...   \n",
       "24116640    {\"!CERiT\":\"https://wasp.cerit-sc.cz/search?obj...   \n",
       "24116642    {\"!CERiT\":\"https://wasp.cerit-sc.cz/search?obj...   \n",
       "\n",
       "                                                    locations  \\\n",
       "subject_id                                                      \n",
       "24116636    {\"0\":\"https://panoptes-uploads.zooniverse.org/...   \n",
       "24116638    {\"0\":\"https://panoptes-uploads.zooniverse.org/...   \n",
       "24116640    {\"0\":\"https://panoptes-uploads.zooniverse.org/...   \n",
       "24116642    {\"0\":\"https://panoptes-uploads.zooniverse.org/...   \n",
       "\n",
       "            classifications_count retired_at retirement_reason  \\\n",
       "subject_id                                                       \n",
       "24116636                        2        NaN               NaN   \n",
       "24116638                        3        NaN               NaN   \n",
       "24116640                        4        NaN               NaN   \n",
       "24116642                        4        NaN               NaN   \n",
       "\n",
       "                         created_at               updated_at  \\\n",
       "subject_id                                                     \n",
       "24116636    2018-07-13 09:54:04 UTC  2020-11-30 22:22:00 UTC   \n",
       "24116638    2018-07-13 09:54:05 UTC  2020-11-30 22:22:00 UTC   \n",
       "24116640    2018-07-13 09:54:06 UTC  2020-11-30 22:22:01 UTC   \n",
       "24116642    2018-07-13 09:54:07 UTC  2020-11-30 22:22:01 UTC   \n",
       "\n",
       "                             SWASP ID  Period Number     index  \\\n",
       "subject_id                                                       \n",
       "24116636    1SWASPJ130056.52-251359.2              4       NaN   \n",
       "24116638    1SWASPJ130056.52-251359.2              5  378573.0   \n",
       "24116640    1SWASPJ130056.52-251359.2              6       NaN   \n",
       "24116642    1SWASPJ130056.52-251359.2              7       NaN   \n",
       "\n",
       "            Classification  Period Uncertainty  Classification Count  Period  \\\n",
       "subject_id                                                                     \n",
       "24116636               NaN                 NaN                   NaN     NaN   \n",
       "24116638               6.0                 1.0                   2.0     NaN   \n",
       "24116640               NaN                 NaN                   NaN     NaN   \n",
       "24116642               NaN                 NaN                   NaN     NaN   \n",
       "\n",
       "            Sigma  Chi Squared  \n",
       "subject_id                      \n",
       "24116636      NaN          NaN  \n",
       "24116638      NaN          NaN  \n",
       "24116640      NaN          NaN  \n",
       "24116642      NaN          NaN  "
      ]
     },
     "execution_count": 4,
     "metadata": {},
     "output_type": "execute_result"
    }
   ],
   "source": [
    "sib.df"
   ]
  },
  {
   "cell_type": "code",
   "execution_count": 5,
   "metadata": {},
   "outputs": [
    {
     "data": {
      "text/html": [
       "<img src=\"https://panoptes-uploads.zooniverse.org/subject_location/4126dd73-c671-44d9-b5c3-bb76008f4158.gif\" width=\"500\" height=\"500\"/>"
      ],
      "text/plain": [
       "<IPython.core.display.Image object>"
      ]
     },
     "metadata": {},
     "output_type": "display_data"
    },
    {
     "data": {
      "text/html": [
       "<img src=\"https://panoptes-uploads.zooniverse.org/subject_location/55982321-2404-435c-a062-fbaa9404e90e.gif\" width=\"500\" height=\"500\"/>"
      ],
      "text/plain": [
       "<IPython.core.display.Image object>"
      ]
     },
     "metadata": {},
     "output_type": "display_data"
    },
    {
     "data": {
      "text/html": [
       "<img src=\"https://panoptes-uploads.zooniverse.org/subject_location/3b3b016e-df6d-41c6-93ce-552bc4125a34.gif\" width=\"500\" height=\"500\"/>"
      ],
      "text/plain": [
       "<IPython.core.display.Image object>"
      ]
     },
     "metadata": {},
     "output_type": "display_data"
    },
    {
     "data": {
      "text/html": [
       "<img src=\"https://panoptes-uploads.zooniverse.org/subject_location/7c1eac0b-37c7-4f41-8fea-758c17a06014.gif\" width=\"500\" height=\"500\"/>"
      ],
      "text/plain": [
       "<IPython.core.display.Image object>"
      ]
     },
     "metadata": {},
     "output_type": "display_data"
    }
   ],
   "source": [
    "sib.display_lightcurves()"
   ]
  },
  {
   "cell_type": "code",
   "execution_count": 6,
   "metadata": {},
   "outputs": [
    {
     "name": "stderr",
     "output_type": "stream",
     "text": [
      "C:\\Users\\anm83\\Anaconda3\\lib\\site-packages\\IPython\\core\\interactiveshell.py:3338: DtypeWarning: Columns (8,9) have mixed types.Specify dtype option on import or set low_memory=False.\n",
      "  if (await self.run_code(code, result,  async_=asy)):\n",
      "C:\\Users\\anm83\\Anaconda3\\lib\\site-packages\\numpy\\lib\\arraysetops.py:580: FutureWarning: elementwise comparison failed; returning scalar instead, but in the future will perform elementwise comparison\n",
      "  mask |= (ar1 == a)\n"
     ]
    }
   ],
   "source": [
    "c = swasputils.ZooniverseClassifications().get_subjects(sib.df.index)"
   ]
  },
  {
   "cell_type": "code",
   "execution_count": 7,
   "metadata": {},
   "outputs": [
    {
     "data": {
      "text/plain": [
       "<AxesSubplot:xlabel='subject_ids'>"
      ]
     },
     "execution_count": 7,
     "metadata": {},
     "output_type": "execute_result"
    },
    {
     "data": {
      "image/png": "[encoded data removed]",
      "text/plain": [
       "<Figure size 432x288 with 1 Axes>"
      ]
     },
     "metadata": {
      "needs_background": "light"
     },
     "output_type": "display_data"
    }
   ],
   "source": [
    "c.count_annotations().plot.bar()"
   ]
  },
  {
   "cell_type": "code",
   "execution_count": 8,
   "metadata": {},
   "outputs": [
    {
     "data": {
      "text/html": [
       "<div>\n",
       "<style scoped>\n",
       "    .dataframe tbody tr th:only-of-type {\n",
       "        vertical-align: middle;\n",
       "    }\n",
       "\n",
       "    .dataframe tbody tr th {\n",
       "        vertical-align: top;\n",
       "    }\n",
       "\n",
       "    .dataframe thead th {\n",
       "        text-align: right;\n",
       "    }\n",
       "</style>\n",
       "<table border=\"1\" class=\"dataframe\">\n",
       "  <thead>\n",
       "    <tr style=\"text-align: right;\">\n",
       "      <th>annotation_T0</th>\n",
       "      <th>EW type</th>\n",
       "      <th>Junk</th>\n",
       "      <th>Pulsator</th>\n",
       "      <th>Rotator</th>\n",
       "      <th>Unknown</th>\n",
       "    </tr>\n",
       "    <tr>\n",
       "      <th>subject_ids</th>\n",
       "      <th></th>\n",
       "      <th></th>\n",
       "      <th></th>\n",
       "      <th></th>\n",
       "      <th></th>\n",
       "    </tr>\n",
       "  </thead>\n",
       "  <tbody>\n",
       "    <tr>\n",
       "      <th>24116636</th>\n",
       "      <td>1</td>\n",
       "      <td>0</td>\n",
       "      <td>1</td>\n",
       "      <td>0</td>\n",
       "      <td>0</td>\n",
       "    </tr>\n",
       "    <tr>\n",
       "      <th>24116638</th>\n",
       "      <td>0</td>\n",
       "      <td>3</td>\n",
       "      <td>0</td>\n",
       "      <td>0</td>\n",
       "      <td>1</td>\n",
       "    </tr>\n",
       "    <tr>\n",
       "      <th>24116640</th>\n",
       "      <td>0</td>\n",
       "      <td>2</td>\n",
       "      <td>0</td>\n",
       "      <td>0</td>\n",
       "      <td>2</td>\n",
       "    </tr>\n",
       "    <tr>\n",
       "      <th>24116642</th>\n",
       "      <td>1</td>\n",
       "      <td>1</td>\n",
       "      <td>0</td>\n",
       "      <td>1</td>\n",
       "      <td>1</td>\n",
       "    </tr>\n",
       "  </tbody>\n",
       "</table>\n",
       "</div>"
      ],
      "text/plain": [
       "annotation_T0  EW type  Junk  Pulsator  Rotator  Unknown\n",
       "subject_ids                                             \n",
       "24116636             1     0         1        0        0\n",
       "24116638             0     3         0        0        1\n",
       "24116640             0     2         0        0        2\n",
       "24116642             1     1         0        1        1"
      ]
     },
     "execution_count": 8,
     "metadata": {},
     "output_type": "execute_result"
    }
   ],
   "source": [
    "c.count_annotations()"
   ]
  },
  {
   "cell_type": "code",
   "execution_count": null,
   "metadata": {},
   "outputs": [],
   "source": []
  }
 ],
 "metadata": {
  "kernelspec": {
   "display_name": "Python 3",
   "language": "python",
   "name": "python3"
  },
  "language_info": {
   "codemirror_mode": {
    "name": "ipython",
    "version": 3
   },
   "file_extension": ".py",
   "mimetype": "text/x-python",
   "name": "python",
   "nbconvert_exporter": "python",
   "pygments_lexer": "ipython3",
   "version": "3.8.5"
  }
 },
 "nbformat": 4,
 "nbformat_minor": 4
}
