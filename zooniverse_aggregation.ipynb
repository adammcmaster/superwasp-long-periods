{
 "cells": [
  {
   "cell_type": "markdown",
   "id": "double-banana",
   "metadata": {},
   "source": [
    "# WARNING: This file is a work in progress and its results should not be trusted!"
   ]
  },
  {
   "cell_type": "code",
   "execution_count": 1,
   "id": "interracial-garage",
   "metadata": {},
   "outputs": [],
   "source": [
    "import os\n",
    "\n",
    "import swasputils"
   ]
  },
  {
   "cell_type": "code",
   "execution_count": 2,
   "id": "initial-calgary",
   "metadata": {},
   "outputs": [
    {
     "name": "stderr",
     "output_type": "stream",
     "text": [
      "C:\\Users\\anm83\\Anaconda3\\lib\\site-packages\\IPython\\core\\interactiveshell.py:3338: DtypeWarning: Columns (8,9) have mixed types.Specify dtype option on import or set low_memory=False.\n",
      "  if (await self.run_code(code, result,  async_=asy)):\n",
      "C:\\Users\\anm83\\Anaconda3\\lib\\site-packages\\numpy\\lib\\arraysetops.py:580: FutureWarning: elementwise comparison failed; returning scalar instead, but in the future will perform elementwise comparison\n",
      "  mask |= (ar1 == a)\n"
     ]
    }
   ],
   "source": [
    "classifications = swasputils.ZooniverseClassifications()"
   ]
  },
  {
   "cell_type": "code",
   "execution_count": 3,
   "id": "premier-subscription",
   "metadata": {},
   "outputs": [],
   "source": [
    "aggregations = {}\n",
    "SKIP_WORKFLOWS = {5214,17339}\n",
    "for workflow_id, workflow_classifications in classifications.workflows.items():\n",
    "    if workflow_id in SKIP_WORKFLOWS:\n",
    "        continue\n",
    "    aggregations[workflow_id] = workflow_classifications.count_annotations()\n",
    "    aggregations[workflow_id].to_csv(\n",
    "        os.path.join(swasputils.DATA_LOCATION, 'aggregated-workflow-{}.csv'.format(workflow_id))\n",
    "    )"
   ]
  },
  {
   "cell_type": "code",
   "execution_count": 9,
   "id": "certain-publisher",
   "metadata": {},
   "outputs": [],
   "source": [
    "d=aggregations[17313].value_counts()\n",
    "import pandas\n",
    "#pandas.DataFrame()"
   ]
  },
  {
   "cell_type": "code",
   "execution_count": 16,
   "id": "latin-plenty",
   "metadata": {},
   "outputs": [
    {
     "data": {
      "text/plain": [
       "<AxesSubplot:xlabel='Real', ylabel='Junk'>"
      ]
     },
     "execution_count": 16,
     "metadata": {},
     "output_type": "execute_result"
    },
    {
     "data": {
      "image/png": "[encoded data removed]",
      "text/plain": [
       "<Figure size 432x288 with 2 Axes>"
      ]
     },
     "metadata": {
      "needs_background": "light"
     },
     "output_type": "display_data"
    }
   ],
   "source": [
    "d.to_frame().reset_index().plot.scatter(\n",
    "    x='Real',\n",
    "    y='Junk',\n",
    "    c=0\n",
    ")"
   ]
  }
 ],
 "metadata": {
  "kernelspec": {
   "display_name": "Python 3",
   "language": "python",
   "name": "python3"
  },
  "language_info": {
   "codemirror_mode": {
    "name": "ipython",
    "version": 3
   },
   "file_extension": ".py",
   "mimetype": "text/x-python",
   "name": "python",
   "nbconvert_exporter": "python",
   "pygments_lexer": "ipython3",
   "version": "3.8.5"
  }
 },
 "nbformat": 4,
 "nbformat_minor": 5
}
