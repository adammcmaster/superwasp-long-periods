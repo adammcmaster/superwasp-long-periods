{
 "cells": [
  {
   "cell_type": "code",
   "execution_count": 1,
   "id": "conceptual-douglas",
   "metadata": {},
   "outputs": [],
   "source": [
    "import swasputils"
   ]
  },
  {
   "cell_type": "code",
   "execution_count": 2,
   "id": "invisible-mills",
   "metadata": {},
   "outputs": [],
   "source": [
    "classifications = swasputils.AggregatedClassifications()\n",
    "classifications.add_classification_labels()"
   ]
  },
  {
   "cell_type": "code",
   "execution_count": 3,
   "id": "beginning-consideration",
   "metadata": {},
   "outputs": [],
   "source": [
    "pulsators = classifications.pulsators"
   ]
  },
  {
   "cell_type": "code",
   "execution_count": null,
   "id": "pleasant-coffee",
   "metadata": {},
   "outputs": [],
   "source": [
    "pulsators.df = pulsators.df[pulsators.df['Period'] >= 100 * swasputils.SECONDS_PER_DAY]"
   ]
  },
  {
   "cell_type": "code",
   "execution_count": 6,
   "id": "informed-transsexual",
   "metadata": {},
   "outputs": [],
   "source": [
    "pulsators.add_vsx_types()"
   ]
  },
  {
   "cell_type": "code",
   "execution_count": 12,
   "id": "personalized-negotiation",
   "metadata": {},
   "outputs": [
    {
     "data": {
      "text/plain": [
       "<AxesSubplot:>"
      ]
     },
     "execution_count": 12,
     "metadata": {},
     "output_type": "execute_result"
    },
    {
     "data": {
      "image/png": "[encoded data removed]",
      "text/plain": [
       "<Figure size 432x288 with 1 Axes>"
      ]
     },
     "metadata": {
      "needs_background": "light"
     },
     "output_type": "display_data"
    }
   ],
   "source": [
    "pulsators.df['VSX Type'].value_counts().plot.bar()"
   ]
  },
  {
   "cell_type": "code",
   "execution_count": 16,
   "id": "fossil-clinton",
   "metadata": {},
   "outputs": [
    {
     "data": {
      "text/plain": [
       "171"
      ]
     },
     "execution_count": 16,
     "metadata": {},
     "output_type": "execute_result"
    }
   ],
   "source": [
    "len(pulsators.df[pulsators.df['VSX Type'].notna()])"
   ]
  },
  {
   "cell_type": "code",
   "execution_count": 17,
   "id": "normal-edwards",
   "metadata": {},
   "outputs": [
    {
     "data": {
      "text/plain": [
       "1495"
      ]
     },
     "execution_count": 17,
     "metadata": {},
     "output_type": "execute_result"
    }
   ],
   "source": [
    "len(pulsators.df[pulsators.df['VSX Type'].isna()])"
   ]
  }
 ],
 "metadata": {
  "kernelspec": {
   "display_name": "Python 3",
   "language": "python",
   "name": "python3"
  },
  "language_info": {
   "codemirror_mode": {
    "name": "ipython",
    "version": 3
   },
   "file_extension": ".py",
   "mimetype": "text/x-python",
   "name": "python",
   "nbconvert_exporter": "python",
   "pygments_lexer": "ipython3",
   "version": "3.8.5"
  }
 },
 "nbformat": 4,
 "nbformat_minor": 5
}
