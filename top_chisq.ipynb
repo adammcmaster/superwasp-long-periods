{
 "cells": [
  {
   "cell_type": "code",
   "execution_count": 1,
   "metadata": {},
   "outputs": [],
   "source": [
    "import swasputils"
   ]
  },
  {
   "cell_type": "code",
   "execution_count": 2,
   "metadata": {},
   "outputs": [
    {
     "name": "stderr",
     "output_type": "stream",
     "text": [
      "C:\\Users\\anm83\\Anaconda3\\lib\\site-packages\\IPython\\core\\interactiveshell.py:3263: DtypeWarning: Columns (7,8) have mixed types.Specify dtype option on import or set low_memory=False.\n",
      "  if (await self.run_code(code, result,  async_=asy)):\n"
     ]
    }
   ],
   "source": [
    "objects = swasputils.load_objects()\n",
    "zoo_lookup = swasputils.load_lookup()\n",
    "zoo_subjects = swasputils.load_zoo_subjects()"
   ]
  },
  {
   "cell_type": "code",
   "execution_count": 3,
   "metadata": {},
   "outputs": [],
   "source": [
    "top_chisq = objects.sort_values('Chi Squared', ascending=False)[:100]"
   ]
  },
  {
   "cell_type": "code",
   "execution_count": 4,
   "metadata": {},
   "outputs": [
    {
     "data": {
      "text/plain": [
       "<matplotlib.axes._subplots.AxesSubplot at 0x1e90cbf96a0>"
      ]
     },
     "execution_count": 4,
     "metadata": {},
     "output_type": "execute_result"
    },
    {
     "data": {
      "image/png": "[encoded data removed]",
      "text/plain": [
       "<Figure size 432x288 with 1 Axes>"
      ]
     },
     "metadata": {
      "needs_background": "light"
     },
     "output_type": "display_data"
    }
   ],
   "source": [
    "top_chisq.plot.scatter('Period', 'Chi Squared')"
   ]
  },
  {
   "cell_type": "code",
   "execution_count": 5,
   "metadata": {},
   "outputs": [],
   "source": [
    "top_chisq = swasputils.merge_zoo_ids(top_chisq, zoo_lookup)"
   ]
  },
  {
   "cell_type": "code",
   "execution_count": 6,
   "metadata": {},
   "outputs": [],
   "source": [
    "top_chisq = swasputils.merge_zoo_subjects(top_chisq, zoo_subjects)"
   ]
  },
  {
   "cell_type": "code",
   "execution_count": 7,
   "metadata": {},
   "outputs": [
    {
     "name": "stderr",
     "output_type": "stream",
     "text": [
      "C:\\Users\\anm83\\Documents\\Code\\superwasp-long-periods\\swasputils.py:60: YAMLLoadWarning: calling yaml.load() without Loader=... is deprecated, as the default Loader is unsafe. Please read https://msg.pyyaml.org/load for full details.\n",
      "  lambda s: yaml.load(s)['0']\n"
     ]
    },
    {
     "data": {
      "text/html": [
       "<div>\n",
       "<style scoped>\n",
       "    .dataframe tbody tr th:only-of-type {\n",
       "        vertical-align: middle;\n",
       "    }\n",
       "\n",
       "    .dataframe tbody tr th {\n",
       "        vertical-align: top;\n",
       "    }\n",
       "\n",
       "    .dataframe thead th {\n",
       "        text-align: right;\n",
       "    }\n",
       "</style>\n",
       "<table border=\"1\" class=\"dataframe\">\n",
       "  <thead>\n",
       "    <tr style=\"text-align: right;\">\n",
       "      <th></th>\n",
       "      <th>Period Number</th>\n",
       "      <th>Period</th>\n",
       "      <th>Sigma</th>\n",
       "      <th>Chi Squared</th>\n",
       "      <th>SWASP ID</th>\n",
       "      <th>Zooniverse ID</th>\n",
       "      <th>Lightcurve</th>\n",
       "    </tr>\n",
       "  </thead>\n",
       "  <tbody>\n",
       "    <tr>\n",
       "      <th>0</th>\n",
       "      <td>1</td>\n",
       "      <td>28343114.0</td>\n",
       "      <td>6.16</td>\n",
       "      <td>14749.57</td>\n",
       "      <td>1SWASPJ082532.84+352533.0</td>\n",
       "      <td>24552064</td>\n",
       "      <td>https://panoptes-uploads.zooniverse.org/produc...</td>\n",
       "    </tr>\n",
       "    <tr>\n",
       "      <th>1</th>\n",
       "      <td>1</td>\n",
       "      <td>9071568.0</td>\n",
       "      <td>5.60</td>\n",
       "      <td>14509.66</td>\n",
       "      <td>1SWASPJ001511.32-601325.0</td>\n",
       "      <td>22113344</td>\n",
       "      <td>https://panoptes-uploads.zooniverse.org/produc...</td>\n",
       "    </tr>\n",
       "    <tr>\n",
       "      <th>2</th>\n",
       "      <td>1</td>\n",
       "      <td>12052198.0</td>\n",
       "      <td>3.67</td>\n",
       "      <td>10195.26</td>\n",
       "      <td>1SWASPJ215119.38+364939.4</td>\n",
       "      <td>24528283</td>\n",
       "      <td>https://panoptes-uploads.zooniverse.org/produc...</td>\n",
       "    </tr>\n",
       "    <tr>\n",
       "      <th>3</th>\n",
       "      <td>1</td>\n",
       "      <td>18395074.0</td>\n",
       "      <td>4.31</td>\n",
       "      <td>8486.41</td>\n",
       "      <td>1SWASPJ044003.07-522326.1</td>\n",
       "      <td>24176385</td>\n",
       "      <td>https://panoptes-uploads.zooniverse.org/produc...</td>\n",
       "    </tr>\n",
       "    <tr>\n",
       "      <th>4</th>\n",
       "      <td>2</td>\n",
       "      <td>15148694.0</td>\n",
       "      <td>4.11</td>\n",
       "      <td>8322.36</td>\n",
       "      <td>1SWASPJ214919.07+203747.1</td>\n",
       "      <td>24524529</td>\n",
       "      <td>https://panoptes-uploads.zooniverse.org/produc...</td>\n",
       "    </tr>\n",
       "    <tr>\n",
       "      <th>...</th>\n",
       "      <td>...</td>\n",
       "      <td>...</td>\n",
       "      <td>...</td>\n",
       "      <td>...</td>\n",
       "      <td>...</td>\n",
       "      <td>...</td>\n",
       "      <td>...</td>\n",
       "    </tr>\n",
       "    <tr>\n",
       "      <th>95</th>\n",
       "      <td>2</td>\n",
       "      <td>12694142.0</td>\n",
       "      <td>5.65</td>\n",
       "      <td>3899.92</td>\n",
       "      <td>1SWASPJ030521.29-521804.6</td>\n",
       "      <td>23974936</td>\n",
       "      <td>https://panoptes-uploads.zooniverse.org/produc...</td>\n",
       "    </tr>\n",
       "    <tr>\n",
       "      <th>96</th>\n",
       "      <td>1</td>\n",
       "      <td>15934215.0</td>\n",
       "      <td>4.89</td>\n",
       "      <td>3854.52</td>\n",
       "      <td>1SWASPJ162919.51+025548.2</td>\n",
       "      <td>24287082</td>\n",
       "      <td>https://panoptes-uploads.zooniverse.org/produc...</td>\n",
       "    </tr>\n",
       "    <tr>\n",
       "      <th>97</th>\n",
       "      <td>1</td>\n",
       "      <td>19199410.0</td>\n",
       "      <td>6.45</td>\n",
       "      <td>3829.56</td>\n",
       "      <td>1SWASPJ012409.24+411013.3</td>\n",
       "      <td>22667438</td>\n",
       "      <td>https://panoptes-uploads.zooniverse.org/produc...</td>\n",
       "    </tr>\n",
       "    <tr>\n",
       "      <th>98</th>\n",
       "      <td>1</td>\n",
       "      <td>13137571.0</td>\n",
       "      <td>5.49</td>\n",
       "      <td>3799.08</td>\n",
       "      <td>1SWASPJ205836.45-041741.7</td>\n",
       "      <td>23478887</td>\n",
       "      <td>https://panoptes-uploads.zooniverse.org/produc...</td>\n",
       "    </tr>\n",
       "    <tr>\n",
       "      <th>99</th>\n",
       "      <td>1</td>\n",
       "      <td>14043724.0</td>\n",
       "      <td>7.04</td>\n",
       "      <td>3788.83</td>\n",
       "      <td>1SWASPJ042030.20-541932.0</td>\n",
       "      <td>25250931</td>\n",
       "      <td>https://panoptes-uploads.zooniverse.org/produc...</td>\n",
       "    </tr>\n",
       "  </tbody>\n",
       "</table>\n",
       "<p>100 rows × 7 columns</p>\n",
       "</div>"
      ],
      "text/plain": [
       "    Period Number      Period  Sigma  Chi Squared                   SWASP ID  \\\n",
       "0               1  28343114.0   6.16     14749.57  1SWASPJ082532.84+352533.0   \n",
       "1               1   9071568.0   5.60     14509.66  1SWASPJ001511.32-601325.0   \n",
       "2               1  12052198.0   3.67     10195.26  1SWASPJ215119.38+364939.4   \n",
       "3               1  18395074.0   4.31      8486.41  1SWASPJ044003.07-522326.1   \n",
       "4               2  15148694.0   4.11      8322.36  1SWASPJ214919.07+203747.1   \n",
       "..            ...         ...    ...          ...                        ...   \n",
       "95              2  12694142.0   5.65      3899.92  1SWASPJ030521.29-521804.6   \n",
       "96              1  15934215.0   4.89      3854.52  1SWASPJ162919.51+025548.2   \n",
       "97              1  19199410.0   6.45      3829.56  1SWASPJ012409.24+411013.3   \n",
       "98              1  13137571.0   5.49      3799.08  1SWASPJ205836.45-041741.7   \n",
       "99              1  14043724.0   7.04      3788.83  1SWASPJ042030.20-541932.0   \n",
       "\n",
       "    Zooniverse ID                                         Lightcurve  \n",
       "0        24552064  https://panoptes-uploads.zooniverse.org/produc...  \n",
       "1        22113344  https://panoptes-uploads.zooniverse.org/produc...  \n",
       "2        24528283  https://panoptes-uploads.zooniverse.org/produc...  \n",
       "3        24176385  https://panoptes-uploads.zooniverse.org/produc...  \n",
       "4        24524529  https://panoptes-uploads.zooniverse.org/produc...  \n",
       "..            ...                                                ...  \n",
       "95       23974936  https://panoptes-uploads.zooniverse.org/produc...  \n",
       "96       24287082  https://panoptes-uploads.zooniverse.org/produc...  \n",
       "97       22667438  https://panoptes-uploads.zooniverse.org/produc...  \n",
       "98       23478887  https://panoptes-uploads.zooniverse.org/produc...  \n",
       "99       25250931  https://panoptes-uploads.zooniverse.org/produc...  \n",
       "\n",
       "[100 rows x 7 columns]"
      ]
     },
     "execution_count": 7,
     "metadata": {},
     "output_type": "execute_result"
    }
   ],
   "source": [
    "top_chisq = swasputils.decode_zoo_locations(top_chisq)\n",
    "top_chisq"
   ]
  },
  {
   "cell_type": "code",
   "execution_count": 8,
   "metadata": {},
   "outputs": [],
   "source": [
    "import os\n",
    "top_chisq.to_csv(os.path.join('superwasp-data', 'top_chisq.csv'))"
   ]
  },
  {
   "cell_type": "code",
   "execution_count": null,
   "metadata": {},
   "outputs": [],
   "source": []
  }
 ],
 "metadata": {
  "kernelspec": {
   "display_name": "Python 3",
   "language": "python",
   "name": "python3"
  },
  "language_info": {
   "codemirror_mode": {
    "name": "ipython",
    "version": 3
   },
   "file_extension": ".py",
   "mimetype": "text/x-python",
   "name": "python",
   "nbconvert_exporter": "python",
   "pygments_lexer": "ipython3",
   "version": "3.8.3"
  }
 },
 "nbformat": 4,
 "nbformat_minor": 4
}
