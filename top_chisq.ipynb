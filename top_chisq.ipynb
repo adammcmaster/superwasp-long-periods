{
 "cells": [
  {
   "cell_type": "code",
   "execution_count": 1,
   "metadata": {},
   "outputs": [],
   "source": [
    "import swasputils"
   ]
  },
  {
   "cell_type": "code",
   "execution_count": 2,
   "metadata": {},
   "outputs": [
    {
     "name": "stderr",
     "output_type": "stream",
     "text": [
      "C:\\Users\\anm83\\Anaconda3\\lib\\site-packages\\IPython\\core\\interactiveshell.py:3263: DtypeWarning: Columns (7,8) have mixed types.Specify dtype option on import or set low_memory=False.\n",
      "  if (await self.run_code(code, result,  async_=asy)):\n"
     ]
    }
   ],
   "source": [
    "objects = swasputils.load_objects()\n",
    "zoo_lookup = swasputils.load_lookup()\n",
    "zoo_subjects = swasputils.load_zoo_subjects()"
   ]
  },
  {
   "cell_type": "code",
   "execution_count": 3,
   "metadata": {},
   "outputs": [
    {
     "data": {
      "text/html": [
       "<div>\n",
       "<style scoped>\n",
       "    .dataframe tbody tr th:only-of-type {\n",
       "        vertical-align: middle;\n",
       "    }\n",
       "\n",
       "    .dataframe tbody tr th {\n",
       "        vertical-align: top;\n",
       "    }\n",
       "\n",
       "    .dataframe thead th {\n",
       "        text-align: right;\n",
       "    }\n",
       "</style>\n",
       "<table border=\"1\" class=\"dataframe\">\n",
       "  <thead>\n",
       "    <tr style=\"text-align: right;\">\n",
       "      <th></th>\n",
       "      <th>Camera Number</th>\n",
       "      <th>Period Number</th>\n",
       "      <th>Period</th>\n",
       "      <th>Sigma</th>\n",
       "      <th>Chi Squared</th>\n",
       "      <th>Period Flag</th>\n",
       "      <th>SWASP ID</th>\n",
       "    </tr>\n",
       "  </thead>\n",
       "  <tbody>\n",
       "    <tr>\n",
       "      <th>3343855</th>\n",
       "      <td>300</td>\n",
       "      <td>1</td>\n",
       "      <td>28343114.0</td>\n",
       "      <td>6.16</td>\n",
       "      <td>14749.57</td>\n",
       "      <td>0</td>\n",
       "      <td>1SWASPJ082532.84+352533.0</td>\n",
       "    </tr>\n",
       "    <tr>\n",
       "      <th>41444</th>\n",
       "      <td>300</td>\n",
       "      <td>1</td>\n",
       "      <td>9071568.0</td>\n",
       "      <td>5.60</td>\n",
       "      <td>14509.66</td>\n",
       "      <td>0</td>\n",
       "      <td>1SWASPJ001511.32-601325.0</td>\n",
       "    </tr>\n",
       "    <tr>\n",
       "      <th>6915197</th>\n",
       "      <td>300</td>\n",
       "      <td>1</td>\n",
       "      <td>12052198.0</td>\n",
       "      <td>3.67</td>\n",
       "      <td>10195.26</td>\n",
       "      <td>0</td>\n",
       "      <td>1SWASPJ215119.38+364939.4</td>\n",
       "    </tr>\n",
       "    <tr>\n",
       "      <th>1435063</th>\n",
       "      <td>300</td>\n",
       "      <td>1</td>\n",
       "      <td>18395074.0</td>\n",
       "      <td>4.31</td>\n",
       "      <td>8486.41</td>\n",
       "      <td>0</td>\n",
       "      <td>1SWASPJ044003.07-522326.1</td>\n",
       "    </tr>\n",
       "    <tr>\n",
       "      <th>6894882</th>\n",
       "      <td>300</td>\n",
       "      <td>2</td>\n",
       "      <td>15148694.0</td>\n",
       "      <td>4.11</td>\n",
       "      <td>8322.36</td>\n",
       "      <td>0</td>\n",
       "      <td>1SWASPJ214919.07+203747.1</td>\n",
       "    </tr>\n",
       "    <tr>\n",
       "      <th>...</th>\n",
       "      <td>...</td>\n",
       "      <td>...</td>\n",
       "      <td>...</td>\n",
       "      <td>...</td>\n",
       "      <td>...</td>\n",
       "      <td>...</td>\n",
       "      <td>...</td>\n",
       "    </tr>\n",
       "    <tr>\n",
       "      <th>973135</th>\n",
       "      <td>300</td>\n",
       "      <td>2</td>\n",
       "      <td>12694142.0</td>\n",
       "      <td>5.65</td>\n",
       "      <td>3899.92</td>\n",
       "      <td>0</td>\n",
       "      <td>1SWASPJ030521.29-521804.6</td>\n",
       "    </tr>\n",
       "    <tr>\n",
       "      <th>5234943</th>\n",
       "      <td>300</td>\n",
       "      <td>1</td>\n",
       "      <td>15934215.0</td>\n",
       "      <td>4.89</td>\n",
       "      <td>3854.52</td>\n",
       "      <td>0</td>\n",
       "      <td>1SWASPJ162919.51+025548.2</td>\n",
       "    </tr>\n",
       "    <tr>\n",
       "      <th>639826</th>\n",
       "      <td>300</td>\n",
       "      <td>1</td>\n",
       "      <td>19199410.0</td>\n",
       "      <td>6.45</td>\n",
       "      <td>3829.56</td>\n",
       "      <td>0</td>\n",
       "      <td>1SWASPJ012409.24+411013.3</td>\n",
       "    </tr>\n",
       "    <tr>\n",
       "      <th>6557972</th>\n",
       "      <td>300</td>\n",
       "      <td>1</td>\n",
       "      <td>13137571.0</td>\n",
       "      <td>5.49</td>\n",
       "      <td>3799.08</td>\n",
       "      <td>0</td>\n",
       "      <td>1SWASPJ205836.45-041741.7</td>\n",
       "    </tr>\n",
       "    <tr>\n",
       "      <th>1344533</th>\n",
       "      <td>300</td>\n",
       "      <td>1</td>\n",
       "      <td>14043724.0</td>\n",
       "      <td>7.04</td>\n",
       "      <td>3788.83</td>\n",
       "      <td>0</td>\n",
       "      <td>1SWASPJ042030.20-541932.0</td>\n",
       "    </tr>\n",
       "  </tbody>\n",
       "</table>\n",
       "<p>100 rows × 7 columns</p>\n",
       "</div>"
      ],
      "text/plain": [
       "         Camera Number  Period Number      Period  Sigma  Chi Squared  \\\n",
       "3343855            300              1  28343114.0   6.16     14749.57   \n",
       "41444              300              1   9071568.0   5.60     14509.66   \n",
       "6915197            300              1  12052198.0   3.67     10195.26   \n",
       "1435063            300              1  18395074.0   4.31      8486.41   \n",
       "6894882            300              2  15148694.0   4.11      8322.36   \n",
       "...                ...            ...         ...    ...          ...   \n",
       "973135             300              2  12694142.0   5.65      3899.92   \n",
       "5234943            300              1  15934215.0   4.89      3854.52   \n",
       "639826             300              1  19199410.0   6.45      3829.56   \n",
       "6557972            300              1  13137571.0   5.49      3799.08   \n",
       "1344533            300              1  14043724.0   7.04      3788.83   \n",
       "\n",
       "         Period Flag                   SWASP ID  \n",
       "3343855            0  1SWASPJ082532.84+352533.0  \n",
       "41444              0  1SWASPJ001511.32-601325.0  \n",
       "6915197            0  1SWASPJ215119.38+364939.4  \n",
       "1435063            0  1SWASPJ044003.07-522326.1  \n",
       "6894882            0  1SWASPJ214919.07+203747.1  \n",
       "...              ...                        ...  \n",
       "973135             0  1SWASPJ030521.29-521804.6  \n",
       "5234943            0  1SWASPJ162919.51+025548.2  \n",
       "639826             0  1SWASPJ012409.24+411013.3  \n",
       "6557972            0  1SWASPJ205836.45-041741.7  \n",
       "1344533            0  1SWASPJ042030.20-541932.0  \n",
       "\n",
       "[100 rows x 7 columns]"
      ]
     },
     "execution_count": 3,
     "metadata": {},
     "output_type": "execute_result"
    }
   ],
   "source": [
    "top_chisq = objects.sort_values('Chi Squared', ascending=False)[:100]\n",
    "top_chisq"
   ]
  },
  {
   "cell_type": "code",
   "execution_count": 4,
   "metadata": {},
   "outputs": [
    {
     "data": {
      "text/plain": [
       "<matplotlib.axes._subplots.AxesSubplot at 0x2080a404220>"
      ]
     },
     "execution_count": 4,
     "metadata": {},
     "output_type": "execute_result"
    },
    {
     "data": {
      "image/png": "[encoded data removed]",
      "text/plain": [
       "<Figure size 432x288 with 1 Axes>"
      ]
     },
     "metadata": {
      "needs_background": "light"
     },
     "output_type": "display_data"
    }
   ],
   "source": [
    "top_chisq.plot.scatter('Period', 'Chi Squared')"
   ]
  },
  {
   "cell_type": "code",
   "execution_count": 5,
   "metadata": {},
   "outputs": [],
   "source": [
    "top_chisq_zoo_ids = swasputils.get_zoo_ids(top_chisq, zoo_lookup)"
   ]
  },
  {
   "cell_type": "code",
   "execution_count": 6,
   "metadata": {},
   "outputs": [
    {
     "name": "stderr",
     "output_type": "stream",
     "text": [
      "C:\\Users\\anm83\\Documents\\Code\\superwasp-long-periods\\swasputils.py:59: YAMLLoadWarning: calling yaml.load() without Loader=... is deprecated, as the default Loader is unsafe. Please read https://msg.pyyaml.org/load for full details.\n",
      "  lambda s: yaml.load(s)['0']\n"
     ]
    },
    {
     "data": {
      "text/html": [
       "<img src=\"https://panoptes-uploads.zooniverse.org/production/subject_location/cad7e2f8-db4f-49fb-a959-0ca5836c8476.gif\" width=\"500\" height=\"500\"/>"
      ],
      "text/plain": [
       "<IPython.core.display.Image object>"
      ]
     },
     "metadata": {},
     "output_type": "display_data"
    },
    {
     "data": {
      "text/html": [
       "<img src=\"https://panoptes-uploads.zooniverse.org/production/subject_location/facff0c1-2a07-4d7c-beaa-9d4f729e4ef2.gif\" width=\"500\" height=\"500\"/>"
      ],
      "text/plain": [
       "<IPython.core.display.Image object>"
      ]
     },
     "metadata": {},
     "output_type": "display_data"
    },
    {
     "data": {
      "text/html": [
       "<img src=\"https://panoptes-uploads.zooniverse.org/production/subject_location/a1601522-361e-44c8-a6e8-8f7ab43fdc7b.gif\" width=\"500\" height=\"500\"/>"
      ],
      "text/plain": [
       "<IPython.core.display.Image object>"
      ]
     },
     "metadata": {},
     "output_type": "display_data"
    },
    {
     "data": {
      "text/html": [
       "<img src=\"https://panoptes-uploads.zooniverse.org/production/subject_location/fc330798-d5f6-4ad5-beea-b9144fdf34a4.gif\" width=\"500\" height=\"500\"/>"
      ],
      "text/plain": [
       "<IPython.core.display.Image object>"
      ]
     },
     "metadata": {},
     "output_type": "display_data"
    },
    {
     "data": {
      "text/html": [
       "<img src=\"https://panoptes-uploads.zooniverse.org/production/subject_location/015efdc4-84c4-4b9c-8a3e-8fd0c79f2480.gif\" width=\"500\" height=\"500\"/>"
      ],
      "text/plain": [
       "<IPython.core.display.Image object>"
      ]
     },
     "metadata": {},
     "output_type": "display_data"
    },
    {
     "data": {
      "text/html": [
       "<img src=\"https://panoptes-uploads.zooniverse.org/production/subject_location/2a6d7512-be51-4941-97f2-9233f71af5cb.gif\" width=\"500\" height=\"500\"/>"
      ],
      "text/plain": [
       "<IPython.core.display.Image object>"
      ]
     },
     "metadata": {},
     "output_type": "display_data"
    },
    {
     "data": {
      "text/html": [
       "<img src=\"https://panoptes-uploads.zooniverse.org/production/subject_location/15242d28-af40-4eaa-b897-0123d6b8ba32.gif\" width=\"500\" height=\"500\"/>"
      ],
      "text/plain": [
       "<IPython.core.display.Image object>"
      ]
     },
     "metadata": {},
     "output_type": "display_data"
    },
    {
     "data": {
      "text/html": [
       "<img src=\"https://panoptes-uploads.zooniverse.org/production/subject_location/e05005eb-0e72-495a-bea9-4705d5e55853.gif\" width=\"500\" height=\"500\"/>"
      ],
      "text/plain": [
       "<IPython.core.display.Image object>"
      ]
     },
     "metadata": {},
     "output_type": "display_data"
    },
    {
     "data": {
      "text/html": [
       "<img src=\"https://panoptes-uploads.zooniverse.org/production/subject_location/d51c092a-a8ec-457a-a626-3ed35635aca7.gif\" width=\"500\" height=\"500\"/>"
      ],
      "text/plain": [
       "<IPython.core.display.Image object>"
      ]
     },
     "metadata": {},
     "output_type": "display_data"
    },
    {
     "data": {
      "text/html": [
       "<img src=\"https://panoptes-uploads.zooniverse.org/production/subject_location/d18b7334-9111-4163-898b-3191bb7bfc79.gif\" width=\"500\" height=\"500\"/>"
      ],
      "text/plain": [
       "<IPython.core.display.Image object>"
      ]
     },
     "metadata": {},
     "output_type": "display_data"
    },
    {
     "data": {
      "text/html": [
       "<img src=\"https://panoptes-uploads.zooniverse.org/production/subject_location/4e3a3046-92dd-4b07-a515-93570f246fc2.gif\" width=\"500\" height=\"500\"/>"
      ],
      "text/plain": [
       "<IPython.core.display.Image object>"
      ]
     },
     "metadata": {},
     "output_type": "display_data"
    },
    {
     "data": {
      "text/html": [
       "<img src=\"https://panoptes-uploads.zooniverse.org/production/subject_location/dc55afac-e0e6-43a6-986b-c597c77aa722.gif\" width=\"500\" height=\"500\"/>"
      ],
      "text/plain": [
       "<IPython.core.display.Image object>"
      ]
     },
     "metadata": {},
     "output_type": "display_data"
    },
    {
     "data": {
      "text/html": [
       "<img src=\"https://panoptes-uploads.zooniverse.org/production/subject_location/877bff97-2c92-48b5-97ac-eab3b8626f9a.gif\" width=\"500\" height=\"500\"/>"
      ],
      "text/plain": [
       "<IPython.core.display.Image object>"
      ]
     },
     "metadata": {},
     "output_type": "display_data"
    },
    {
     "data": {
      "text/html": [
       "<img src=\"https://panoptes-uploads.zooniverse.org/production/subject_location/7bdb85a3-fecf-48fd-a9fd-df8c1c605cc5.gif\" width=\"500\" height=\"500\"/>"
      ],
      "text/plain": [
       "<IPython.core.display.Image object>"
      ]
     },
     "metadata": {},
     "output_type": "display_data"
    },
    {
     "data": {
      "text/html": [
       "<img src=\"https://panoptes-uploads.zooniverse.org/production/subject_location/a979c94f-a288-4ede-aa9f-50a3c0282e12.gif\" width=\"500\" height=\"500\"/>"
      ],
      "text/plain": [
       "<IPython.core.display.Image object>"
      ]
     },
     "metadata": {},
     "output_type": "display_data"
    },
    {
     "data": {
      "text/html": [
       "<img src=\"https://panoptes-uploads.zooniverse.org/production/subject_location/bd194d85-9274-4442-86cd-ef755d4ddb65.gif\" width=\"500\" height=\"500\"/>"
      ],
      "text/plain": [
       "<IPython.core.display.Image object>"
      ]
     },
     "metadata": {},
     "output_type": "display_data"
    },
    {
     "data": {
      "text/html": [
       "<img src=\"https://panoptes-uploads.zooniverse.org/production/subject_location/c626a083-4b28-4f87-a0d5-2760ba4df025.gif\" width=\"500\" height=\"500\"/>"
      ],
      "text/plain": [
       "<IPython.core.display.Image object>"
      ]
     },
     "metadata": {},
     "output_type": "display_data"
    },
    {
     "data": {
      "text/html": [
       "<img src=\"https://panoptes-uploads.zooniverse.org/production/subject_location/b9b1777b-6d1b-497a-82cb-867ca6a8e80c.gif\" width=\"500\" height=\"500\"/>"
      ],
      "text/plain": [
       "<IPython.core.display.Image object>"
      ]
     },
     "metadata": {},
     "output_type": "display_data"
    },
    {
     "data": {
      "text/html": [
       "<img src=\"https://panoptes-uploads.zooniverse.org/production/subject_location/effaf849-9ebc-4369-a448-8e0aadd4b0f6.gif\" width=\"500\" height=\"500\"/>"
      ],
      "text/plain": [
       "<IPython.core.display.Image object>"
      ]
     },
     "metadata": {},
     "output_type": "display_data"
    },
    {
     "data": {
      "text/html": [
       "<img src=\"https://panoptes-uploads.zooniverse.org/production/subject_location/bd2f461a-3654-4c42-804d-a3fb7e4ff9e2.gif\" width=\"500\" height=\"500\"/>"
      ],
      "text/plain": [
       "<IPython.core.display.Image object>"
      ]
     },
     "metadata": {},
     "output_type": "display_data"
    },
    {
     "data": {
      "text/html": [
       "<img src=\"https://panoptes-uploads.zooniverse.org/production/subject_location/daabe2b2-5b3d-435f-beaf-660538c4e019.gif\" width=\"500\" height=\"500\"/>"
      ],
      "text/plain": [
       "<IPython.core.display.Image object>"
      ]
     },
     "metadata": {},
     "output_type": "display_data"
    },
    {
     "data": {
      "text/html": [
       "<img src=\"https://panoptes-uploads.zooniverse.org/production/subject_location/c1c7fe3a-5540-4e57-bb27-844691a0945e.gif\" width=\"500\" height=\"500\"/>"
      ],
      "text/plain": [
       "<IPython.core.display.Image object>"
      ]
     },
     "metadata": {},
     "output_type": "display_data"
    },
    {
     "data": {
      "text/html": [
       "<img src=\"https://panoptes-uploads.zooniverse.org/production/subject_location/2e706f6f-96d2-4292-96a2-a01f403e9648.gif\" width=\"500\" height=\"500\"/>"
      ],
      "text/plain": [
       "<IPython.core.display.Image object>"
      ]
     },
     "metadata": {},
     "output_type": "display_data"
    },
    {
     "data": {
      "text/html": [
       "<img src=\"https://panoptes-uploads.zooniverse.org/production/subject_location/eb58e72f-01ae-41e7-a6ea-857bfe677ea7.gif\" width=\"500\" height=\"500\"/>"
      ],
      "text/plain": [
       "<IPython.core.display.Image object>"
      ]
     },
     "metadata": {},
     "output_type": "display_data"
    },
    {
     "data": {
      "text/html": [
       "<img src=\"https://panoptes-uploads.zooniverse.org/production/subject_location/99a6063d-b5f9-48d3-b5a4-91e9b59eebc5.gif\" width=\"500\" height=\"500\"/>"
      ],
      "text/plain": [
       "<IPython.core.display.Image object>"
      ]
     },
     "metadata": {},
     "output_type": "display_data"
    },
    {
     "data": {
      "text/html": [
       "<img src=\"https://panoptes-uploads.zooniverse.org/production/subject_location/48a6d82c-d6b7-4f69-ac2b-019cca1c5920.gif\" width=\"500\" height=\"500\"/>"
      ],
      "text/plain": [
       "<IPython.core.display.Image object>"
      ]
     },
     "metadata": {},
     "output_type": "display_data"
    },
    {
     "data": {
      "text/html": [
       "<img src=\"https://panoptes-uploads.zooniverse.org/production/subject_location/b655a015-a3ff-456f-94f0-1eb13e520619.gif\" width=\"500\" height=\"500\"/>"
      ],
      "text/plain": [
       "<IPython.core.display.Image object>"
      ]
     },
     "metadata": {},
     "output_type": "display_data"
    },
    {
     "data": {
      "text/html": [
       "<img src=\"https://panoptes-uploads.zooniverse.org/production/subject_location/4c4042e5-52b9-4428-8bb0-f1f70ace9b00.gif\" width=\"500\" height=\"500\"/>"
      ],
      "text/plain": [
       "<IPython.core.display.Image object>"
      ]
     },
     "metadata": {},
     "output_type": "display_data"
    },
    {
     "data": {
      "text/html": [
       "<img src=\"https://panoptes-uploads.zooniverse.org/production/subject_location/7faffa74-082c-4d10-ba29-1d862686ada9.gif\" width=\"500\" height=\"500\"/>"
      ],
      "text/plain": [
       "<IPython.core.display.Image object>"
      ]
     },
     "metadata": {},
     "output_type": "display_data"
    },
    {
     "data": {
      "text/html": [
       "<img src=\"https://panoptes-uploads.zooniverse.org/production/subject_location/30eb2b9a-80b5-4096-a2e2-02c4076112e2.gif\" width=\"500\" height=\"500\"/>"
      ],
      "text/plain": [
       "<IPython.core.display.Image object>"
      ]
     },
     "metadata": {},
     "output_type": "display_data"
    },
    {
     "data": {
      "text/html": [
       "<img src=\"https://panoptes-uploads.zooniverse.org/production/subject_location/0ee20165-9764-4e3f-b38b-822d53356828.gif\" width=\"500\" height=\"500\"/>"
      ],
      "text/plain": [
       "<IPython.core.display.Image object>"
      ]
     },
     "metadata": {},
     "output_type": "display_data"
    },
    {
     "data": {
      "text/html": [
       "<img src=\"https://panoptes-uploads.zooniverse.org/production/subject_location/5f55cbbb-6f2e-48cc-8582-4ea2e2412ed7.gif\" width=\"500\" height=\"500\"/>"
      ],
      "text/plain": [
       "<IPython.core.display.Image object>"
      ]
     },
     "metadata": {},
     "output_type": "display_data"
    },
    {
     "data": {
      "text/html": [
       "<img src=\"https://panoptes-uploads.zooniverse.org/production/subject_location/7f76d3ea-c485-4aea-843d-9526874c9a53.gif\" width=\"500\" height=\"500\"/>"
      ],
      "text/plain": [
       "<IPython.core.display.Image object>"
      ]
     },
     "metadata": {},
     "output_type": "display_data"
    },
    {
     "data": {
      "text/html": [
       "<img src=\"https://panoptes-uploads.zooniverse.org/production/subject_location/ef16474a-d3a7-42cc-9bf4-4f540c54ff45.gif\" width=\"500\" height=\"500\"/>"
      ],
      "text/plain": [
       "<IPython.core.display.Image object>"
      ]
     },
     "metadata": {},
     "output_type": "display_data"
    },
    {
     "data": {
      "text/html": [
       "<img src=\"https://panoptes-uploads.zooniverse.org/production/subject_location/5e3096b0-b71d-4952-bacd-fdc75ccf5f87.gif\" width=\"500\" height=\"500\"/>"
      ],
      "text/plain": [
       "<IPython.core.display.Image object>"
      ]
     },
     "metadata": {},
     "output_type": "display_data"
    },
    {
     "data": {
      "text/html": [
       "<img src=\"https://panoptes-uploads.zooniverse.org/production/subject_location/9fbe662e-425c-45d9-9438-324106cf741e.gif\" width=\"500\" height=\"500\"/>"
      ],
      "text/plain": [
       "<IPython.core.display.Image object>"
      ]
     },
     "metadata": {},
     "output_type": "display_data"
    },
    {
     "data": {
      "text/html": [
       "<img src=\"https://panoptes-uploads.zooniverse.org/production/subject_location/d168f49b-ba15-4727-91c4-6715cdfa8f23.gif\" width=\"500\" height=\"500\"/>"
      ],
      "text/plain": [
       "<IPython.core.display.Image object>"
      ]
     },
     "metadata": {},
     "output_type": "display_data"
    },
    {
     "data": {
      "text/html": [
       "<img src=\"https://panoptes-uploads.zooniverse.org/production/subject_location/077d479f-69cb-40fe-a377-edb8b9c9ef86.gif\" width=\"500\" height=\"500\"/>"
      ],
      "text/plain": [
       "<IPython.core.display.Image object>"
      ]
     },
     "metadata": {},
     "output_type": "display_data"
    },
    {
     "data": {
      "text/html": [
       "<img src=\"https://panoptes-uploads.zooniverse.org/production/subject_location/72ab5a88-bd82-4cbd-b393-6cb32e871d8e.gif\" width=\"500\" height=\"500\"/>"
      ],
      "text/plain": [
       "<IPython.core.display.Image object>"
      ]
     },
     "metadata": {},
     "output_type": "display_data"
    },
    {
     "data": {
      "text/html": [
       "<img src=\"https://panoptes-uploads.zooniverse.org/production/subject_location/996032df-098a-4e14-b981-97b68881c752.gif\" width=\"500\" height=\"500\"/>"
      ],
      "text/plain": [
       "<IPython.core.display.Image object>"
      ]
     },
     "metadata": {},
     "output_type": "display_data"
    },
    {
     "data": {
      "text/html": [
       "<img src=\"https://panoptes-uploads.zooniverse.org/production/subject_location/f475cba7-046b-4844-a6d6-f5a9e67394f9.gif\" width=\"500\" height=\"500\"/>"
      ],
      "text/plain": [
       "<IPython.core.display.Image object>"
      ]
     },
     "metadata": {},
     "output_type": "display_data"
    },
    {
     "data": {
      "text/html": [
       "<img src=\"https://panoptes-uploads.zooniverse.org/production/subject_location/106b6be0-ccbd-4508-a2a7-fb8ff788b69d.gif\" width=\"500\" height=\"500\"/>"
      ],
      "text/plain": [
       "<IPython.core.display.Image object>"
      ]
     },
     "metadata": {},
     "output_type": "display_data"
    },
    {
     "data": {
      "text/html": [
       "<img src=\"https://panoptes-uploads.zooniverse.org/production/subject_location/5fc976fd-ebfb-40b2-8617-eb42bf8eb0f8.gif\" width=\"500\" height=\"500\"/>"
      ],
      "text/plain": [
       "<IPython.core.display.Image object>"
      ]
     },
     "metadata": {},
     "output_type": "display_data"
    },
    {
     "data": {
      "text/html": [
       "<img src=\"https://panoptes-uploads.zooniverse.org/production/subject_location/3410ee12-0590-48a5-9730-1dce52497bf9.gif\" width=\"500\" height=\"500\"/>"
      ],
      "text/plain": [
       "<IPython.core.display.Image object>"
      ]
     },
     "metadata": {},
     "output_type": "display_data"
    },
    {
     "data": {
      "text/html": [
       "<img src=\"https://panoptes-uploads.zooniverse.org/production/subject_location/5fa505ae-da78-46cf-a73e-82559b2e986d.gif\" width=\"500\" height=\"500\"/>"
      ],
      "text/plain": [
       "<IPython.core.display.Image object>"
      ]
     },
     "metadata": {},
     "output_type": "display_data"
    },
    {
     "data": {
      "text/html": [
       "<img src=\"https://panoptes-uploads.zooniverse.org/production/subject_location/e3d3a08d-3b04-4a4b-8799-7345f7b6118a.gif\" width=\"500\" height=\"500\"/>"
      ],
      "text/plain": [
       "<IPython.core.display.Image object>"
      ]
     },
     "metadata": {},
     "output_type": "display_data"
    },
    {
     "data": {
      "text/html": [
       "<img src=\"https://panoptes-uploads.zooniverse.org/production/subject_location/96952936-0b8a-4700-bd90-ac96d63880f9.gif\" width=\"500\" height=\"500\"/>"
      ],
      "text/plain": [
       "<IPython.core.display.Image object>"
      ]
     },
     "metadata": {},
     "output_type": "display_data"
    },
    {
     "data": {
      "text/html": [
       "<img src=\"https://panoptes-uploads.zooniverse.org/production/subject_location/e8e527b5-51a1-4012-980a-2db129dc183c.gif\" width=\"500\" height=\"500\"/>"
      ],
      "text/plain": [
       "<IPython.core.display.Image object>"
      ]
     },
     "metadata": {},
     "output_type": "display_data"
    },
    {
     "data": {
      "text/html": [
       "<img src=\"https://panoptes-uploads.zooniverse.org/production/subject_location/82ec7bea-d0f6-417b-b84d-fc5facea96bc.gif\" width=\"500\" height=\"500\"/>"
      ],
      "text/plain": [
       "<IPython.core.display.Image object>"
      ]
     },
     "metadata": {},
     "output_type": "display_data"
    },
    {
     "data": {
      "text/html": [
       "<img src=\"https://panoptes-uploads.zooniverse.org/production/subject_location/5336bd4d-5681-41ec-98fd-6cfc49689ece.gif\" width=\"500\" height=\"500\"/>"
      ],
      "text/plain": [
       "<IPython.core.display.Image object>"
      ]
     },
     "metadata": {},
     "output_type": "display_data"
    },
    {
     "data": {
      "text/html": [
       "<img src=\"https://panoptes-uploads.zooniverse.org/production/subject_location/d0da6f10-e07e-47b0-b51a-0166b56d4d59.gif\" width=\"500\" height=\"500\"/>"
      ],
      "text/plain": [
       "<IPython.core.display.Image object>"
      ]
     },
     "metadata": {},
     "output_type": "display_data"
    },
    {
     "data": {
      "text/html": [
       "<img src=\"https://panoptes-uploads.zooniverse.org/production/subject_location/d0d61a81-c918-467e-bf6b-c971b102dd3e.gif\" width=\"500\" height=\"500\"/>"
      ],
      "text/plain": [
       "<IPython.core.display.Image object>"
      ]
     },
     "metadata": {},
     "output_type": "display_data"
    },
    {
     "data": {
      "text/html": [
       "<img src=\"https://panoptes-uploads.zooniverse.org/production/subject_location/0e41dfe8-af78-4631-9b4d-2332ff4a8fd1.gif\" width=\"500\" height=\"500\"/>"
      ],
      "text/plain": [
       "<IPython.core.display.Image object>"
      ]
     },
     "metadata": {},
     "output_type": "display_data"
    },
    {
     "data": {
      "text/html": [
       "<img src=\"https://panoptes-uploads.zooniverse.org/production/subject_location/e85aeab3-dd75-48e5-8a14-2fe3a8482f08.gif\" width=\"500\" height=\"500\"/>"
      ],
      "text/plain": [
       "<IPython.core.display.Image object>"
      ]
     },
     "metadata": {},
     "output_type": "display_data"
    },
    {
     "data": {
      "text/html": [
       "<img src=\"https://panoptes-uploads.zooniverse.org/production/subject_location/6dcf4e51-3adf-4318-9d85-b5e62884efbd.gif\" width=\"500\" height=\"500\"/>"
      ],
      "text/plain": [
       "<IPython.core.display.Image object>"
      ]
     },
     "metadata": {},
     "output_type": "display_data"
    },
    {
     "data": {
      "text/html": [
       "<img src=\"https://panoptes-uploads.zooniverse.org/production/subject_location/161cb84c-0f5f-42eb-9ddc-363e12b1a64a.gif\" width=\"500\" height=\"500\"/>"
      ],
      "text/plain": [
       "<IPython.core.display.Image object>"
      ]
     },
     "metadata": {},
     "output_type": "display_data"
    },
    {
     "data": {
      "text/html": [
       "<img src=\"https://panoptes-uploads.zooniverse.org/production/subject_location/e9013360-2f6f-4a39-9004-44623c1fbbb3.gif\" width=\"500\" height=\"500\"/>"
      ],
      "text/plain": [
       "<IPython.core.display.Image object>"
      ]
     },
     "metadata": {},
     "output_type": "display_data"
    },
    {
     "data": {
      "text/html": [
       "<img src=\"https://panoptes-uploads.zooniverse.org/production/subject_location/4264110c-7afe-4f3a-9ef1-c540c742a13a.gif\" width=\"500\" height=\"500\"/>"
      ],
      "text/plain": [
       "<IPython.core.display.Image object>"
      ]
     },
     "metadata": {},
     "output_type": "display_data"
    },
    {
     "data": {
      "text/html": [
       "<img src=\"https://panoptes-uploads.zooniverse.org/production/subject_location/7432d04c-b2c6-41b7-9518-1acb7451edf9.gif\" width=\"500\" height=\"500\"/>"
      ],
      "text/plain": [
       "<IPython.core.display.Image object>"
      ]
     },
     "metadata": {},
     "output_type": "display_data"
    },
    {
     "data": {
      "text/html": [
       "<img src=\"https://panoptes-uploads.zooniverse.org/production/subject_location/c4c54d47-c99b-4fa5-acbd-e7d225c61c6a.gif\" width=\"500\" height=\"500\"/>"
      ],
      "text/plain": [
       "<IPython.core.display.Image object>"
      ]
     },
     "metadata": {},
     "output_type": "display_data"
    },
    {
     "data": {
      "text/html": [
       "<img src=\"https://panoptes-uploads.zooniverse.org/production/subject_location/02bf795a-64eb-4610-8cf3-392b7177ebb9.gif\" width=\"500\" height=\"500\"/>"
      ],
      "text/plain": [
       "<IPython.core.display.Image object>"
      ]
     },
     "metadata": {},
     "output_type": "display_data"
    },
    {
     "data": {
      "text/html": [
       "<img src=\"https://panoptes-uploads.zooniverse.org/production/subject_location/4b1fb23b-3832-4e78-9a2a-e8ccc511a4e1.gif\" width=\"500\" height=\"500\"/>"
      ],
      "text/plain": [
       "<IPython.core.display.Image object>"
      ]
     },
     "metadata": {},
     "output_type": "display_data"
    },
    {
     "data": {
      "text/html": [
       "<img src=\"https://panoptes-uploads.zooniverse.org/production/subject_location/bfa5d52c-af84-438e-a63d-cb206920c578.gif\" width=\"500\" height=\"500\"/>"
      ],
      "text/plain": [
       "<IPython.core.display.Image object>"
      ]
     },
     "metadata": {},
     "output_type": "display_data"
    },
    {
     "data": {
      "text/html": [
       "<img src=\"https://panoptes-uploads.zooniverse.org/production/subject_location/e9e370bb-d3d4-4535-8c67-82a83cc6d48e.gif\" width=\"500\" height=\"500\"/>"
      ],
      "text/plain": [
       "<IPython.core.display.Image object>"
      ]
     },
     "metadata": {},
     "output_type": "display_data"
    },
    {
     "data": {
      "text/html": [
       "<img src=\"https://panoptes-uploads.zooniverse.org/production/subject_location/fe4412a8-55d3-47a3-a757-7aeaa28f42e7.gif\" width=\"500\" height=\"500\"/>"
      ],
      "text/plain": [
       "<IPython.core.display.Image object>"
      ]
     },
     "metadata": {},
     "output_type": "display_data"
    },
    {
     "data": {
      "text/html": [
       "<img src=\"https://panoptes-uploads.zooniverse.org/production/subject_location/23ab42c4-eb8f-4bb6-81a2-7cb5165f333c.gif\" width=\"500\" height=\"500\"/>"
      ],
      "text/plain": [
       "<IPython.core.display.Image object>"
      ]
     },
     "metadata": {},
     "output_type": "display_data"
    },
    {
     "data": {
      "text/html": [
       "<img src=\"https://panoptes-uploads.zooniverse.org/production/subject_location/d7983db1-f9a6-4c39-a0c8-0365a8922a10.gif\" width=\"500\" height=\"500\"/>"
      ],
      "text/plain": [
       "<IPython.core.display.Image object>"
      ]
     },
     "metadata": {},
     "output_type": "display_data"
    },
    {
     "data": {
      "text/html": [
       "<img src=\"https://panoptes-uploads.zooniverse.org/production/subject_location/6fb91444-6e17-46e7-84d3-c1fbfae378fe.gif\" width=\"500\" height=\"500\"/>"
      ],
      "text/plain": [
       "<IPython.core.display.Image object>"
      ]
     },
     "metadata": {},
     "output_type": "display_data"
    },
    {
     "data": {
      "text/html": [
       "<img src=\"https://panoptes-uploads.zooniverse.org/production/subject_location/26814e7c-d572-4a1c-bcb5-8a606f7a3a10.gif\" width=\"500\" height=\"500\"/>"
      ],
      "text/plain": [
       "<IPython.core.display.Image object>"
      ]
     },
     "metadata": {},
     "output_type": "display_data"
    },
    {
     "data": {
      "text/html": [
       "<img src=\"https://panoptes-uploads.zooniverse.org/production/subject_location/b1ba4a6e-5d3a-4d61-8320-1f05b2aca4ee.gif\" width=\"500\" height=\"500\"/>"
      ],
      "text/plain": [
       "<IPython.core.display.Image object>"
      ]
     },
     "metadata": {},
     "output_type": "display_data"
    },
    {
     "data": {
      "text/html": [
       "<img src=\"https://panoptes-uploads.zooniverse.org/production/subject_location/54a8751a-ad0d-444e-ba92-234d2a9c6bae.gif\" width=\"500\" height=\"500\"/>"
      ],
      "text/plain": [
       "<IPython.core.display.Image object>"
      ]
     },
     "metadata": {},
     "output_type": "display_data"
    },
    {
     "data": {
      "text/html": [
       "<img src=\"https://panoptes-uploads.zooniverse.org/production/subject_location/ca26c091-5ccf-4986-bdb6-b89e881e7ce2.gif\" width=\"500\" height=\"500\"/>"
      ],
      "text/plain": [
       "<IPython.core.display.Image object>"
      ]
     },
     "metadata": {},
     "output_type": "display_data"
    },
    {
     "data": {
      "text/html": [
       "<img src=\"https://panoptes-uploads.zooniverse.org/production/subject_location/e0c464ae-1dcf-462e-b271-aba3db9820ae.gif\" width=\"500\" height=\"500\"/>"
      ],
      "text/plain": [
       "<IPython.core.display.Image object>"
      ]
     },
     "metadata": {},
     "output_type": "display_data"
    },
    {
     "data": {
      "text/html": [
       "<img src=\"https://panoptes-uploads.zooniverse.org/production/subject_location/032573e8-0e1d-4693-8456-9dd5decc855e.gif\" width=\"500\" height=\"500\"/>"
      ],
      "text/plain": [
       "<IPython.core.display.Image object>"
      ]
     },
     "metadata": {},
     "output_type": "display_data"
    },
    {
     "data": {
      "text/html": [
       "<img src=\"https://panoptes-uploads.zooniverse.org/production/subject_location/f8b10b30-21a5-4f98-accf-f12cbf0d7c96.gif\" width=\"500\" height=\"500\"/>"
      ],
      "text/plain": [
       "<IPython.core.display.Image object>"
      ]
     },
     "metadata": {},
     "output_type": "display_data"
    },
    {
     "data": {
      "text/html": [
       "<img src=\"https://panoptes-uploads.zooniverse.org/production/subject_location/a528b312-c596-4bb4-844e-b7e9f4d21c76.gif\" width=\"500\" height=\"500\"/>"
      ],
      "text/plain": [
       "<IPython.core.display.Image object>"
      ]
     },
     "metadata": {},
     "output_type": "display_data"
    },
    {
     "data": {
      "text/html": [
       "<img src=\"https://panoptes-uploads.zooniverse.org/production/subject_location/e3d1fa83-4094-4b18-9c9f-768f5179153b.gif\" width=\"500\" height=\"500\"/>"
      ],
      "text/plain": [
       "<IPython.core.display.Image object>"
      ]
     },
     "metadata": {},
     "output_type": "display_data"
    },
    {
     "data": {
      "text/html": [
       "<img src=\"https://panoptes-uploads.zooniverse.org/production/subject_location/d0d3c955-18c5-4e86-a6bf-1c63d40929f6.gif\" width=\"500\" height=\"500\"/>"
      ],
      "text/plain": [
       "<IPython.core.display.Image object>"
      ]
     },
     "metadata": {},
     "output_type": "display_data"
    },
    {
     "data": {
      "text/html": [
       "<img src=\"https://panoptes-uploads.zooniverse.org/production/subject_location/6cfa9651-496f-4c3a-b06b-19e0a35effbe.gif\" width=\"500\" height=\"500\"/>"
      ],
      "text/plain": [
       "<IPython.core.display.Image object>"
      ]
     },
     "metadata": {},
     "output_type": "display_data"
    },
    {
     "data": {
      "text/html": [
       "<img src=\"https://panoptes-uploads.zooniverse.org/production/subject_location/2ff3f7e9-36cd-44bb-a679-ac95b202ad49.gif\" width=\"500\" height=\"500\"/>"
      ],
      "text/plain": [
       "<IPython.core.display.Image object>"
      ]
     },
     "metadata": {},
     "output_type": "display_data"
    },
    {
     "data": {
      "text/html": [
       "<img src=\"https://panoptes-uploads.zooniverse.org/production/subject_location/1c2f3c5e-1dd7-45dc-827e-9ecc6d67259f.gif\" width=\"500\" height=\"500\"/>"
      ],
      "text/plain": [
       "<IPython.core.display.Image object>"
      ]
     },
     "metadata": {},
     "output_type": "display_data"
    },
    {
     "data": {
      "text/html": [
       "<img src=\"https://panoptes-uploads.zooniverse.org/production/subject_location/7f8dccc8-5b6a-4eb5-a93b-119c654d1016.gif\" width=\"500\" height=\"500\"/>"
      ],
      "text/plain": [
       "<IPython.core.display.Image object>"
      ]
     },
     "metadata": {},
     "output_type": "display_data"
    },
    {
     "data": {
      "text/html": [
       "<img src=\"https://panoptes-uploads.zooniverse.org/production/subject_location/98f918d6-499a-4a9a-a72d-7a739a36b80c.gif\" width=\"500\" height=\"500\"/>"
      ],
      "text/plain": [
       "<IPython.core.display.Image object>"
      ]
     },
     "metadata": {},
     "output_type": "display_data"
    },
    {
     "data": {
      "text/html": [
       "<img src=\"https://panoptes-uploads.zooniverse.org/production/subject_location/a9547498-c8b0-4857-96cd-011dc0195bd0.gif\" width=\"500\" height=\"500\"/>"
      ],
      "text/plain": [
       "<IPython.core.display.Image object>"
      ]
     },
     "metadata": {},
     "output_type": "display_data"
    },
    {
     "data": {
      "text/html": [
       "<img src=\"https://panoptes-uploads.zooniverse.org/production/subject_location/05896f53-193e-4f44-89c3-adb584a2d6d3.gif\" width=\"500\" height=\"500\"/>"
      ],
      "text/plain": [
       "<IPython.core.display.Image object>"
      ]
     },
     "metadata": {},
     "output_type": "display_data"
    },
    {
     "data": {
      "text/html": [
       "<img src=\"https://panoptes-uploads.zooniverse.org/production/subject_location/f351d80f-3f45-4e0e-99b6-ce4d0bd8e2a4.gif\" width=\"500\" height=\"500\"/>"
      ],
      "text/plain": [
       "<IPython.core.display.Image object>"
      ]
     },
     "metadata": {},
     "output_type": "display_data"
    },
    {
     "data": {
      "text/html": [
       "<img src=\"https://panoptes-uploads.zooniverse.org/production/subject_location/7df6dfc6-933f-4f3d-9558-0d8a2d7b6318.gif\" width=\"500\" height=\"500\"/>"
      ],
      "text/plain": [
       "<IPython.core.display.Image object>"
      ]
     },
     "metadata": {},
     "output_type": "display_data"
    },
    {
     "data": {
      "text/html": [
       "<img src=\"https://panoptes-uploads.zooniverse.org/production/subject_location/685ea31a-278b-49d7-b1ec-06aa8206f2ce.gif\" width=\"500\" height=\"500\"/>"
      ],
      "text/plain": [
       "<IPython.core.display.Image object>"
      ]
     },
     "metadata": {},
     "output_type": "display_data"
    },
    {
     "data": {
      "text/html": [
       "<img src=\"https://panoptes-uploads.zooniverse.org/production/subject_location/86487d4d-24d4-497e-914f-66a5eee1420e.gif\" width=\"500\" height=\"500\"/>"
      ],
      "text/plain": [
       "<IPython.core.display.Image object>"
      ]
     },
     "metadata": {},
     "output_type": "display_data"
    },
    {
     "data": {
      "text/html": [
       "<img src=\"https://panoptes-uploads.zooniverse.org/production/subject_location/fbb6e176-3832-4797-aca4-11042083a4a8.gif\" width=\"500\" height=\"500\"/>"
      ],
      "text/plain": [
       "<IPython.core.display.Image object>"
      ]
     },
     "metadata": {},
     "output_type": "display_data"
    },
    {
     "data": {
      "text/html": [
       "<img src=\"https://panoptes-uploads.zooniverse.org/production/subject_location/04b42d13-6163-489f-960e-92bfea94150f.gif\" width=\"500\" height=\"500\"/>"
      ],
      "text/plain": [
       "<IPython.core.display.Image object>"
      ]
     },
     "metadata": {},
     "output_type": "display_data"
    },
    {
     "data": {
      "text/html": [
       "<img src=\"https://panoptes-uploads.zooniverse.org/production/subject_location/38b58594-3217-4daf-ba7a-d7a43c057a19.gif\" width=\"500\" height=\"500\"/>"
      ],
      "text/plain": [
       "<IPython.core.display.Image object>"
      ]
     },
     "metadata": {},
     "output_type": "display_data"
    },
    {
     "data": {
      "text/html": [
       "<img src=\"https://panoptes-uploads.zooniverse.org/production/subject_location/e098a009-a819-4d02-9f6f-85e71a85ccc4.gif\" width=\"500\" height=\"500\"/>"
      ],
      "text/plain": [
       "<IPython.core.display.Image object>"
      ]
     },
     "metadata": {},
     "output_type": "display_data"
    },
    {
     "data": {
      "text/html": [
       "<img src=\"https://panoptes-uploads.zooniverse.org/production/subject_location/5f6e149f-f580-4dd3-aa4b-efc4d75a377c.gif\" width=\"500\" height=\"500\"/>"
      ],
      "text/plain": [
       "<IPython.core.display.Image object>"
      ]
     },
     "metadata": {},
     "output_type": "display_data"
    },
    {
     "data": {
      "text/html": [
       "<img src=\"https://panoptes-uploads.zooniverse.org/production/subject_location/ed473a1a-354e-4e11-939f-0dea201031cc.gif\" width=\"500\" height=\"500\"/>"
      ],
      "text/plain": [
       "<IPython.core.display.Image object>"
      ]
     },
     "metadata": {},
     "output_type": "display_data"
    },
    {
     "data": {
      "text/html": [
       "<img src=\"https://panoptes-uploads.zooniverse.org/production/subject_location/95bfbdac-e829-4dbc-b089-c4c0fe8e7c77.gif\" width=\"500\" height=\"500\"/>"
      ],
      "text/plain": [
       "<IPython.core.display.Image object>"
      ]
     },
     "metadata": {},
     "output_type": "display_data"
    },
    {
     "data": {
      "text/html": [
       "<img src=\"https://panoptes-uploads.zooniverse.org/production/subject_location/4f69cb7b-ff02-4d07-be9d-71d6761743b9.gif\" width=\"500\" height=\"500\"/>"
      ],
      "text/plain": [
       "<IPython.core.display.Image object>"
      ]
     },
     "metadata": {},
     "output_type": "display_data"
    },
    {
     "data": {
      "text/html": [
       "<img src=\"https://panoptes-uploads.zooniverse.org/production/subject_location/d4c3c3cd-a9a1-47a5-971b-53522c74e750.gif\" width=\"500\" height=\"500\"/>"
      ],
      "text/plain": [
       "<IPython.core.display.Image object>"
      ]
     },
     "metadata": {},
     "output_type": "display_data"
    }
   ],
   "source": [
    "swasputils.display_zoo_lightcurves(top_chisq_zoo_ids, zoo_subjects)"
   ]
  },
  {
   "cell_type": "code",
   "execution_count": null,
   "metadata": {},
   "outputs": [],
   "source": []
  }
 ],
 "metadata": {
  "kernelspec": {
   "display_name": "Python 3",
   "language": "python",
   "name": "python3"
  },
  "language_info": {
   "codemirror_mode": {
    "name": "ipython",
    "version": 3
   },
   "file_extension": ".py",
   "mimetype": "text/x-python",
   "name": "python",
   "nbconvert_exporter": "python",
   "pygments_lexer": "ipython3",
   "version": "3.8.3"
  }
 },
 "nbformat": 4,
 "nbformat_minor": 4
}
