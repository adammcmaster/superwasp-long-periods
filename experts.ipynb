{
 "cells": [
  {
   "cell_type": "code",
   "execution_count": 1,
   "id": "seven-fight",
   "metadata": {},
   "outputs": [],
   "source": [
    "import seaborn\n",
    "\n",
    "import swasputils"
   ]
  },
  {
   "cell_type": "code",
   "execution_count": 2,
   "id": "drawn-backup",
   "metadata": {},
   "outputs": [
    {
     "name": "stderr",
     "output_type": "stream",
     "text": [
      "C:\\Users\\anm83\\Anaconda3\\lib\\site-packages\\IPython\\core\\interactiveshell.py:3338: DtypeWarning: Columns (8,9) have mixed types.Specify dtype option on import or set low_memory=False.\n",
      "  if (await self.run_code(code, result,  async_=asy)):\n",
      "C:\\Users\\anm83\\Anaconda3\\lib\\site-packages\\numpy\\lib\\arraysetops.py:580: FutureWarning: elementwise comparison failed; returning scalar instead, but in the future will perform elementwise comparison\n",
      "  mask |= (ar1 == a)\n"
     ]
    }
   ],
   "source": [
    "classifications = swasputils.ZooniverseClassifications().get_workflow(7534)"
   ]
  },
  {
   "cell_type": "code",
   "execution_count": 3,
   "id": "handled-daughter",
   "metadata": {},
   "outputs": [],
   "source": [
    "EXPERT_USERS = ('AJNORTON', 'HeidiThiemann')\n",
    "expert_classifications = classifications.get_users(EXPERT_USERS)\n",
    "expert_classifications.decode_annotations()"
   ]
  },
  {
   "cell_type": "code",
   "execution_count": 4,
   "id": "ancient-leader",
   "metadata": {},
   "outputs": [
    {
     "data": {
      "text/plain": [
       "AJNORTON         4570\n",
       "HeidiThiemann    3779\n",
       "Name: user_name, dtype: int64"
      ]
     },
     "execution_count": 4,
     "metadata": {},
     "output_type": "execute_result"
    }
   ],
   "source": [
    "expert_classifications.df['user_name'].value_counts()"
   ]
  },
  {
   "cell_type": "code",
   "execution_count": 5,
   "id": "spatial-municipality",
   "metadata": {},
   "outputs": [],
   "source": [
    "gold_standard_subjects = expert_classifications.df['subject_ids']\n",
    "user_classifications = swasputils.ZooniverseClassifications(df=classifications.df[\n",
    "    classifications.df['subject_ids'].isin(gold_standard_subjects) &\n",
    "    ~classifications.df['user_name'].isin(EXPERT_USERS) &\n",
    "    classifications.df['user_id'].notna()\n",
    "].drop_duplicates(['user_id', 'subject_ids']))\n",
    "user_classifications.decode_annotations()"
   ]
  },
  {
   "cell_type": "code",
   "execution_count": 6,
   "id": "local-narrative",
   "metadata": {},
   "outputs": [],
   "source": [
    "user_classifications.df['expert_comparison'] = user_classifications.df.apply(\n",
    "    lambda row: 'Agree' if row['annotation_T0'] in expert_classifications.df[\n",
    "        expert_classifications.df['subject_ids'] == row['subject_ids']\n",
    "    ]['annotation_T0'].values else 'Disagree',\n",
    "    axis=1,\n",
    ")"
   ]
  },
  {
   "cell_type": "code",
   "execution_count": 7,
   "id": "inclusive-condition",
   "metadata": {},
   "outputs": [
    {
     "data": {
      "text/plain": [
       "Agree       11711\n",
       "Disagree     5399\n",
       "Name: expert_comparison, dtype: int64"
      ]
     },
     "execution_count": 7,
     "metadata": {},
     "output_type": "execute_result"
    }
   ],
   "source": [
    "user_classifications.df['expert_comparison'].value_counts()"
   ]
  },
  {
   "cell_type": "code",
   "execution_count": 8,
   "id": "equipped-impact",
   "metadata": {},
   "outputs": [],
   "source": [
    "user_accuracy = user_classifications.df[['user_name', 'subject_ids', 'expert_comparison']].pivot_table(\n",
    "    index='user_name',\n",
    "    columns='expert_comparison',\n",
    "    values='subject_ids',\n",
    "    aggfunc=lambda x: len(x.unique())\n",
    ")"
   ]
  },
  {
   "cell_type": "code",
   "execution_count": 9,
   "id": "straight-option",
   "metadata": {},
   "outputs": [],
   "source": [
    "user_accuracy_frac = user_accuracy.apply(lambda x: x/x.sum(), axis=1).fillna(0)"
   ]
  },
  {
   "cell_type": "code",
   "execution_count": 10,
   "id": "incorporated-association",
   "metadata": {},
   "outputs": [
    {
     "data": {
      "text/plain": [
       "<seaborn.axisgrid.FacetGrid at 0x2044465a670>"
      ]
     },
     "execution_count": 10,
     "metadata": {},
     "output_type": "execute_result"
    },
    {
     "data": {
      "image/png": "[encoded data removed]",
      "text/plain": [
       "<Figure size 360x360 with 1 Axes>"
      ]
     },
     "metadata": {
      "needs_background": "light"
     },
     "output_type": "display_data"
    }
   ],
   "source": [
    "seaborn.displot(data=user_accuracy_frac['Agree'])"
   ]
  },
  {
   "cell_type": "code",
   "execution_count": null,
   "id": "velvet-signature",
   "metadata": {},
   "outputs": [],
   "source": []
  }
 ],
 "metadata": {
  "kernelspec": {
   "display_name": "Python 3",
   "language": "python",
   "name": "python3"
  },
  "language_info": {
   "codemirror_mode": {
    "name": "ipython",
    "version": 3
   },
   "file_extension": ".py",
   "mimetype": "text/x-python",
   "name": "python",
   "nbconvert_exporter": "python",
   "pygments_lexer": "ipython3",
   "version": "3.8.5"
  }
 },
 "nbformat": 4,
 "nbformat_minor": 5
}
