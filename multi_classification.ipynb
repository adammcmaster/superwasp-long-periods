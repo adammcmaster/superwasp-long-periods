{
 "cells": [
  {
   "cell_type": "code",
   "execution_count": 1,
   "id": "relative-referral",
   "metadata": {},
   "outputs": [],
   "source": [
    "from datetime import timedelta\n",
    "\n",
    "import pandas \n",
    "\n",
    "import swasputils"
   ]
  },
  {
   "cell_type": "code",
   "execution_count": 2,
   "id": "viral-recipe",
   "metadata": {},
   "outputs": [],
   "source": [
    "s = swasputils.AggregatedClassifications()"
   ]
  },
  {
   "cell_type": "code",
   "execution_count": 3,
   "id": "spread-supplement",
   "metadata": {},
   "outputs": [],
   "source": [
    "seconds_in_100_days = timedelta(days=100).total_seconds()"
   ]
  },
  {
   "cell_type": "code",
   "execution_count": 4,
   "id": "japanese-courtesy",
   "metadata": {},
   "outputs": [
    {
     "data": {
      "text/plain": [
       "29"
      ]
     },
     "execution_count": 4,
     "metadata": {},
     "output_type": "execute_result"
    }
   ],
   "source": [
    "pulsators = s.pulsators\n",
    "pulsators.df = pulsators.df[pulsators.df['Period'] >= seconds_in_100_days]\n",
    "eaebs = s.eaebs\n",
    "ews = s.ews\n",
    "eclipsing = swasputils.AggregatedClassifications(df=pandas.concat([eaebs.df, ews.df]))\n",
    "id_intersection = set(pulsators.df['SWASP ID']) & set(eclipsing.df['SWASP ID'])\n",
    "len(id_intersection)"
   ]
  },
  {
   "cell_type": "code",
   "execution_count": null,
   "id": "sealed-comment",
   "metadata": {},
   "outputs": [],
   "source": []
  }
 ],
 "metadata": {
  "kernelspec": {
   "display_name": "Python 3",
   "language": "python",
   "name": "python3"
  },
  "language_info": {
   "codemirror_mode": {
    "name": "ipython",
    "version": 3
   },
   "file_extension": ".py",
   "mimetype": "text/x-python",
   "name": "python",
   "nbconvert_exporter": "python",
   "pygments_lexer": "ipython3",
   "version": "3.8.5"
  }
 },
 "nbformat": 4,
 "nbformat_minor": 5
}
