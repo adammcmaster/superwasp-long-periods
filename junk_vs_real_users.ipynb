{
 "cells": [
  {
   "cell_type": "code",
   "execution_count": 1,
   "id": "final-giant",
   "metadata": {},
   "outputs": [],
   "source": [
    "import pandas\n",
    "import seaborn\n",
    "\n",
    "from matplotlib import pyplot\n",
    "\n",
    "import swasputils"
   ]
  },
  {
   "cell_type": "code",
   "execution_count": 2,
   "id": "reported-dressing",
   "metadata": {},
   "outputs": [],
   "source": [
    "all_classifications = swasputils.ZooniverseClassifications()"
   ]
  },
  {
   "cell_type": "code",
   "execution_count": 3,
   "id": "searching-watson",
   "metadata": {},
   "outputs": [],
   "source": [
    "filtering_classifications = all_classifications.get_workflow(swasputils.JUNK_WORKFLOW)\n",
    "main_classifications = all_classifications.get_workflow(swasputils.MAIN_WORKFLOW)"
   ]
  },
  {
   "cell_type": "code",
   "execution_count": 4,
   "id": "comfortable-moment",
   "metadata": {},
   "outputs": [],
   "source": [
    "filtering_users = filtering_classifications.df[filtering_classifications.df['user_id'].notna()]['user_name'].value_counts()\n",
    "main_users = main_classifications.df[main_classifications.df['user_id'].notna()]['user_name'].value_counts()"
   ]
  },
  {
   "cell_type": "code",
   "execution_count": 5,
   "id": "prompt-diversity",
   "metadata": {},
   "outputs": [],
   "source": [
    "user_counts = pandas.DataFrame({\n",
    "    'Main Workflow': main_users,\n",
    "    'Filtering Workflow': filtering_users\n",
    "}).fillna(0)\n",
    "user_counts['Workflows'] = user_counts.apply(\n",
    "    lambda row: 'Both' if row['Main Workflow'] > 0 and row['Filtering Workflow'] > 0 else 'Main' if row['Main Workflow'] > 0  else 'Filtering',\n",
    "    axis='columns',\n",
    ")"
   ]
  },
  {
   "cell_type": "code",
   "execution_count": 6,
   "id": "reasonable-feeding",
   "metadata": {},
   "outputs": [
    {
     "data": {
      "text/plain": [
       "<AxesSubplot:>"
      ]
     },
     "execution_count": 6,
     "metadata": {},
     "output_type": "execute_result"
    },
    {
     "data": {
      "image/png": "[encoded data removed]",
      "text/plain": [
       "<Figure size 432x288 with 1 Axes>"
      ]
     },
     "metadata": {
      "needs_background": "light"
     },
     "output_type": "display_data"
    }
   ],
   "source": [
    "user_counts['Workflows'].value_counts().plot.bar()"
   ]
  },
  {
   "cell_type": "code",
   "execution_count": 7,
   "id": "eligible-reading",
   "metadata": {},
   "outputs": [
    {
     "data": {
      "text/plain": [
       "<seaborn.axisgrid.JointGrid at 0x2470f4d3490>"
      ]
     },
     "execution_count": 7,
     "metadata": {},
     "output_type": "execute_result"
    },
    {
     "data": {
      "image/png": "[encoded data removed]",
      "text/plain": [
       "<Figure size 432x432 with 3 Axes>"
      ]
     },
     "metadata": {
      "needs_background": "light"
     },
     "output_type": "display_data"
    }
   ],
   "source": [
    "seaborn.jointplot(\n",
    "    data=user_counts,\n",
    "    x='Main Workflow', \n",
    "    y='Filtering Workflow',\n",
    ").plot_marginals(seaborn.rugplot, height=-.15, clip_on=False)"
   ]
  },
  {
   "cell_type": "markdown",
   "id": "blocked-athletics",
   "metadata": {},
   "source": [
    "## Agreement Between Classifications per User"
   ]
  },
  {
   "cell_type": "code",
   "execution_count": 8,
   "id": "overall-choice",
   "metadata": {},
   "outputs": [
    {
     "data": {
      "text/plain": [
       "332"
      ]
     },
     "execution_count": 8,
     "metadata": {},
     "output_type": "execute_result"
    }
   ],
   "source": [
    "users_both = user_counts[user_counts['Workflows'] == 'Both']\n",
    "len(users_both)"
   ]
  },
  {
   "cell_type": "code",
   "execution_count": 9,
   "id": "angry-smart",
   "metadata": {},
   "outputs": [],
   "source": [
    "users_both_classifications = swasputils.ZooniverseClassifications(\n",
    "    df=all_classifications.df[\n",
    "        all_classifications.df['user_name'].isin(users_both.index)\n",
    "        & all_classifications.df['workflow_id'].isin((swasputils.MAIN_WORKFLOW, swasputils.JUNK_WORKFLOW))\n",
    "    ],\n",
    ")"
   ]
  },
  {
   "cell_type": "code",
   "execution_count": 10,
   "id": "metropolitan-lawrence",
   "metadata": {},
   "outputs": [],
   "source": [
    "users_both_classifications.decode_annotations()"
   ]
  },
  {
   "cell_type": "code",
   "execution_count": 11,
   "id": "dependent-windsor",
   "metadata": {},
   "outputs": [
    {
     "data": {
      "text/html": [
       "<div>\n",
       "<style scoped>\n",
       "    .dataframe tbody tr th:only-of-type {\n",
       "        vertical-align: middle;\n",
       "    }\n",
       "\n",
       "    .dataframe tbody tr th {\n",
       "        vertical-align: top;\n",
       "    }\n",
       "\n",
       "    .dataframe thead th {\n",
       "        text-align: right;\n",
       "    }\n",
       "</style>\n",
       "<table border=\"1\" class=\"dataframe\">\n",
       "  <thead>\n",
       "    <tr style=\"text-align: right;\">\n",
       "      <th></th>\n",
       "      <th>workflow_id</th>\n",
       "      <th>7534</th>\n",
       "      <th>17313</th>\n",
       "    </tr>\n",
       "    <tr>\n",
       "      <th>user_name</th>\n",
       "      <th>subject_ids</th>\n",
       "      <th></th>\n",
       "      <th></th>\n",
       "    </tr>\n",
       "  </thead>\n",
       "  <tbody>\n",
       "    <tr>\n",
       "      <th>AJNORTON</th>\n",
       "      <th>22109915</th>\n",
       "      <td>Junk</td>\n",
       "      <td>Junk</td>\n",
       "    </tr>\n",
       "    <tr>\n",
       "      <th rowspan=\"4\" valign=\"top\">Adriana.Dominik</th>\n",
       "      <th>22515973</th>\n",
       "      <td>Junk</td>\n",
       "      <td>Junk</td>\n",
       "    </tr>\n",
       "    <tr>\n",
       "      <th>22994184</th>\n",
       "      <td>Junk</td>\n",
       "      <td>Junk</td>\n",
       "    </tr>\n",
       "    <tr>\n",
       "      <th>24452755</th>\n",
       "      <td>Junk</td>\n",
       "      <td>Real</td>\n",
       "    </tr>\n",
       "    <tr>\n",
       "      <th>25052708</th>\n",
       "      <td>Real</td>\n",
       "      <td>Real</td>\n",
       "    </tr>\n",
       "    <tr>\n",
       "      <th>...</th>\n",
       "      <th>...</th>\n",
       "      <td>...</td>\n",
       "      <td>...</td>\n",
       "    </tr>\n",
       "    <tr>\n",
       "      <th rowspan=\"3\" valign=\"top\">viligoaround</th>\n",
       "      <th>25003233</th>\n",
       "      <td>Junk</td>\n",
       "      <td>Junk</td>\n",
       "    </tr>\n",
       "    <tr>\n",
       "      <th>25047405</th>\n",
       "      <td>Junk</td>\n",
       "      <td>Junk</td>\n",
       "    </tr>\n",
       "    <tr>\n",
       "      <th>25053511</th>\n",
       "      <td>Real</td>\n",
       "      <td>Real</td>\n",
       "    </tr>\n",
       "    <tr>\n",
       "      <th rowspan=\"2\" valign=\"top\">zephcat</th>\n",
       "      <th>22993765</th>\n",
       "      <td>Junk</td>\n",
       "      <td>Junk</td>\n",
       "    </tr>\n",
       "    <tr>\n",
       "      <th>24367460</th>\n",
       "      <td>Real</td>\n",
       "      <td>Real</td>\n",
       "    </tr>\n",
       "  </tbody>\n",
       "</table>\n",
       "<p>6443 rows × 2 columns</p>\n",
       "</div>"
      ],
      "text/plain": [
       "workflow_id                 7534  17313\n",
       "user_name       subject_ids            \n",
       "AJNORTON        22109915     Junk  Junk\n",
       "Adriana.Dominik 22515973     Junk  Junk\n",
       "                22994184     Junk  Junk\n",
       "                24452755     Junk  Real\n",
       "                25052708     Real  Real\n",
       "...                           ...   ...\n",
       "viligoaround    25003233     Junk  Junk\n",
       "                25047405     Junk  Junk\n",
       "                25053511     Real  Real\n",
       "zephcat         22993765     Junk  Junk\n",
       "                24367460     Real  Real\n",
       "\n",
       "[6443 rows x 2 columns]"
      ]
     },
     "execution_count": 11,
     "metadata": {},
     "output_type": "execute_result"
    }
   ],
   "source": [
    "user_both_per_subject = users_both_classifications.df.drop_duplicates([\n",
    "    'user_id',\n",
    "    'subject_ids',\n",
    "    'workflow_id',\n",
    "]).pivot(\n",
    "    index=['user_name', 'subject_ids'],\n",
    "    columns='workflow_id',\n",
    "    values='annotation_T0'\n",
    ").dropna()\n",
    "user_both_per_subject[swasputils.MAIN_WORKFLOW] = user_both_per_subject.apply(\n",
    "    lambda row: 'Junk' if row[swasputils.MAIN_WORKFLOW] == 'Junk' else 'Real',\n",
    "    axis='columns',\n",
    ")\n",
    "user_both_per_subject"
   ]
  },
  {
   "cell_type": "code",
   "execution_count": 12,
   "id": "accepted-alfred",
   "metadata": {},
   "outputs": [
    {
     "data": {
      "text/plain": [
       "<AxesSubplot:title={'center':'Per-User Class in Main Workflow vs Filtering Workflow'}, xlabel='17313', ylabel='7534'>"
      ]
     },
     "execution_count": 12,
     "metadata": {},
     "output_type": "execute_result"
    },
    {
     "data": {
      "image/png": "[encoded data removed]",
      "text/plain": [
       "<Figure size 648x432 with 2 Axes>"
      ]
     },
     "metadata": {
      "needs_background": "light"
     },
     "output_type": "display_data"
    }
   ],
   "source": [
    "user_both_per_subject_comparison = user_both_per_subject.reset_index().pivot_table(\n",
    "    index=swasputils.MAIN_WORKFLOW,\n",
    "    columns=swasputils.JUNK_WORKFLOW,\n",
    "    values='subject_ids',\n",
    "    aggfunc=lambda x: len(x.unique()),\n",
    ")\n",
    "f, ax = pyplot.subplots(figsize=(9, 6))\n",
    "pyplot.title('Per-User Class in Main Workflow vs Filtering Workflow')\n",
    "seaborn.heatmap(user_both_per_subject_comparison, annot=True, fmt=\".0f\", linewidths=.5, ax=ax)"
   ]
  },
  {
   "cell_type": "markdown",
   "id": "precise-trust",
   "metadata": {},
   "source": [
    "## Mobile App vs Browser"
   ]
  },
  {
   "cell_type": "code",
   "execution_count": 13,
   "id": "intellectual-baker",
   "metadata": {},
   "outputs": [
    {
     "name": "stderr",
     "output_type": "stream",
     "text": [
      "<ipython-input-13-174e3164850d>:1: SettingWithCopyWarning: \n",
      "A value is trying to be set on a copy of a slice from a DataFrame.\n",
      "Try using .loc[row_indexer,col_indexer] = value instead\n",
      "\n",
      "See the caveats in the documentation: https://pandas.pydata.org/pandas-docs/stable/user_guide/indexing.html#returning-a-view-versus-a-copy\n",
      "  filtering_classifications.df['Platform'] = filtering_classifications.df.apply(\n"
     ]
    },
    {
     "data": {
      "text/plain": [
       "<AxesSubplot:>"
      ]
     },
     "execution_count": 13,
     "metadata": {},
     "output_type": "execute_result"
    },
    {
     "data": {
      "image/png": "[encoded data removed]",
      "text/plain": [
       "<Figure size 432x288 with 1 Axes>"
      ]
     },
     "metadata": {
      "needs_background": "light"
     },
     "output_type": "display_data"
    }
   ],
   "source": [
    "filtering_classifications.df['Platform'] = filtering_classifications.df.apply(\n",
    "    lambda row: 'Mobile App' if 'Mobile App' in row['metadata'] else 'Browser',\n",
    "    axis='columns',\n",
    ")\n",
    "filtering_classifications.df['Platform'].value_counts().plot.bar()"
   ]
  },
  {
   "cell_type": "code",
   "execution_count": 14,
   "id": "intensive-memorabilia",
   "metadata": {},
   "outputs": [
    {
     "data": {
      "text/plain": [
       "<seaborn.axisgrid.JointGrid at 0x2479ae847f0>"
      ]
     },
     "execution_count": 14,
     "metadata": {},
     "output_type": "execute_result"
    },
    {
     "data": {
      "image/png": "[encoded data removed]",
      "text/plain": [
       "<Figure size 432x432 with 3 Axes>"
      ]
     },
     "metadata": {
      "needs_background": "light"
     },
     "output_type": "display_data"
    }
   ],
   "source": [
    "user_app_counts = filtering_classifications.df.pivot_table(\n",
    "    index='user_name',\n",
    "    columns='Platform',\n",
    "    values='subject_ids',\n",
    "    aggfunc=lambda x: len(x.unique()),\n",
    ").fillna(0)\n",
    "seaborn.jointplot(\n",
    "    data=user_app_counts,\n",
    "    x='Browser', \n",
    "    y='Mobile App',\n",
    ").plot_marginals(seaborn.rugplot, height=-.15, clip_on=False)"
   ]
  }
 ],
 "metadata": {
  "kernelspec": {
   "display_name": "Python 3",
   "language": "python",
   "name": "python3"
  },
  "language_info": {
   "codemirror_mode": {
    "name": "ipython",
    "version": 3
   },
   "file_extension": ".py",
   "mimetype": "text/x-python",
   "name": "python",
   "nbconvert_exporter": "python",
   "pygments_lexer": "ipython3",
   "version": "3.8.5"
  }
 },
 "nbformat": 4,
 "nbformat_minor": 5
}
