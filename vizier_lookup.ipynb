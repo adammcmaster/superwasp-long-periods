{
 "cells": [
  {
   "cell_type": "code",
   "execution_count": 1,
   "id": "sacred-america",
   "metadata": {},
   "outputs": [],
   "source": [
    "from astropy.table import Table\n",
    "from astroquery.vizier import Vizier\n",
    "from astropy import units as u\n",
    "\n",
    "import swasputils"
   ]
  },
  {
   "cell_type": "code",
   "execution_count": 2,
   "id": "known-shaft",
   "metadata": {},
   "outputs": [],
   "source": [
    "folded_lightcurves = swasputils.FoldedLightcurves()\n",
    "folded_lightcurves.df = folded_lightcurves.df[:1000]"
   ]
  },
  {
   "cell_type": "code",
   "execution_count": 3,
   "id": "naval-excuse",
   "metadata": {},
   "outputs": [],
   "source": [
    "folded_lightcurves.add_coords()"
   ]
  },
  {
   "cell_type": "code",
   "execution_count": 4,
   "id": "north-tolerance",
   "metadata": {},
   "outputs": [
    {
     "data": {
      "text/html": [
       "<div>\n",
       "<style scoped>\n",
       "    .dataframe tbody tr th:only-of-type {\n",
       "        vertical-align: middle;\n",
       "    }\n",
       "\n",
       "    .dataframe tbody tr th {\n",
       "        vertical-align: top;\n",
       "    }\n",
       "\n",
       "    .dataframe thead th {\n",
       "        text-align: right;\n",
       "    }\n",
       "</style>\n",
       "<table border=\"1\" class=\"dataframe\">\n",
       "  <thead>\n",
       "    <tr style=\"text-align: right;\">\n",
       "      <th></th>\n",
       "      <th>Period Number</th>\n",
       "      <th>Period</th>\n",
       "      <th>Sigma</th>\n",
       "      <th>Chi Squared</th>\n",
       "      <th>SWASP ID</th>\n",
       "      <th>_RAJ2000</th>\n",
       "      <th>_DEJ2000</th>\n",
       "    </tr>\n",
       "  </thead>\n",
       "  <tbody>\n",
       "    <tr>\n",
       "      <th>1</th>\n",
       "      <td>1</td>\n",
       "      <td>2.480236e+04</td>\n",
       "      <td>3.82</td>\n",
       "      <td>58.50</td>\n",
       "      <td>1SWASPJ000000.15+320847.6</td>\n",
       "      <td>0.000625</td>\n",
       "      <td>32.146556</td>\n",
       "    </tr>\n",
       "    <tr>\n",
       "      <th>16</th>\n",
       "      <td>1</td>\n",
       "      <td>1.884039e+06</td>\n",
       "      <td>4.07</td>\n",
       "      <td>47.49</td>\n",
       "      <td>1SWASPJ000000.74+561358.9</td>\n",
       "      <td>0.003083</td>\n",
       "      <td>56.233028</td>\n",
       "    </tr>\n",
       "    <tr>\n",
       "      <th>18</th>\n",
       "      <td>3</td>\n",
       "      <td>4.280812e+05</td>\n",
       "      <td>4.22</td>\n",
       "      <td>31.22</td>\n",
       "      <td>1SWASPJ000000.74+561358.9</td>\n",
       "      <td>0.003083</td>\n",
       "      <td>56.233028</td>\n",
       "    </tr>\n",
       "    <tr>\n",
       "      <th>20</th>\n",
       "      <td>5</td>\n",
       "      <td>2.758600e+05</td>\n",
       "      <td>4.19</td>\n",
       "      <td>38.11</td>\n",
       "      <td>1SWASPJ000000.74+561358.9</td>\n",
       "      <td>0.003083</td>\n",
       "      <td>56.233028</td>\n",
       "    </tr>\n",
       "    <tr>\n",
       "      <th>36</th>\n",
       "      <td>2</td>\n",
       "      <td>3.232903e+05</td>\n",
       "      <td>3.78</td>\n",
       "      <td>29.66</td>\n",
       "      <td>1SWASPJ000001.10+562043.7</td>\n",
       "      <td>0.004583</td>\n",
       "      <td>56.345472</td>\n",
       "    </tr>\n",
       "    <tr>\n",
       "      <th>...</th>\n",
       "      <td>...</td>\n",
       "      <td>...</td>\n",
       "      <td>...</td>\n",
       "      <td>...</td>\n",
       "      <td>...</td>\n",
       "      <td>...</td>\n",
       "      <td>...</td>\n",
       "    </tr>\n",
       "    <tr>\n",
       "      <th>3444</th>\n",
       "      <td>2</td>\n",
       "      <td>2.759379e+05</td>\n",
       "      <td>4.35</td>\n",
       "      <td>31.45</td>\n",
       "      <td>1SWASPJ000113.44+542839.1</td>\n",
       "      <td>0.306000</td>\n",
       "      <td>54.477528</td>\n",
       "    </tr>\n",
       "    <tr>\n",
       "      <th>3445</th>\n",
       "      <td>1</td>\n",
       "      <td>3.426548e+04</td>\n",
       "      <td>4.13</td>\n",
       "      <td>35.96</td>\n",
       "      <td>1SWASPJ000113.51+065251.0</td>\n",
       "      <td>0.306292</td>\n",
       "      <td>6.880833</td>\n",
       "    </tr>\n",
       "    <tr>\n",
       "      <th>3449</th>\n",
       "      <td>1</td>\n",
       "      <td>6.988552e+05</td>\n",
       "      <td>3.52</td>\n",
       "      <td>105.13</td>\n",
       "      <td>1SWASPJ000113.57-765908.6</td>\n",
       "      <td>0.306542</td>\n",
       "      <td>-76.985722</td>\n",
       "    </tr>\n",
       "    <tr>\n",
       "      <th>3450</th>\n",
       "      <td>2</td>\n",
       "      <td>2.015720e+05</td>\n",
       "      <td>3.84</td>\n",
       "      <td>54.85</td>\n",
       "      <td>1SWASPJ000113.57-765908.6</td>\n",
       "      <td>0.306542</td>\n",
       "      <td>-76.985722</td>\n",
       "    </tr>\n",
       "    <tr>\n",
       "      <th>3451</th>\n",
       "      <td>3</td>\n",
       "      <td>1.650292e+05</td>\n",
       "      <td>3.57</td>\n",
       "      <td>47.20</td>\n",
       "      <td>1SWASPJ000113.57-765908.6</td>\n",
       "      <td>0.306542</td>\n",
       "      <td>-76.985722</td>\n",
       "    </tr>\n",
       "  </tbody>\n",
       "</table>\n",
       "<p>1000 rows × 7 columns</p>\n",
       "</div>"
      ],
      "text/plain": [
       "      Period Number        Period  Sigma  Chi Squared  \\\n",
       "1                 1  2.480236e+04   3.82        58.50   \n",
       "16                1  1.884039e+06   4.07        47.49   \n",
       "18                3  4.280812e+05   4.22        31.22   \n",
       "20                5  2.758600e+05   4.19        38.11   \n",
       "36                2  3.232903e+05   3.78        29.66   \n",
       "...             ...           ...    ...          ...   \n",
       "3444              2  2.759379e+05   4.35        31.45   \n",
       "3445              1  3.426548e+04   4.13        35.96   \n",
       "3449              1  6.988552e+05   3.52       105.13   \n",
       "3450              2  2.015720e+05   3.84        54.85   \n",
       "3451              3  1.650292e+05   3.57        47.20   \n",
       "\n",
       "                       SWASP ID  _RAJ2000   _DEJ2000  \n",
       "1     1SWASPJ000000.15+320847.6  0.000625  32.146556  \n",
       "16    1SWASPJ000000.74+561358.9  0.003083  56.233028  \n",
       "18    1SWASPJ000000.74+561358.9  0.003083  56.233028  \n",
       "20    1SWASPJ000000.74+561358.9  0.003083  56.233028  \n",
       "36    1SWASPJ000001.10+562043.7  0.004583  56.345472  \n",
       "...                         ...       ...        ...  \n",
       "3444  1SWASPJ000113.44+542839.1  0.306000  54.477528  \n",
       "3445  1SWASPJ000113.51+065251.0  0.306292   6.880833  \n",
       "3449  1SWASPJ000113.57-765908.6  0.306542 -76.985722  \n",
       "3450  1SWASPJ000113.57-765908.6  0.306542 -76.985722  \n",
       "3451  1SWASPJ000113.57-765908.6  0.306542 -76.985722  \n",
       "\n",
       "[1000 rows x 7 columns]"
      ]
     },
     "execution_count": 4,
     "metadata": {},
     "output_type": "execute_result"
    }
   ],
   "source": [
    "folded_lightcurves.df"
   ]
  },
  {
   "cell_type": "code",
   "execution_count": 5,
   "id": "proved-remains",
   "metadata": {},
   "outputs": [
    {
     "data": {
      "text/html": [
       "<i>Table length=1000</i>\n",
       "<table id=\"table2303799201168\" class=\"table-striped table-bordered table-condensed\">\n",
       "<thead><tr><th>Period Number</th><th>Period</th><th>Sigma</th><th>Chi Squared</th><th>SWASP ID</th><th>_RAJ2000</th><th>_DEJ2000</th></tr></thead>\n",
       "<thead><tr><th></th><th></th><th></th><th></th><th></th><th>deg</th><th>deg</th></tr></thead>\n",
       "<thead><tr><th>int64</th><th>float64</th><th>float64</th><th>float64</th><th>str25</th><th>float64</th><th>float64</th></tr></thead>\n",
       "<tr><td>1</td><td>24802.35742</td><td>3.82</td><td>58.5</td><td>1SWASPJ000000.15+320847.6</td><td>0.0006249999999999999</td><td>32.14655555555556</td></tr>\n",
       "<tr><td>1</td><td>1884039.25</td><td>4.07</td><td>47.49</td><td>1SWASPJ000000.74+561358.9</td><td>0.003083333333333333</td><td>56.23302777777778</td></tr>\n",
       "<tr><td>3</td><td>428081.25</td><td>4.22</td><td>31.22</td><td>1SWASPJ000000.74+561358.9</td><td>0.003083333333333333</td><td>56.23302777777778</td></tr>\n",
       "<tr><td>5</td><td>275859.96875</td><td>4.19</td><td>38.11</td><td>1SWASPJ000000.74+561358.9</td><td>0.003083333333333333</td><td>56.23302777777778</td></tr>\n",
       "<tr><td>2</td><td>323290.34375</td><td>3.78</td><td>29.66</td><td>1SWASPJ000001.10+562043.7</td><td>0.004583333333333333</td><td>56.34547222222223</td></tr>\n",
       "<tr><td>3</td><td>212793.70312</td><td>3.5</td><td>26.4</td><td>1SWASPJ000001.10+562043.7</td><td>0.004583333333333333</td><td>56.34547222222223</td></tr>\n",
       "<tr><td>4</td><td>197115.45312</td><td>3.55</td><td>30.26</td><td>1SWASPJ000001.10+562043.7</td><td>0.004583333333333333</td><td>56.34547222222223</td></tr>\n",
       "<tr><td>5</td><td>191336.71875</td><td>4.7</td><td>29.55</td><td>1SWASPJ000001.10+562043.7</td><td>0.004583333333333333</td><td>56.34547222222223</td></tr>\n",
       "<tr><td>6</td><td>183918.53125</td><td>3.83</td><td>26.76</td><td>1SWASPJ000001.10+562043.7</td><td>0.004583333333333333</td><td>56.34547222222223</td></tr>\n",
       "<tr><td>...</td><td>...</td><td>...</td><td>...</td><td>...</td><td>...</td><td>...</td></tr>\n",
       "<tr><td>4</td><td>167074.96875</td><td>3.51</td><td>24.67</td><td>1SWASPJ000113.40+542840.8</td><td>0.3058333333333333</td><td>54.478</td></tr>\n",
       "<tr><td>1</td><td>26310.67773</td><td>3.85</td><td>100.71</td><td>1SWASPJ000113.40-332706.8</td><td>0.3058333333333333</td><td>-33.451888888888895</td></tr>\n",
       "<tr><td>2</td><td>20156.20117</td><td>6.25</td><td>129.08</td><td>1SWASPJ000113.40-332706.8</td><td>0.3058333333333333</td><td>-33.451888888888895</td></tr>\n",
       "<tr><td>3</td><td>16335.15918</td><td>3.78</td><td>88.41</td><td>1SWASPJ000113.40-332706.8</td><td>0.3058333333333333</td><td>-33.451888888888895</td></tr>\n",
       "<tr><td>1</td><td>325168.3125</td><td>3.58</td><td>28.81</td><td>1SWASPJ000113.44+542839.1</td><td>0.306</td><td>54.47752777777778</td></tr>\n",
       "<tr><td>2</td><td>275937.90625</td><td>4.35</td><td>31.45</td><td>1SWASPJ000113.44+542839.1</td><td>0.306</td><td>54.47752777777778</td></tr>\n",
       "<tr><td>1</td><td>34265.48438</td><td>4.13</td><td>35.96</td><td>1SWASPJ000113.51+065251.0</td><td>0.30629166666666663</td><td>6.880833333333334</td></tr>\n",
       "<tr><td>1</td><td>698855.25</td><td>3.52</td><td>105.13</td><td>1SWASPJ000113.57-765908.6</td><td>0.3065416666666666</td><td>-76.98572222222222</td></tr>\n",
       "<tr><td>2</td><td>201572.0</td><td>3.84</td><td>54.85</td><td>1SWASPJ000113.57-765908.6</td><td>0.3065416666666666</td><td>-76.98572222222222</td></tr>\n",
       "<tr><td>3</td><td>165029.20312</td><td>3.57</td><td>47.2</td><td>1SWASPJ000113.57-765908.6</td><td>0.3065416666666666</td><td>-76.98572222222222</td></tr>\n",
       "</table>"
      ],
      "text/plain": [
       "<Table length=1000>\n",
       "Period Number    Period     Sigma  ...        _RAJ2000             _DEJ2000     \n",
       "                                   ...          deg                  deg        \n",
       "    int64       float64    float64 ...        float64              float64      \n",
       "------------- ------------ ------- ... --------------------- -------------------\n",
       "            1  24802.35742    3.82 ... 0.0006249999999999999   32.14655555555556\n",
       "            1   1884039.25    4.07 ...  0.003083333333333333   56.23302777777778\n",
       "            3    428081.25    4.22 ...  0.003083333333333333   56.23302777777778\n",
       "            5 275859.96875    4.19 ...  0.003083333333333333   56.23302777777778\n",
       "            2 323290.34375    3.78 ...  0.004583333333333333   56.34547222222223\n",
       "            3 212793.70312     3.5 ...  0.004583333333333333   56.34547222222223\n",
       "            4 197115.45312    3.55 ...  0.004583333333333333   56.34547222222223\n",
       "            5 191336.71875     4.7 ...  0.004583333333333333   56.34547222222223\n",
       "            6 183918.53125    3.83 ...  0.004583333333333333   56.34547222222223\n",
       "          ...          ...     ... ...                   ...                 ...\n",
       "            4 167074.96875    3.51 ...    0.3058333333333333              54.478\n",
       "            1  26310.67773    3.85 ...    0.3058333333333333 -33.451888888888895\n",
       "            2  20156.20117    6.25 ...    0.3058333333333333 -33.451888888888895\n",
       "            3  16335.15918    3.78 ...    0.3058333333333333 -33.451888888888895\n",
       "            1  325168.3125    3.58 ...                 0.306   54.47752777777778\n",
       "            2 275937.90625    4.35 ...                 0.306   54.47752777777778\n",
       "            1  34265.48438    4.13 ...   0.30629166666666663   6.880833333333334\n",
       "            1    698855.25    3.52 ...    0.3065416666666666  -76.98572222222222\n",
       "            2     201572.0    3.84 ...    0.3065416666666666  -76.98572222222222\n",
       "            3 165029.20312    3.57 ...    0.3065416666666666  -76.98572222222222"
      ]
     },
     "execution_count": 5,
     "metadata": {},
     "output_type": "execute_result"
    }
   ],
   "source": [
    "source_table = Table.from_pandas(folded_lightcurves.df, units={'_RAJ2000': u.deg, '_DEJ2000': u.deg})\n",
    "source_table"
   ]
  },
  {
   "cell_type": "code",
   "execution_count": 10,
   "id": "unauthorized-carol",
   "metadata": {},
   "outputs": [
    {
     "data": {
      "text/plain": [
       "Empty TableList"
      ]
     },
     "execution_count": 10,
     "metadata": {},
     "output_type": "execute_result"
    }
   ],
   "source": [
    "vsx_results = Vizier.query_region(source_table, radius=1*u.deg, catalog='B/vsx/vsx')\n",
    "vsx_results"
   ]
  },
  {
   "cell_type": "code",
   "execution_count": 11,
   "id": "bizarre-medium",
   "metadata": {},
   "outputs": [
    {
     "data": {
      "text/html": [
       "<i>Table length=12</i>\n",
       "<table id=\"table2303799567504\" class=\"table-striped table-bordered table-condensed\">\n",
       "<thead><tr><th>_RAJ2000</th><th>_DEJ2000</th><th>Cl</th><th>nR</th><th>Name</th><th>n_RAJ2000</th><th>RAJ2000</th><th>DEJ2000</th><th>l_z</th><th>z</th><th>Sp</th><th>n_Vmag</th><th>Vmag</th><th>B-V</th><th>r_z</th></tr></thead>\n",
       "<thead><tr><th>deg</th><th>deg</th><th></th><th></th><th></th><th></th><th>&quot;h:m:s&quot;</th><th>&quot;d:m:s&quot;</th><th></th><th></th><th></th><th></th><th>mag</th><th>mag</th><th></th></tr></thead>\n",
       "<thead><tr><th>float64</th><th>float64</th><th>str1</th><th>str1</th><th>str17</th><th>str1</th><th>str10</th><th>str9</th><th>str1</th><th>float32</th><th>str4</th><th>str1</th><th>float32</th><th>float32</th><th>int16</th></tr></thead>\n",
       "<tr><td>10.684583</td><td>41.269444</td><td>Q</td><td></td><td>M 31</td><td>O</td><td>00 42 44.3</td><td>+41 16 10</td><td></td><td>0.000</td><td>S2</td><td></td><td>10.57</td><td>1.08</td><td>1936</td></tr>\n",
       "<tr><td>60.277917</td><td>-16.110833</td><td>Q</td><td></td><td>NPM1G-16.0168</td><td>O</td><td>04 01 06.7</td><td>-16 06 39</td><td></td><td>0.031</td><td></td><td>R</td><td>10.16</td><td>--</td><td>988</td></tr>\n",
       "<tr><td>27.238750</td><td>5.906667</td><td>A</td><td>*</td><td>NGC  676</td><td></td><td>01 48 57.3</td><td>+05 54 24</td><td></td><td>0.005</td><td>S2</td><td></td><td>10.50</td><td>--</td><td>1034</td></tr>\n",
       "<tr><td>40.669583</td><td>-0.013056</td><td>A</td><td></td><td>NGC 1068</td><td>O</td><td>02 42 40.7</td><td>-00 00 47</td><td></td><td>0.003</td><td>S1h</td><td></td><td>10.83</td><td>0.87</td><td>58</td></tr>\n",
       "<tr><td>139.759583</td><td>26.269722</td><td>A</td><td></td><td>NGC 2824</td><td>O</td><td>09 19 02.3</td><td>+26 16 11</td><td></td><td>0.008</td><td>S?</td><td></td><td>10.88</td><td>--</td><td>2528</td></tr>\n",
       "<tr><td>147.592083</td><td>72.279167</td><td>A</td><td></td><td>NGC 2985</td><td>O</td><td>09 50 22.1</td><td>+72 16 45</td><td></td><td>0.004</td><td>S1.9</td><td></td><td>10.61</td><td>0.76</td><td>1033</td></tr>\n",
       "<tr><td>173.144167</td><td>53.067778</td><td>A</td><td></td><td>NGC 3718</td><td>O</td><td>11 32 34.6</td><td>+53 04 04</td><td></td><td>0.003</td><td>S3b</td><td></td><td>10.61</td><td>0.74</td><td>1033</td></tr>\n",
       "<tr><td>184.960833</td><td>29.613889</td><td>A</td><td></td><td>UGC  7377</td><td>O</td><td>12 19 50.6</td><td>+29 36 50</td><td></td><td>0.003</td><td>S3</td><td></td><td>10.47</td><td>0.99</td><td>2500</td></tr>\n",
       "<tr><td>185.028750</td><td>29.280833</td><td>A</td><td></td><td>NGC 4278</td><td>O</td><td>12 20 06.9</td><td>+29 16 51</td><td></td><td>0.002</td><td>S3b</td><td></td><td>10.87</td><td>0.98</td><td>1033</td></tr>\n",
       "<tr><td>186.453750</td><td>33.546667</td><td>A</td><td></td><td>NGC 4395</td><td>O</td><td>12 25 48.9</td><td>+33 32 48</td><td></td><td>0.001</td><td>S1.8</td><td></td><td>10.27</td><td>0.53</td><td>1033</td></tr>\n",
       "<tr><td>192.719583</td><td>41.119444</td><td>A</td><td></td><td>NGC 4736</td><td>O</td><td>12 50 52.7</td><td>+41 07 10</td><td></td><td>0.001</td><td>S</td><td></td><td>10.85</td><td>0.85</td><td>1032</td></tr>\n",
       "<tr><td>208.361250</td><td>40.283056</td><td>A</td><td></td><td>NGC 5353</td><td>O</td><td>13 53 26.7</td><td>+40 16 59</td><td></td><td>0.008</td><td>S?</td><td>R</td><td>10.91</td><td>--</td><td>368</td></tr>\n",
       "</table>"
      ],
      "text/plain": [
       "<Table length=12>\n",
       " _RAJ2000   _DEJ2000   Cl   nR       Name     ... n_Vmag   Vmag    B-V    r_z \n",
       "   deg        deg                             ...          mag     mag        \n",
       " float64    float64   str1 str1     str17     ...  str1  float32 float32 int16\n",
       "---------- ---------- ---- ---- ------------- ... ------ ------- ------- -----\n",
       " 10.684583  41.269444    Q               M 31 ...          10.57    1.08  1936\n",
       " 60.277917 -16.110833    Q      NPM1G-16.0168 ...      R   10.16      --   988\n",
       " 27.238750   5.906667    A    *      NGC  676 ...          10.50      --  1034\n",
       " 40.669583  -0.013056    A           NGC 1068 ...          10.83    0.87    58\n",
       "139.759583  26.269722    A           NGC 2824 ...          10.88      --  2528\n",
       "147.592083  72.279167    A           NGC 2985 ...          10.61    0.76  1033\n",
       "173.144167  53.067778    A           NGC 3718 ...          10.61    0.74  1033\n",
       "184.960833  29.613889    A          UGC  7377 ...          10.47    0.99  2500\n",
       "185.028750  29.280833    A           NGC 4278 ...          10.87    0.98  1033\n",
       "186.453750  33.546667    A           NGC 4395 ...          10.27    0.53  1033\n",
       "192.719583  41.119444    A           NGC 4736 ...          10.85    0.85  1032\n",
       "208.361250  40.283056    A           NGC 5353 ...      R   10.91      --   368"
      ]
     },
     "execution_count": 11,
     "metadata": {},
     "output_type": "execute_result"
    }
   ],
   "source": [
    "agn = Vizier(catalog=\"VII/258/vv10\", columns=['*', '_RAJ2000', '_DEJ2000']).query_constraints(Vmag=\"10.0..11.0\")[0]\n",
    "agn"
   ]
  },
  {
   "cell_type": "code",
   "execution_count": 13,
   "id": "practical-sampling",
   "metadata": {},
   "outputs": [
    {
     "data": {
      "text/plain": [
       "Empty TableList"
      ]
     },
     "execution_count": 13,
     "metadata": {},
     "output_type": "execute_result"
    }
   ],
   "source": [
    "Vizier(catalog=\"II/246\", column_filters={\"Kmag\":\"<9.0\"}).query_region(agn, radius=\"30s\", inner_radius=\"2s\")"
   ]
  }
 ],
 "metadata": {
  "kernelspec": {
   "display_name": "Python 3",
   "language": "python",
   "name": "python3"
  },
  "language_info": {
   "codemirror_mode": {
    "name": "ipython",
    "version": 3
   },
   "file_extension": ".py",
   "mimetype": "text/x-python",
   "name": "python",
   "nbconvert_exporter": "python",
   "pygments_lexer": "ipython3",
   "version": "3.8.5"
  }
 },
 "nbformat": 4,
 "nbformat_minor": 5
}
