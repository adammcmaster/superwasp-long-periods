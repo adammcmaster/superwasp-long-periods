{
 "cells": [
  {
   "cell_type": "code",
   "execution_count": 1,
   "metadata": {},
   "outputs": [],
   "source": [
    "import os\n",
    "import pandas\n",
    "import swasputils"
   ]
  },
  {
   "cell_type": "code",
   "execution_count": 2,
   "metadata": {},
   "outputs": [],
   "source": [
    "objects = swasputils.load_objects()\n",
    "top_chisq = pandas.read_csv(os.path.join(swasputils.DATA_LOCATION, 'top_chisq.csv'))\n",
    "top_sigma = pandas.read_csv(os.path.join(swasputils.DATA_LOCATION, 'top_sigma.csv'))"
   ]
  },
  {
   "cell_type": "code",
   "execution_count": 3,
   "metadata": {},
   "outputs": [],
   "source": [
    "objects['Sigma * Chi Squared'] = objects['Sigma'] * objects['Chi Squared']"
   ]
  },
  {
   "cell_type": "code",
   "execution_count": 4,
   "metadata": {},
   "outputs": [],
   "source": [
    "top_product = objects.sort_values('Sigma * Chi Squared', ascending=False)[:100]\n",
    "swasputils.join_swasp_ids(top_product)"
   ]
  },
  {
   "cell_type": "code",
   "execution_count": 5,
   "metadata": {},
   "outputs": [
    {
     "data": {
      "text/html": [
       "<div>\n",
       "<style scoped>\n",
       "    .dataframe tbody tr th:only-of-type {\n",
       "        vertical-align: middle;\n",
       "    }\n",
       "\n",
       "    .dataframe tbody tr th {\n",
       "        vertical-align: top;\n",
       "    }\n",
       "\n",
       "    .dataframe thead th {\n",
       "        text-align: right;\n",
       "    }\n",
       "</style>\n",
       "<table border=\"1\" class=\"dataframe\">\n",
       "  <thead>\n",
       "    <tr style=\"text-align: right;\">\n",
       "      <th></th>\n",
       "      <th>Period Number</th>\n",
       "      <th>Period</th>\n",
       "      <th>Sigma</th>\n",
       "      <th>Chi Squared</th>\n",
       "      <th>Sigma * Chi Squared</th>\n",
       "      <th>SWASP ID</th>\n",
       "    </tr>\n",
       "  </thead>\n",
       "  <tbody>\n",
       "    <tr>\n",
       "      <th>3343855</th>\n",
       "      <td>1</td>\n",
       "      <td>28343114.0</td>\n",
       "      <td>6.16</td>\n",
       "      <td>14749.57</td>\n",
       "      <td>90857.3512</td>\n",
       "      <td>1SWASPJ082532.84+352533.0</td>\n",
       "    </tr>\n",
       "    <tr>\n",
       "      <th>41444</th>\n",
       "      <td>1</td>\n",
       "      <td>9071568.0</td>\n",
       "      <td>5.60</td>\n",
       "      <td>14509.66</td>\n",
       "      <td>81254.0960</td>\n",
       "      <td>1SWASPJ001511.32-601325.0</td>\n",
       "    </tr>\n",
       "    <tr>\n",
       "      <th>778471</th>\n",
       "      <td>1</td>\n",
       "      <td>11142552.0</td>\n",
       "      <td>6.04</td>\n",
       "      <td>6886.85</td>\n",
       "      <td>41596.5740</td>\n",
       "      <td>1SWASPJ015930.16-312917.8</td>\n",
       "    </tr>\n",
       "    <tr>\n",
       "      <th>4877966</th>\n",
       "      <td>1</td>\n",
       "      <td>15986331.0</td>\n",
       "      <td>6.31</td>\n",
       "      <td>6304.39</td>\n",
       "      <td>39780.7009</td>\n",
       "      <td>1SWASPJ153555.65+010010.4</td>\n",
       "    </tr>\n",
       "    <tr>\n",
       "      <th>647656</th>\n",
       "      <td>1</td>\n",
       "      <td>16099373.0</td>\n",
       "      <td>5.60</td>\n",
       "      <td>7021.82</td>\n",
       "      <td>39322.1920</td>\n",
       "      <td>1SWASPJ012514.64-455628.1</td>\n",
       "    </tr>\n",
       "    <tr>\n",
       "      <th>...</th>\n",
       "      <td>...</td>\n",
       "      <td>...</td>\n",
       "      <td>...</td>\n",
       "      <td>...</td>\n",
       "      <td>...</td>\n",
       "      <td>...</td>\n",
       "    </tr>\n",
       "    <tr>\n",
       "      <th>33582</th>\n",
       "      <td>1</td>\n",
       "      <td>14603769.0</td>\n",
       "      <td>5.07</td>\n",
       "      <td>4020.52</td>\n",
       "      <td>20384.0364</td>\n",
       "      <td>1SWASPJ001201.86-543956.2</td>\n",
       "    </tr>\n",
       "    <tr>\n",
       "      <th>6427244</th>\n",
       "      <td>1</td>\n",
       "      <td>16093810.0</td>\n",
       "      <td>4.98</td>\n",
       "      <td>4092.32</td>\n",
       "      <td>20379.7536</td>\n",
       "      <td>1SWASPJ203756.96+002753.7</td>\n",
       "    </tr>\n",
       "    <tr>\n",
       "      <th>6923861</th>\n",
       "      <td>1</td>\n",
       "      <td>12176911.0</td>\n",
       "      <td>5.80</td>\n",
       "      <td>3500.81</td>\n",
       "      <td>20304.6980</td>\n",
       "      <td>1SWASPJ215419.27+234051.8</td>\n",
       "    </tr>\n",
       "    <tr>\n",
       "      <th>7454650</th>\n",
       "      <td>1</td>\n",
       "      <td>10150286.0</td>\n",
       "      <td>8.05</td>\n",
       "      <td>2516.70</td>\n",
       "      <td>20259.4350</td>\n",
       "      <td>1SWASPJ235618.83-043331.4</td>\n",
       "    </tr>\n",
       "    <tr>\n",
       "      <th>610945</th>\n",
       "      <td>1</td>\n",
       "      <td>19921858.0</td>\n",
       "      <td>5.70</td>\n",
       "      <td>3544.39</td>\n",
       "      <td>20203.0230</td>\n",
       "      <td>1SWASPJ012057.97+240529.8</td>\n",
       "    </tr>\n",
       "  </tbody>\n",
       "</table>\n",
       "<p>100 rows × 6 columns</p>\n",
       "</div>"
      ],
      "text/plain": [
       "         Period Number      Period  Sigma  Chi Squared  Sigma * Chi Squared  \\\n",
       "3343855              1  28343114.0   6.16     14749.57           90857.3512   \n",
       "41444                1   9071568.0   5.60     14509.66           81254.0960   \n",
       "778471               1  11142552.0   6.04      6886.85           41596.5740   \n",
       "4877966              1  15986331.0   6.31      6304.39           39780.7009   \n",
       "647656               1  16099373.0   5.60      7021.82           39322.1920   \n",
       "...                ...         ...    ...          ...                  ...   \n",
       "33582                1  14603769.0   5.07      4020.52           20384.0364   \n",
       "6427244              1  16093810.0   4.98      4092.32           20379.7536   \n",
       "6923861              1  12176911.0   5.80      3500.81           20304.6980   \n",
       "7454650              1  10150286.0   8.05      2516.70           20259.4350   \n",
       "610945               1  19921858.0   5.70      3544.39           20203.0230   \n",
       "\n",
       "                          SWASP ID  \n",
       "3343855  1SWASPJ082532.84+352533.0  \n",
       "41444    1SWASPJ001511.32-601325.0  \n",
       "778471   1SWASPJ015930.16-312917.8  \n",
       "4877966  1SWASPJ153555.65+010010.4  \n",
       "647656   1SWASPJ012514.64-455628.1  \n",
       "...                            ...  \n",
       "33582    1SWASPJ001201.86-543956.2  \n",
       "6427244  1SWASPJ203756.96+002753.7  \n",
       "6923861  1SWASPJ215419.27+234051.8  \n",
       "7454650  1SWASPJ235618.83-043331.4  \n",
       "610945   1SWASPJ012057.97+240529.8  \n",
       "\n",
       "[100 rows x 6 columns]"
      ]
     },
     "execution_count": 5,
     "metadata": {},
     "output_type": "execute_result"
    }
   ],
   "source": [
    "top_product"
   ]
  },
  {
   "cell_type": "code",
   "execution_count": 6,
   "metadata": {},
   "outputs": [
    {
     "data": {
      "text/plain": [
       "<matplotlib.axes._subplots.AxesSubplot at 0x28671ebd6a0>"
      ]
     },
     "execution_count": 6,
     "metadata": {},
     "output_type": "execute_result"
    },
    {
     "data": {
      "image/png": "[encoded data removed]",
      "text/plain": [
       "<Figure size 432x288 with 1 Axes>"
      ]
     },
     "metadata": {
      "needs_background": "light"
     },
     "output_type": "display_data"
    }
   ],
   "source": [
    "top_product.plot.scatter('Period', 'Sigma * Chi Squared')"
   ]
  },
  {
   "cell_type": "code",
   "execution_count": 7,
   "metadata": {},
   "outputs": [
    {
     "data": {
      "text/plain": [
       "<matplotlib.axes._subplots.AxesSubplot at 0x2867c859f10>"
      ]
     },
     "execution_count": 7,
     "metadata": {},
     "output_type": "execute_result"
    },
    {
     "data": {
      "image/png": "[encoded data removed]",
      "text/plain": [
       "<Figure size 432x288 with 1 Axes>"
      ]
     },
     "metadata": {
      "needs_background": "light"
     },
     "output_type": "display_data"
    }
   ],
   "source": [
    "def get_overlap(swasp_id):\n",
    "    in_sigma = swasp_id in list(top_sigma['SWASP ID'])\n",
    "    in_chisq = swasp_id in list(top_chisq['SWASP ID'])\n",
    "    if in_sigma and in_chisq:\n",
    "        return 'Both'\n",
    "    if in_sigma:\n",
    "        return 'Sigma'\n",
    "    if in_chisq:\n",
    "        return 'Chisq'\n",
    "    return 'None'\n",
    "top_product['Overlap'] = top_product['SWASP ID'].apply(get_overlap)\n",
    "top_product['Overlap'].value_counts().plot(kind='bar')"
   ]
  },
  {
   "cell_type": "code",
   "execution_count": 8,
   "metadata": {},
   "outputs": [
    {
     "name": "stderr",
     "output_type": "stream",
     "text": [
      "C:\\Users\\anm83\\Anaconda3\\lib\\site-packages\\IPython\\core\\interactiveshell.py:3263: DtypeWarning: Columns (7,8) have mixed types.Specify dtype option on import or set low_memory=False.\n",
      "  if (await self.run_code(code, result,  async_=asy)):\n"
     ]
    }
   ],
   "source": [
    "zoo_lookup = swasputils.load_lookup()\n",
    "zoo_subjects = swasputils.load_zoo_subjects()\n",
    "classifications = swasputils.load_classifications()\n",
    "manual_classifications = swasputils.load_manual_classifications()"
   ]
  },
  {
   "cell_type": "code",
   "execution_count": 9,
   "metadata": {},
   "outputs": [
    {
     "name": "stderr",
     "output_type": "stream",
     "text": [
      "C:\\Users\\anm83\\Documents\\Code\\superwasp-long-periods\\swasputils.py:115: YAMLLoadWarning: calling yaml.load() without Loader=... is deprecated, as the default Loader is unsafe. Please read https://msg.pyyaml.org/load for full details.\n",
      "  return yaml.load(s)[0]['value']\n"
     ]
    },
    {
     "data": {
      "text/html": [
       "<div>\n",
       "<style scoped>\n",
       "    .dataframe tbody tr th:only-of-type {\n",
       "        vertical-align: middle;\n",
       "    }\n",
       "\n",
       "    .dataframe tbody tr th {\n",
       "        vertical-align: top;\n",
       "    }\n",
       "\n",
       "    .dataframe thead th {\n",
       "        text-align: right;\n",
       "    }\n",
       "</style>\n",
       "<table border=\"1\" class=\"dataframe\">\n",
       "  <thead>\n",
       "    <tr style=\"text-align: right;\">\n",
       "      <th></th>\n",
       "      <th>Period Number</th>\n",
       "      <th>Period</th>\n",
       "      <th>Sigma</th>\n",
       "      <th>Chi Squared</th>\n",
       "      <th>Sigma * Chi Squared</th>\n",
       "      <th>SWASP ID</th>\n",
       "      <th>Overlap</th>\n",
       "      <th>Zooniverse ID</th>\n",
       "      <th>locations</th>\n",
       "      <th>Classification</th>\n",
       "      <th>Period Uncertainty</th>\n",
       "      <th>Classification Count</th>\n",
       "      <th>Manual Classification</th>\n",
       "    </tr>\n",
       "  </thead>\n",
       "  <tbody>\n",
       "    <tr>\n",
       "      <th>0</th>\n",
       "      <td>1</td>\n",
       "      <td>28343114.0</td>\n",
       "      <td>6.16</td>\n",
       "      <td>14749.57</td>\n",
       "      <td>90857.3512</td>\n",
       "      <td>1SWASPJ082532.84+352533.0</td>\n",
       "      <td>Chisq</td>\n",
       "      <td>24552064</td>\n",
       "      <td>{\"0\":\"https://panoptes-uploads.zooniverse.org/...</td>\n",
       "      <td>5.0</td>\n",
       "      <td>0.0</td>\n",
       "      <td>1.0</td>\n",
       "      <td>Real</td>\n",
       "    </tr>\n",
       "    <tr>\n",
       "      <th>1</th>\n",
       "      <td>1</td>\n",
       "      <td>9071568.0</td>\n",
       "      <td>5.60</td>\n",
       "      <td>14509.66</td>\n",
       "      <td>81254.0960</td>\n",
       "      <td>1SWASPJ001511.32-601325.0</td>\n",
       "      <td>Chisq</td>\n",
       "      <td>22113344</td>\n",
       "      <td>{\"0\":\"https://panoptes-uploads.zooniverse.org/...</td>\n",
       "      <td>5.0</td>\n",
       "      <td>0.0</td>\n",
       "      <td>3.0</td>\n",
       "      <td>Real</td>\n",
       "    </tr>\n",
       "    <tr>\n",
       "      <th>2</th>\n",
       "      <td>1</td>\n",
       "      <td>11142552.0</td>\n",
       "      <td>6.04</td>\n",
       "      <td>6886.85</td>\n",
       "      <td>41596.5740</td>\n",
       "      <td>1SWASPJ015930.16-312917.8</td>\n",
       "      <td>Chisq</td>\n",
       "      <td>24332481</td>\n",
       "      <td>{\"0\":\"https://panoptes-uploads.zooniverse.org/...</td>\n",
       "      <td>NaN</td>\n",
       "      <td>NaN</td>\n",
       "      <td>NaN</td>\n",
       "      <td>Real</td>\n",
       "    </tr>\n",
       "    <tr>\n",
       "      <th>3</th>\n",
       "      <td>1</td>\n",
       "      <td>15986331.0</td>\n",
       "      <td>6.31</td>\n",
       "      <td>6304.39</td>\n",
       "      <td>39780.7009</td>\n",
       "      <td>1SWASPJ153555.65+010010.4</td>\n",
       "      <td>Chisq</td>\n",
       "      <td>24854625</td>\n",
       "      <td>{\"0\":\"https://panoptes-uploads.zooniverse.org/...</td>\n",
       "      <td>6.0</td>\n",
       "      <td>1.0</td>\n",
       "      <td>1.0</td>\n",
       "      <td>Junk</td>\n",
       "    </tr>\n",
       "    <tr>\n",
       "      <th>4</th>\n",
       "      <td>1</td>\n",
       "      <td>16099373.0</td>\n",
       "      <td>5.60</td>\n",
       "      <td>7021.82</td>\n",
       "      <td>39322.1920</td>\n",
       "      <td>1SWASPJ012514.64-455628.1</td>\n",
       "      <td>Chisq</td>\n",
       "      <td>22668901</td>\n",
       "      <td>{\"0\":\"https://panoptes-uploads.zooniverse.org/...</td>\n",
       "      <td>NaN</td>\n",
       "      <td>NaN</td>\n",
       "      <td>NaN</td>\n",
       "      <td>Real</td>\n",
       "    </tr>\n",
       "    <tr>\n",
       "      <th>...</th>\n",
       "      <td>...</td>\n",
       "      <td>...</td>\n",
       "      <td>...</td>\n",
       "      <td>...</td>\n",
       "      <td>...</td>\n",
       "      <td>...</td>\n",
       "      <td>...</td>\n",
       "      <td>...</td>\n",
       "      <td>...</td>\n",
       "      <td>...</td>\n",
       "      <td>...</td>\n",
       "      <td>...</td>\n",
       "      <td>...</td>\n",
       "    </tr>\n",
       "    <tr>\n",
       "      <th>95</th>\n",
       "      <td>1</td>\n",
       "      <td>14603769.0</td>\n",
       "      <td>5.07</td>\n",
       "      <td>4020.52</td>\n",
       "      <td>20384.0364</td>\n",
       "      <td>1SWASPJ001201.86-543956.2</td>\n",
       "      <td>Both</td>\n",
       "      <td>22112021</td>\n",
       "      <td>{\"0\":\"https://panoptes-uploads.zooniverse.org/...</td>\n",
       "      <td>6.0</td>\n",
       "      <td>1.0</td>\n",
       "      <td>4.0</td>\n",
       "      <td>Real</td>\n",
       "    </tr>\n",
       "    <tr>\n",
       "      <th>96</th>\n",
       "      <td>1</td>\n",
       "      <td>16093810.0</td>\n",
       "      <td>4.98</td>\n",
       "      <td>4092.32</td>\n",
       "      <td>20379.7536</td>\n",
       "      <td>1SWASPJ203756.96+002753.7</td>\n",
       "      <td>Chisq</td>\n",
       "      <td>24056647</td>\n",
       "      <td>{\"0\":\"https://panoptes-uploads.zooniverse.org/...</td>\n",
       "      <td>5.0</td>\n",
       "      <td>0.0</td>\n",
       "      <td>1.0</td>\n",
       "      <td>Real</td>\n",
       "    </tr>\n",
       "    <tr>\n",
       "      <th>97</th>\n",
       "      <td>1</td>\n",
       "      <td>12176911.0</td>\n",
       "      <td>5.80</td>\n",
       "      <td>3500.81</td>\n",
       "      <td>20304.6980</td>\n",
       "      <td>1SWASPJ215419.27+234051.8</td>\n",
       "      <td>None</td>\n",
       "      <td>23428386</td>\n",
       "      <td>{\"0\":\"https://panoptes-uploads.zooniverse.org/...</td>\n",
       "      <td>NaN</td>\n",
       "      <td>NaN</td>\n",
       "      <td>NaN</td>\n",
       "      <td>None</td>\n",
       "    </tr>\n",
       "    <tr>\n",
       "      <th>98</th>\n",
       "      <td>1</td>\n",
       "      <td>10150286.0</td>\n",
       "      <td>8.05</td>\n",
       "      <td>2516.70</td>\n",
       "      <td>20259.4350</td>\n",
       "      <td>1SWASPJ235618.83-043331.4</td>\n",
       "      <td>Sigma</td>\n",
       "      <td>27471069</td>\n",
       "      <td>{\"0\":\"https://panoptes-uploads.zooniverse.org/...</td>\n",
       "      <td>NaN</td>\n",
       "      <td>NaN</td>\n",
       "      <td>NaN</td>\n",
       "      <td>Real</td>\n",
       "    </tr>\n",
       "    <tr>\n",
       "      <th>99</th>\n",
       "      <td>1</td>\n",
       "      <td>19921858.0</td>\n",
       "      <td>5.70</td>\n",
       "      <td>3544.39</td>\n",
       "      <td>20203.0230</td>\n",
       "      <td>1SWASPJ012057.97+240529.8</td>\n",
       "      <td>None</td>\n",
       "      <td>24639357</td>\n",
       "      <td>{\"0\":\"https://panoptes-uploads.zooniverse.org/...</td>\n",
       "      <td>NaN</td>\n",
       "      <td>NaN</td>\n",
       "      <td>NaN</td>\n",
       "      <td>None</td>\n",
       "    </tr>\n",
       "  </tbody>\n",
       "</table>\n",
       "<p>100 rows × 13 columns</p>\n",
       "</div>"
      ],
      "text/plain": [
       "    Period Number      Period  Sigma  Chi Squared  Sigma * Chi Squared  \\\n",
       "0               1  28343114.0   6.16     14749.57           90857.3512   \n",
       "1               1   9071568.0   5.60     14509.66           81254.0960   \n",
       "2               1  11142552.0   6.04      6886.85           41596.5740   \n",
       "3               1  15986331.0   6.31      6304.39           39780.7009   \n",
       "4               1  16099373.0   5.60      7021.82           39322.1920   \n",
       "..            ...         ...    ...          ...                  ...   \n",
       "95              1  14603769.0   5.07      4020.52           20384.0364   \n",
       "96              1  16093810.0   4.98      4092.32           20379.7536   \n",
       "97              1  12176911.0   5.80      3500.81           20304.6980   \n",
       "98              1  10150286.0   8.05      2516.70           20259.4350   \n",
       "99              1  19921858.0   5.70      3544.39           20203.0230   \n",
       "\n",
       "                     SWASP ID Overlap  Zooniverse ID  \\\n",
       "0   1SWASPJ082532.84+352533.0   Chisq       24552064   \n",
       "1   1SWASPJ001511.32-601325.0   Chisq       22113344   \n",
       "2   1SWASPJ015930.16-312917.8   Chisq       24332481   \n",
       "3   1SWASPJ153555.65+010010.4   Chisq       24854625   \n",
       "4   1SWASPJ012514.64-455628.1   Chisq       22668901   \n",
       "..                        ...     ...            ...   \n",
       "95  1SWASPJ001201.86-543956.2    Both       22112021   \n",
       "96  1SWASPJ203756.96+002753.7   Chisq       24056647   \n",
       "97  1SWASPJ215419.27+234051.8    None       23428386   \n",
       "98  1SWASPJ235618.83-043331.4   Sigma       27471069   \n",
       "99  1SWASPJ012057.97+240529.8    None       24639357   \n",
       "\n",
       "                                            locations  Classification  \\\n",
       "0   {\"0\":\"https://panoptes-uploads.zooniverse.org/...             5.0   \n",
       "1   {\"0\":\"https://panoptes-uploads.zooniverse.org/...             5.0   \n",
       "2   {\"0\":\"https://panoptes-uploads.zooniverse.org/...             NaN   \n",
       "3   {\"0\":\"https://panoptes-uploads.zooniverse.org/...             6.0   \n",
       "4   {\"0\":\"https://panoptes-uploads.zooniverse.org/...             NaN   \n",
       "..                                                ...             ...   \n",
       "95  {\"0\":\"https://panoptes-uploads.zooniverse.org/...             6.0   \n",
       "96  {\"0\":\"https://panoptes-uploads.zooniverse.org/...             5.0   \n",
       "97  {\"0\":\"https://panoptes-uploads.zooniverse.org/...             NaN   \n",
       "98  {\"0\":\"https://panoptes-uploads.zooniverse.org/...             NaN   \n",
       "99  {\"0\":\"https://panoptes-uploads.zooniverse.org/...             NaN   \n",
       "\n",
       "    Period Uncertainty  Classification Count Manual Classification  \n",
       "0                  0.0                   1.0                  Real  \n",
       "1                  0.0                   3.0                  Real  \n",
       "2                  NaN                   NaN                  Real  \n",
       "3                  1.0                   1.0                  Junk  \n",
       "4                  NaN                   NaN                  Real  \n",
       "..                 ...                   ...                   ...  \n",
       "95                 1.0                   4.0                  Real  \n",
       "96                 0.0                   1.0                  Real  \n",
       "97                 NaN                   NaN                  None  \n",
       "98                 NaN                   NaN                  Real  \n",
       "99                 NaN                   NaN                  None  \n",
       "\n",
       "[100 rows x 13 columns]"
      ]
     },
     "execution_count": 9,
     "metadata": {},
     "output_type": "execute_result"
    }
   ],
   "source": [
    "top_product = swasputils.merge_zoo_ids(top_product, zoo_lookup)\n",
    "top_product = swasputils.merge_zoo_subjects(top_product, zoo_subjects)\n",
    "top_product = swasputils.merge_classifications(top_product, classifications)\n",
    "top_product = swasputils.merge_manual_classifications(top_product, manual_classifications)\n",
    "top_product = swasputils.decode_manual_annotations(top_product)\n",
    "top_product"
   ]
  },
  {
   "cell_type": "code",
   "execution_count": 10,
   "metadata": {},
   "outputs": [
    {
     "data": {
      "text/plain": [
       "<matplotlib.axes._subplots.AxesSubplot at 0x28676360eb0>"
      ]
     },
     "execution_count": 10,
     "metadata": {},
     "output_type": "execute_result"
    },
    {
     "data": {
      "image/png": "[encoded data removed]",
      "text/plain": [
       "<Figure size 432x288 with 1 Axes>"
      ]
     },
     "metadata": {
      "needs_background": "light"
     },
     "output_type": "display_data"
    }
   ],
   "source": [
    "top_product['Manual Classification'].value_counts().plot(kind='bar')"
   ]
  },
  {
   "cell_type": "code",
   "execution_count": 11,
   "metadata": {},
   "outputs": [
    {
     "data": {
      "text/plain": [
       "array([[<matplotlib.axes._subplots.AxesSubplot object at 0x000002864A7F0A00>]],\n",
       "      dtype=object)"
      ]
     },
     "execution_count": 11,
     "metadata": {},
     "output_type": "execute_result"
    },
    {
     "data": {
      "image/png": "[encoded data removed]",
      "text/plain": [
       "<Figure size 432x288 with 1 Axes>"
      ]
     },
     "metadata": {
      "needs_background": "light"
     },
     "output_type": "display_data"
    }
   ],
   "source": [
    "top_product.hist(column='Sigma * Chi Squared')"
   ]
  },
  {
   "cell_type": "code",
   "execution_count": 12,
   "metadata": {},
   "outputs": [
    {
     "data": {
      "text/plain": [
       "array([<matplotlib.axes._subplots.AxesSubplot object at 0x0000028660822820>,\n",
       "       <matplotlib.axes._subplots.AxesSubplot object at 0x0000028613828670>],\n",
       "      dtype=object)"
      ]
     },
     "execution_count": 12,
     "metadata": {},
     "output_type": "execute_result"
    },
    {
     "data": {
      "image/png": "[encoded data removed]",
      "text/plain": [
       "<Figure size 432x288 with 2 Axes>"
      ]
     },
     "metadata": {
      "needs_background": "light"
     },
     "output_type": "display_data"
    }
   ],
   "source": [
    "top_product.hist(column='Sigma * Chi Squared', by='Manual Classification', bins=10)"
   ]
  },
  {
   "cell_type": "code",
   "execution_count": 13,
   "metadata": {},
   "outputs": [
    {
     "data": {
      "text/plain": [
       "<matplotlib.axes._subplots.AxesSubplot at 0x2867fb31cd0>"
      ]
     },
     "execution_count": 13,
     "metadata": {},
     "output_type": "execute_result"
    },
    {
     "data": {
      "image/png": "[encoded data removed]",
      "text/plain": [
       "<Figure size 432x288 with 1 Axes>"
      ]
     },
     "metadata": {
      "needs_background": "light"
     },
     "output_type": "display_data"
    }
   ],
   "source": [
    "pandas.DataFrame({\n",
    "    'Real': top_product[top_product['Manual Classification'] == 'Real']['Sigma * Chi Squared'],\n",
    "    'Junk': top_product[top_product['Manual Classification'] == 'Junk']['Sigma * Chi Squared'],\n",
    "}).plot.hist(bins=10, stacked=True)"
   ]
  }
 ],
 "metadata": {
  "kernelspec": {
   "display_name": "Python 3",
   "language": "python",
   "name": "python3"
  },
  "language_info": {
   "codemirror_mode": {
    "name": "ipython",
    "version": 3
   },
   "file_extension": ".py",
   "mimetype": "text/x-python",
   "name": "python",
   "nbconvert_exporter": "python",
   "pygments_lexer": "ipython3",
   "version": "3.8.3"
  }
 },
 "nbformat": 4,
 "nbformat_minor": 4
}
