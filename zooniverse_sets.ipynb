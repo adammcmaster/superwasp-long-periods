{
 "cells": [
  {
   "cell_type": "code",
   "execution_count": 1,
   "metadata": {},
   "outputs": [],
   "source": [
    "import pandas\n",
    "\n",
    "import swasputils"
   ]
  },
  {
   "cell_type": "code",
   "execution_count": 2,
   "metadata": {},
   "outputs": [
    {
     "name": "stderr",
     "output_type": "stream",
     "text": [
      "C:\\Users\\anm83\\Anaconda3\\lib\\site-packages\\IPython\\core\\interactiveshell.py:3338: DtypeWarning: Columns (7,8) have mixed types.Specify dtype option on import or set low_memory=False.\n",
      "  if (await self.run_code(code, result,  async_=asy)):\n",
      "C:\\Users\\anm83\\Anaconda3\\lib\\site-packages\\numpy\\lib\\arraysetops.py:580: FutureWarning: elementwise comparison failed; returning scalar instead, but in the future will perform elementwise comparison\n",
      "  mask |= (ar1 == a)\n"
     ]
    }
   ],
   "source": [
    "zoo_subjects = swasputils.ZooniverseSubjects()"
   ]
  },
  {
   "cell_type": "code",
   "execution_count": 3,
   "metadata": {},
   "outputs": [
    {
     "data": {
      "text/plain": [
       "<AxesSubplot:title={'center':'Active subjects in workflows'}>"
      ]
     },
     "execution_count": 3,
     "metadata": {},
     "output_type": "execute_result"
    },
    {
     "data": {
      "image/png": "[encoded data removed]",
      "text/plain": [
       "<Figure size 432x288 with 1 Axes>"
      ]
     },
     "metadata": {
      "needs_background": "light"
     },
     "output_type": "display_data"
    }
   ],
   "source": [
    "SKIP_WORKFLOWS = {5214,17339,17444,17445}\n",
    "sets_in_workflows = set()\n",
    "for workflow_id, wf_subjects in zoo_subjects.workflows.items():\n",
    "    if workflow_id in SKIP_WORKFLOWS:\n",
    "        continue\n",
    "    sets_in_workflows |= set(wf_subjects.subject_sets)\n",
    "\n",
    "workflow_counts = {}\n",
    "for workflow_id, wf_subjects in zoo_subjects.workflows.items():\n",
    "    if workflow_id in SKIP_WORKFLOWS:\n",
    "        continue\n",
    "    workflow_counts[workflow_id] = []\n",
    "    for set_id in sets_in_workflows:\n",
    "        subjects = wf_subjects.get_subject_set(set_id)\n",
    "        workflow_counts[workflow_id].append(len(subjects.active.df))\n",
    "\n",
    "pandas.DataFrame(\n",
    "    workflow_counts,\n",
    "    index=list(map(str, sets_in_workflows))\n",
    ").plot.bar( \n",
    "    title='Active subjects in workflows',\n",
    ")"
   ]
  }
 ],
 "metadata": {
  "kernelspec": {
   "display_name": "Python 3",
   "language": "python",
   "name": "python3"
  },
  "language_info": {
   "codemirror_mode": {
    "name": "ipython",
    "version": 3
   },
   "file_extension": ".py",
   "mimetype": "text/x-python",
   "name": "python",
   "nbconvert_exporter": "python",
   "pygments_lexer": "ipython3",
   "version": "3.8.5"
  }
 },
 "nbformat": 4,
 "nbformat_minor": 4
}
